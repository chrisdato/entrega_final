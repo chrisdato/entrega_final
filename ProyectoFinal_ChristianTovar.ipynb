{
  "nbformat": 4,
  "nbformat_minor": 0,
  "metadata": {
    "colab": {
      "provenance": [],
      "authorship_tag": "ABX9TyPdYqmGPeMKfALiTn2vZ3kj",
      "include_colab_link": true
    },
    "kernelspec": {
      "name": "python3",
      "display_name": "Python 3"
    },
    "language_info": {
      "name": "python"
    }
  },
  "cells": [
    {
      "cell_type": "markdown",
      "metadata": {
        "id": "view-in-github",
        "colab_type": "text"
      },
      "source": [
        "<a href=\"https://colab.research.google.com/github/chrisdato/entrega_final/blob/main/ProyectoFinal_ChristianTovar.ipynb\" target=\"_parent\"><img src=\"https://colab.research.google.com/assets/colab-badge.svg\" alt=\"Open In Colab\"/></a>"
      ]
    },
    {
      "cell_type": "code",
      "source": [
        "from google.colab import drive\n",
        "drive.mount('/content/drive')"
      ],
      "metadata": {
        "colab": {
          "base_uri": "https://localhost:8080/"
        },
        "id": "y6uGDO1z6zqX",
        "outputId": "c2e841e0-a0bf-4f90-f362-ca623e4cc6a6"
      },
      "execution_count": null,
      "outputs": [
        {
          "output_type": "stream",
          "name": "stdout",
          "text": [
            "Mounted at /content/drive\n"
          ]
        }
      ]
    },
    {
      "cell_type": "code",
      "execution_count": null,
      "metadata": {
        "id": "aCjJO2g36t4w"
      },
      "outputs": [],
      "source": [
        "import os"
      ]
    },
    {
      "cell_type": "code",
      "source": [
        "%cd '/content/drive/MyDrive/Datasets'"
      ],
      "metadata": {
        "colab": {
          "base_uri": "https://localhost:8080/"
        },
        "id": "GqpZ6Vve6wUQ",
        "outputId": "1418f75a-1d87-4ef5-9ba8-94d76c97314d"
      },
      "execution_count": null,
      "outputs": [
        {
          "output_type": "stream",
          "name": "stdout",
          "text": [
            "/content/drive/MyDrive/Datasets\n"
          ]
        }
      ]
    },
    {
      "cell_type": "code",
      "source": [
        "import pandas as pd\n",
        "import numpy as np\n",
        "import matplotlib.pyplot as plt\n",
        "import seaborn as sns"
      ],
      "metadata": {
        "id": "ExE-v09M6wWn"
      },
      "execution_count": null,
      "outputs": []
    },
    {
      "cell_type": "markdown",
      "source": [
        "# Importamos los datasets"
      ],
      "metadata": {
        "id": "bD0MVOLi-YoK"
      }
    },
    {
      "cell_type": "code",
      "source": [
        "suicide = pd.read_csv('Suicide.csv')\n",
        "suicide"
      ],
      "metadata": {
        "colab": {
          "base_uri": "https://localhost:8080/",
          "height": 658
        },
        "id": "Ct3RKIZ87f3P",
        "outputId": "b119b72e-719b-4e18-e683-b0a45276753d"
      },
      "execution_count": null,
      "outputs": [
        {
          "output_type": "execute_result",
          "data": {
            "text/plain": [
              "                        country  year     sex          age  suicides_no  \\\n",
              "0                       Albania  1987    male  15-24 years         21.0   \n",
              "1                       Albania  1987    male  35-54 years         16.0   \n",
              "2                       Albania  1987  female  15-24 years         14.0   \n",
              "3                       Albania  1987    male    75+ years          1.0   \n",
              "4                       Albania  1987    male  25-34 years          9.0   \n",
              "...                         ...   ...     ...          ...          ...   \n",
              "31751                   Ukraine  2017  female    75+ years        256.0   \n",
              "31752            United Kingdom  2017  female    75+ years        104.0   \n",
              "31753  United States of America  2017  female    75+ years        501.0   \n",
              "31754                   Uruguay  2017  female    75+ years         14.0   \n",
              "31755                Uzbekistan  2017  female    75+ years          3.0   \n",
              "\n",
              "       population  suicides/100k pop                  country-year  \\\n",
              "0          312900           6.710000                   Albania1987   \n",
              "1          308000           5.190000                   Albania1987   \n",
              "2          289700           4.830000                   Albania1987   \n",
              "3           21800           4.590000                   Albania1987   \n",
              "4          274300           3.280000                   Albania1987   \n",
              "...           ...                ...                           ...   \n",
              "31751    44831135           0.571032                   Ukraine2017   \n",
              "31752    66058859           0.157435            United Kingdom2017   \n",
              "31753   325122128           0.154096  United States of America2017   \n",
              "31754     3422200           0.409094                   Uruguay2017   \n",
              "31755    32388600           0.009263                Uzbekistan2017   \n",
              "\n",
              "       HDI for year  gdp_for_year ($)   gdp_per_capita ($)       generation  \n",
              "0               NaN     2,15,66,24,900          796.000000     Generation X  \n",
              "1               NaN     2,15,66,24,900          796.000000           Silent  \n",
              "2               NaN     2,15,66,24,900          796.000000     Generation X  \n",
              "3               NaN     2,15,66,24,900          796.000000  G.I. Generation  \n",
              "4               NaN     2,15,66,24,900          796.000000          Boomers  \n",
              "...             ...                ...                 ...              ...  \n",
              "31751      0.785458           1.12E+11         2638.326055  G.I. Generation  \n",
              "31752      0.914735           2.70E+12        40857.755580  G.I. Generation  \n",
              "31753      0.918620           1.95E+13        60109.655730  G.I. Generation  \n",
              "31754      0.816745        64233966861        18690.893840  G.I. Generation  \n",
              "31755      0.691258        62081323299         1916.764642  G.I. Generation  \n",
              "\n",
              "[31756 rows x 12 columns]"
            ],
            "text/html": [
              "\n",
              "  <div id=\"df-8f811254-f0d2-4530-a545-f82278fe357b\">\n",
              "    <div class=\"colab-df-container\">\n",
              "      <div>\n",
              "<style scoped>\n",
              "    .dataframe tbody tr th:only-of-type {\n",
              "        vertical-align: middle;\n",
              "    }\n",
              "\n",
              "    .dataframe tbody tr th {\n",
              "        vertical-align: top;\n",
              "    }\n",
              "\n",
              "    .dataframe thead th {\n",
              "        text-align: right;\n",
              "    }\n",
              "</style>\n",
              "<table border=\"1\" class=\"dataframe\">\n",
              "  <thead>\n",
              "    <tr style=\"text-align: right;\">\n",
              "      <th></th>\n",
              "      <th>country</th>\n",
              "      <th>year</th>\n",
              "      <th>sex</th>\n",
              "      <th>age</th>\n",
              "      <th>suicides_no</th>\n",
              "      <th>population</th>\n",
              "      <th>suicides/100k pop</th>\n",
              "      <th>country-year</th>\n",
              "      <th>HDI for year</th>\n",
              "      <th>gdp_for_year ($)</th>\n",
              "      <th>gdp_per_capita ($)</th>\n",
              "      <th>generation</th>\n",
              "    </tr>\n",
              "  </thead>\n",
              "  <tbody>\n",
              "    <tr>\n",
              "      <th>0</th>\n",
              "      <td>Albania</td>\n",
              "      <td>1987</td>\n",
              "      <td>male</td>\n",
              "      <td>15-24 years</td>\n",
              "      <td>21.0</td>\n",
              "      <td>312900</td>\n",
              "      <td>6.710000</td>\n",
              "      <td>Albania1987</td>\n",
              "      <td>NaN</td>\n",
              "      <td>2,15,66,24,900</td>\n",
              "      <td>796.000000</td>\n",
              "      <td>Generation X</td>\n",
              "    </tr>\n",
              "    <tr>\n",
              "      <th>1</th>\n",
              "      <td>Albania</td>\n",
              "      <td>1987</td>\n",
              "      <td>male</td>\n",
              "      <td>35-54 years</td>\n",
              "      <td>16.0</td>\n",
              "      <td>308000</td>\n",
              "      <td>5.190000</td>\n",
              "      <td>Albania1987</td>\n",
              "      <td>NaN</td>\n",
              "      <td>2,15,66,24,900</td>\n",
              "      <td>796.000000</td>\n",
              "      <td>Silent</td>\n",
              "    </tr>\n",
              "    <tr>\n",
              "      <th>2</th>\n",
              "      <td>Albania</td>\n",
              "      <td>1987</td>\n",
              "      <td>female</td>\n",
              "      <td>15-24 years</td>\n",
              "      <td>14.0</td>\n",
              "      <td>289700</td>\n",
              "      <td>4.830000</td>\n",
              "      <td>Albania1987</td>\n",
              "      <td>NaN</td>\n",
              "      <td>2,15,66,24,900</td>\n",
              "      <td>796.000000</td>\n",
              "      <td>Generation X</td>\n",
              "    </tr>\n",
              "    <tr>\n",
              "      <th>3</th>\n",
              "      <td>Albania</td>\n",
              "      <td>1987</td>\n",
              "      <td>male</td>\n",
              "      <td>75+ years</td>\n",
              "      <td>1.0</td>\n",
              "      <td>21800</td>\n",
              "      <td>4.590000</td>\n",
              "      <td>Albania1987</td>\n",
              "      <td>NaN</td>\n",
              "      <td>2,15,66,24,900</td>\n",
              "      <td>796.000000</td>\n",
              "      <td>G.I. Generation</td>\n",
              "    </tr>\n",
              "    <tr>\n",
              "      <th>4</th>\n",
              "      <td>Albania</td>\n",
              "      <td>1987</td>\n",
              "      <td>male</td>\n",
              "      <td>25-34 years</td>\n",
              "      <td>9.0</td>\n",
              "      <td>274300</td>\n",
              "      <td>3.280000</td>\n",
              "      <td>Albania1987</td>\n",
              "      <td>NaN</td>\n",
              "      <td>2,15,66,24,900</td>\n",
              "      <td>796.000000</td>\n",
              "      <td>Boomers</td>\n",
              "    </tr>\n",
              "    <tr>\n",
              "      <th>...</th>\n",
              "      <td>...</td>\n",
              "      <td>...</td>\n",
              "      <td>...</td>\n",
              "      <td>...</td>\n",
              "      <td>...</td>\n",
              "      <td>...</td>\n",
              "      <td>...</td>\n",
              "      <td>...</td>\n",
              "      <td>...</td>\n",
              "      <td>...</td>\n",
              "      <td>...</td>\n",
              "      <td>...</td>\n",
              "    </tr>\n",
              "    <tr>\n",
              "      <th>31751</th>\n",
              "      <td>Ukraine</td>\n",
              "      <td>2017</td>\n",
              "      <td>female</td>\n",
              "      <td>75+ years</td>\n",
              "      <td>256.0</td>\n",
              "      <td>44831135</td>\n",
              "      <td>0.571032</td>\n",
              "      <td>Ukraine2017</td>\n",
              "      <td>0.785458</td>\n",
              "      <td>1.12E+11</td>\n",
              "      <td>2638.326055</td>\n",
              "      <td>G.I. Generation</td>\n",
              "    </tr>\n",
              "    <tr>\n",
              "      <th>31752</th>\n",
              "      <td>United Kingdom</td>\n",
              "      <td>2017</td>\n",
              "      <td>female</td>\n",
              "      <td>75+ years</td>\n",
              "      <td>104.0</td>\n",
              "      <td>66058859</td>\n",
              "      <td>0.157435</td>\n",
              "      <td>United Kingdom2017</td>\n",
              "      <td>0.914735</td>\n",
              "      <td>2.70E+12</td>\n",
              "      <td>40857.755580</td>\n",
              "      <td>G.I. Generation</td>\n",
              "    </tr>\n",
              "    <tr>\n",
              "      <th>31753</th>\n",
              "      <td>United States of America</td>\n",
              "      <td>2017</td>\n",
              "      <td>female</td>\n",
              "      <td>75+ years</td>\n",
              "      <td>501.0</td>\n",
              "      <td>325122128</td>\n",
              "      <td>0.154096</td>\n",
              "      <td>United States of America2017</td>\n",
              "      <td>0.918620</td>\n",
              "      <td>1.95E+13</td>\n",
              "      <td>60109.655730</td>\n",
              "      <td>G.I. Generation</td>\n",
              "    </tr>\n",
              "    <tr>\n",
              "      <th>31754</th>\n",
              "      <td>Uruguay</td>\n",
              "      <td>2017</td>\n",
              "      <td>female</td>\n",
              "      <td>75+ years</td>\n",
              "      <td>14.0</td>\n",
              "      <td>3422200</td>\n",
              "      <td>0.409094</td>\n",
              "      <td>Uruguay2017</td>\n",
              "      <td>0.816745</td>\n",
              "      <td>64233966861</td>\n",
              "      <td>18690.893840</td>\n",
              "      <td>G.I. Generation</td>\n",
              "    </tr>\n",
              "    <tr>\n",
              "      <th>31755</th>\n",
              "      <td>Uzbekistan</td>\n",
              "      <td>2017</td>\n",
              "      <td>female</td>\n",
              "      <td>75+ years</td>\n",
              "      <td>3.0</td>\n",
              "      <td>32388600</td>\n",
              "      <td>0.009263</td>\n",
              "      <td>Uzbekistan2017</td>\n",
              "      <td>0.691258</td>\n",
              "      <td>62081323299</td>\n",
              "      <td>1916.764642</td>\n",
              "      <td>G.I. Generation</td>\n",
              "    </tr>\n",
              "  </tbody>\n",
              "</table>\n",
              "<p>31756 rows × 12 columns</p>\n",
              "</div>\n",
              "      <button class=\"colab-df-convert\" onclick=\"convertToInteractive('df-8f811254-f0d2-4530-a545-f82278fe357b')\"\n",
              "              title=\"Convert this dataframe to an interactive table.\"\n",
              "              style=\"display:none;\">\n",
              "        \n",
              "  <svg xmlns=\"http://www.w3.org/2000/svg\" height=\"24px\"viewBox=\"0 0 24 24\"\n",
              "       width=\"24px\">\n",
              "    <path d=\"M0 0h24v24H0V0z\" fill=\"none\"/>\n",
              "    <path d=\"M18.56 5.44l.94 2.06.94-2.06 2.06-.94-2.06-.94-.94-2.06-.94 2.06-2.06.94zm-11 1L8.5 8.5l.94-2.06 2.06-.94-2.06-.94L8.5 2.5l-.94 2.06-2.06.94zm10 10l.94 2.06.94-2.06 2.06-.94-2.06-.94-.94-2.06-.94 2.06-2.06.94z\"/><path d=\"M17.41 7.96l-1.37-1.37c-.4-.4-.92-.59-1.43-.59-.52 0-1.04.2-1.43.59L10.3 9.45l-7.72 7.72c-.78.78-.78 2.05 0 2.83L4 21.41c.39.39.9.59 1.41.59.51 0 1.02-.2 1.41-.59l7.78-7.78 2.81-2.81c.8-.78.8-2.07 0-2.86zM5.41 20L4 18.59l7.72-7.72 1.47 1.35L5.41 20z\"/>\n",
              "  </svg>\n",
              "      </button>\n",
              "      \n",
              "  <style>\n",
              "    .colab-df-container {\n",
              "      display:flex;\n",
              "      flex-wrap:wrap;\n",
              "      gap: 12px;\n",
              "    }\n",
              "\n",
              "    .colab-df-convert {\n",
              "      background-color: #E8F0FE;\n",
              "      border: none;\n",
              "      border-radius: 50%;\n",
              "      cursor: pointer;\n",
              "      display: none;\n",
              "      fill: #1967D2;\n",
              "      height: 32px;\n",
              "      padding: 0 0 0 0;\n",
              "      width: 32px;\n",
              "    }\n",
              "\n",
              "    .colab-df-convert:hover {\n",
              "      background-color: #E2EBFA;\n",
              "      box-shadow: 0px 1px 2px rgba(60, 64, 67, 0.3), 0px 1px 3px 1px rgba(60, 64, 67, 0.15);\n",
              "      fill: #174EA6;\n",
              "    }\n",
              "\n",
              "    [theme=dark] .colab-df-convert {\n",
              "      background-color: #3B4455;\n",
              "      fill: #D2E3FC;\n",
              "    }\n",
              "\n",
              "    [theme=dark] .colab-df-convert:hover {\n",
              "      background-color: #434B5C;\n",
              "      box-shadow: 0px 1px 3px 1px rgba(0, 0, 0, 0.15);\n",
              "      filter: drop-shadow(0px 1px 2px rgba(0, 0, 0, 0.3));\n",
              "      fill: #FFFFFF;\n",
              "    }\n",
              "  </style>\n",
              "\n",
              "      <script>\n",
              "        const buttonEl =\n",
              "          document.querySelector('#df-8f811254-f0d2-4530-a545-f82278fe357b button.colab-df-convert');\n",
              "        buttonEl.style.display =\n",
              "          google.colab.kernel.accessAllowed ? 'block' : 'none';\n",
              "\n",
              "        async function convertToInteractive(key) {\n",
              "          const element = document.querySelector('#df-8f811254-f0d2-4530-a545-f82278fe357b');\n",
              "          const dataTable =\n",
              "            await google.colab.kernel.invokeFunction('convertToInteractive',\n",
              "                                                     [key], {});\n",
              "          if (!dataTable) return;\n",
              "\n",
              "          const docLinkHtml = 'Like what you see? Visit the ' +\n",
              "            '<a target=\"_blank\" href=https://colab.research.google.com/notebooks/data_table.ipynb>data table notebook</a>'\n",
              "            + ' to learn more about interactive tables.';\n",
              "          element.innerHTML = '';\n",
              "          dataTable['output_type'] = 'display_data';\n",
              "          await google.colab.output.renderOutput(dataTable, element);\n",
              "          const docLink = document.createElement('div');\n",
              "          docLink.innerHTML = docLinkHtml;\n",
              "          element.appendChild(docLink);\n",
              "        }\n",
              "      </script>\n",
              "    </div>\n",
              "  </div>\n",
              "  "
            ]
          },
          "metadata": {},
          "execution_count": 5
        }
      ]
    },
    {
      "cell_type": "code",
      "source": [
        "suicide.head(5)"
      ],
      "metadata": {
        "colab": {
          "base_uri": "https://localhost:8080/",
          "height": 206
        },
        "id": "zcvGdQFg7f6A",
        "outputId": "4b7a94f6-c296-42e0-d840-7b00a5c2c48f"
      },
      "execution_count": null,
      "outputs": [
        {
          "output_type": "execute_result",
          "data": {
            "text/plain": [
              "   country  year     sex          age  suicides_no  population  \\\n",
              "0  Albania  1987    male  15-24 years         21.0      312900   \n",
              "1  Albania  1987    male  35-54 years         16.0      308000   \n",
              "2  Albania  1987  female  15-24 years         14.0      289700   \n",
              "3  Albania  1987    male    75+ years          1.0       21800   \n",
              "4  Albania  1987    male  25-34 years          9.0      274300   \n",
              "\n",
              "   suicides/100k pop country-year  HDI for year  gdp_for_year ($)   \\\n",
              "0               6.71  Albania1987           NaN     2,15,66,24,900   \n",
              "1               5.19  Albania1987           NaN     2,15,66,24,900   \n",
              "2               4.83  Albania1987           NaN     2,15,66,24,900   \n",
              "3               4.59  Albania1987           NaN     2,15,66,24,900   \n",
              "4               3.28  Albania1987           NaN     2,15,66,24,900   \n",
              "\n",
              "   gdp_per_capita ($)       generation  \n",
              "0               796.0     Generation X  \n",
              "1               796.0           Silent  \n",
              "2               796.0     Generation X  \n",
              "3               796.0  G.I. Generation  \n",
              "4               796.0          Boomers  "
            ],
            "text/html": [
              "\n",
              "  <div id=\"df-c8185b50-3d23-4c7d-a137-510b5087d8bc\">\n",
              "    <div class=\"colab-df-container\">\n",
              "      <div>\n",
              "<style scoped>\n",
              "    .dataframe tbody tr th:only-of-type {\n",
              "        vertical-align: middle;\n",
              "    }\n",
              "\n",
              "    .dataframe tbody tr th {\n",
              "        vertical-align: top;\n",
              "    }\n",
              "\n",
              "    .dataframe thead th {\n",
              "        text-align: right;\n",
              "    }\n",
              "</style>\n",
              "<table border=\"1\" class=\"dataframe\">\n",
              "  <thead>\n",
              "    <tr style=\"text-align: right;\">\n",
              "      <th></th>\n",
              "      <th>country</th>\n",
              "      <th>year</th>\n",
              "      <th>sex</th>\n",
              "      <th>age</th>\n",
              "      <th>suicides_no</th>\n",
              "      <th>population</th>\n",
              "      <th>suicides/100k pop</th>\n",
              "      <th>country-year</th>\n",
              "      <th>HDI for year</th>\n",
              "      <th>gdp_for_year ($)</th>\n",
              "      <th>gdp_per_capita ($)</th>\n",
              "      <th>generation</th>\n",
              "    </tr>\n",
              "  </thead>\n",
              "  <tbody>\n",
              "    <tr>\n",
              "      <th>0</th>\n",
              "      <td>Albania</td>\n",
              "      <td>1987</td>\n",
              "      <td>male</td>\n",
              "      <td>15-24 years</td>\n",
              "      <td>21.0</td>\n",
              "      <td>312900</td>\n",
              "      <td>6.71</td>\n",
              "      <td>Albania1987</td>\n",
              "      <td>NaN</td>\n",
              "      <td>2,15,66,24,900</td>\n",
              "      <td>796.0</td>\n",
              "      <td>Generation X</td>\n",
              "    </tr>\n",
              "    <tr>\n",
              "      <th>1</th>\n",
              "      <td>Albania</td>\n",
              "      <td>1987</td>\n",
              "      <td>male</td>\n",
              "      <td>35-54 years</td>\n",
              "      <td>16.0</td>\n",
              "      <td>308000</td>\n",
              "      <td>5.19</td>\n",
              "      <td>Albania1987</td>\n",
              "      <td>NaN</td>\n",
              "      <td>2,15,66,24,900</td>\n",
              "      <td>796.0</td>\n",
              "      <td>Silent</td>\n",
              "    </tr>\n",
              "    <tr>\n",
              "      <th>2</th>\n",
              "      <td>Albania</td>\n",
              "      <td>1987</td>\n",
              "      <td>female</td>\n",
              "      <td>15-24 years</td>\n",
              "      <td>14.0</td>\n",
              "      <td>289700</td>\n",
              "      <td>4.83</td>\n",
              "      <td>Albania1987</td>\n",
              "      <td>NaN</td>\n",
              "      <td>2,15,66,24,900</td>\n",
              "      <td>796.0</td>\n",
              "      <td>Generation X</td>\n",
              "    </tr>\n",
              "    <tr>\n",
              "      <th>3</th>\n",
              "      <td>Albania</td>\n",
              "      <td>1987</td>\n",
              "      <td>male</td>\n",
              "      <td>75+ years</td>\n",
              "      <td>1.0</td>\n",
              "      <td>21800</td>\n",
              "      <td>4.59</td>\n",
              "      <td>Albania1987</td>\n",
              "      <td>NaN</td>\n",
              "      <td>2,15,66,24,900</td>\n",
              "      <td>796.0</td>\n",
              "      <td>G.I. Generation</td>\n",
              "    </tr>\n",
              "    <tr>\n",
              "      <th>4</th>\n",
              "      <td>Albania</td>\n",
              "      <td>1987</td>\n",
              "      <td>male</td>\n",
              "      <td>25-34 years</td>\n",
              "      <td>9.0</td>\n",
              "      <td>274300</td>\n",
              "      <td>3.28</td>\n",
              "      <td>Albania1987</td>\n",
              "      <td>NaN</td>\n",
              "      <td>2,15,66,24,900</td>\n",
              "      <td>796.0</td>\n",
              "      <td>Boomers</td>\n",
              "    </tr>\n",
              "  </tbody>\n",
              "</table>\n",
              "</div>\n",
              "      <button class=\"colab-df-convert\" onclick=\"convertToInteractive('df-c8185b50-3d23-4c7d-a137-510b5087d8bc')\"\n",
              "              title=\"Convert this dataframe to an interactive table.\"\n",
              "              style=\"display:none;\">\n",
              "        \n",
              "  <svg xmlns=\"http://www.w3.org/2000/svg\" height=\"24px\"viewBox=\"0 0 24 24\"\n",
              "       width=\"24px\">\n",
              "    <path d=\"M0 0h24v24H0V0z\" fill=\"none\"/>\n",
              "    <path d=\"M18.56 5.44l.94 2.06.94-2.06 2.06-.94-2.06-.94-.94-2.06-.94 2.06-2.06.94zm-11 1L8.5 8.5l.94-2.06 2.06-.94-2.06-.94L8.5 2.5l-.94 2.06-2.06.94zm10 10l.94 2.06.94-2.06 2.06-.94-2.06-.94-.94-2.06-.94 2.06-2.06.94z\"/><path d=\"M17.41 7.96l-1.37-1.37c-.4-.4-.92-.59-1.43-.59-.52 0-1.04.2-1.43.59L10.3 9.45l-7.72 7.72c-.78.78-.78 2.05 0 2.83L4 21.41c.39.39.9.59 1.41.59.51 0 1.02-.2 1.41-.59l7.78-7.78 2.81-2.81c.8-.78.8-2.07 0-2.86zM5.41 20L4 18.59l7.72-7.72 1.47 1.35L5.41 20z\"/>\n",
              "  </svg>\n",
              "      </button>\n",
              "      \n",
              "  <style>\n",
              "    .colab-df-container {\n",
              "      display:flex;\n",
              "      flex-wrap:wrap;\n",
              "      gap: 12px;\n",
              "    }\n",
              "\n",
              "    .colab-df-convert {\n",
              "      background-color: #E8F0FE;\n",
              "      border: none;\n",
              "      border-radius: 50%;\n",
              "      cursor: pointer;\n",
              "      display: none;\n",
              "      fill: #1967D2;\n",
              "      height: 32px;\n",
              "      padding: 0 0 0 0;\n",
              "      width: 32px;\n",
              "    }\n",
              "\n",
              "    .colab-df-convert:hover {\n",
              "      background-color: #E2EBFA;\n",
              "      box-shadow: 0px 1px 2px rgba(60, 64, 67, 0.3), 0px 1px 3px 1px rgba(60, 64, 67, 0.15);\n",
              "      fill: #174EA6;\n",
              "    }\n",
              "\n",
              "    [theme=dark] .colab-df-convert {\n",
              "      background-color: #3B4455;\n",
              "      fill: #D2E3FC;\n",
              "    }\n",
              "\n",
              "    [theme=dark] .colab-df-convert:hover {\n",
              "      background-color: #434B5C;\n",
              "      box-shadow: 0px 1px 3px 1px rgba(0, 0, 0, 0.15);\n",
              "      filter: drop-shadow(0px 1px 2px rgba(0, 0, 0, 0.3));\n",
              "      fill: #FFFFFF;\n",
              "    }\n",
              "  </style>\n",
              "\n",
              "      <script>\n",
              "        const buttonEl =\n",
              "          document.querySelector('#df-c8185b50-3d23-4c7d-a137-510b5087d8bc button.colab-df-convert');\n",
              "        buttonEl.style.display =\n",
              "          google.colab.kernel.accessAllowed ? 'block' : 'none';\n",
              "\n",
              "        async function convertToInteractive(key) {\n",
              "          const element = document.querySelector('#df-c8185b50-3d23-4c7d-a137-510b5087d8bc');\n",
              "          const dataTable =\n",
              "            await google.colab.kernel.invokeFunction('convertToInteractive',\n",
              "                                                     [key], {});\n",
              "          if (!dataTable) return;\n",
              "\n",
              "          const docLinkHtml = 'Like what you see? Visit the ' +\n",
              "            '<a target=\"_blank\" href=https://colab.research.google.com/notebooks/data_table.ipynb>data table notebook</a>'\n",
              "            + ' to learn more about interactive tables.';\n",
              "          element.innerHTML = '';\n",
              "          dataTable['output_type'] = 'display_data';\n",
              "          await google.colab.output.renderOutput(dataTable, element);\n",
              "          const docLink = document.createElement('div');\n",
              "          docLink.innerHTML = docLinkHtml;\n",
              "          element.appendChild(docLink);\n",
              "        }\n",
              "      </script>\n",
              "    </div>\n",
              "  </div>\n",
              "  "
            ]
          },
          "metadata": {},
          "execution_count": 6
        }
      ]
    },
    {
      "cell_type": "code",
      "source": [
        "suicide.sample(5)"
      ],
      "metadata": {
        "colab": {
          "base_uri": "https://localhost:8080/",
          "height": 354
        },
        "id": "EkKBCeuv7gAf",
        "outputId": "cf84ac3f-6809-444f-bb21-98ad1ad034a0"
      },
      "execution_count": null,
      "outputs": [
        {
          "output_type": "execute_result",
          "data": {
            "text/plain": [
              "              country  year     sex          age  suicides_no  population  \\\n",
              "24114        Suriname  1991  female  35-54 years          1.0       37467   \n",
              "26739  United Kingdom  2006  female   5-14 years          3.0     3532047   \n",
              "10496         Grenada  1995    male  15-24 years          0.0        9818   \n",
              "23081        Slovenia  1998  female  15-24 years         13.0      143000   \n",
              "29171          Kuwait  2020    male  55-74 years          NaN     4360444   \n",
              "\n",
              "       suicides/100k pop        country-year  HDI for year  \\\n",
              "24114               2.67        Suriname1991           NaN   \n",
              "26739               0.08  United Kingdom2006           NaN   \n",
              "10496               0.00         Grenada1995           NaN   \n",
              "23081               9.09        Slovenia1998           NaN   \n",
              "29171               0.00          Kuwait2020      0.815154   \n",
              "\n",
              "        gdp_for_year ($)   gdp_per_capita ($)       generation  \n",
              "24114        44,83,00,000          1235.00000          Boomers  \n",
              "26739  26,92,61,26,95,492         47163.00000       Millenials  \n",
              "10496        34,21,72,519          3869.00000     Generation X  \n",
              "23081     22,12,54,35,372         11767.00000     Generation X  \n",
              "29171            1.06E+11         24811.76971  G.I. Generation  "
            ],
            "text/html": [
              "\n",
              "  <div id=\"df-9a567708-2bd6-4354-a2df-be599b49dd84\">\n",
              "    <div class=\"colab-df-container\">\n",
              "      <div>\n",
              "<style scoped>\n",
              "    .dataframe tbody tr th:only-of-type {\n",
              "        vertical-align: middle;\n",
              "    }\n",
              "\n",
              "    .dataframe tbody tr th {\n",
              "        vertical-align: top;\n",
              "    }\n",
              "\n",
              "    .dataframe thead th {\n",
              "        text-align: right;\n",
              "    }\n",
              "</style>\n",
              "<table border=\"1\" class=\"dataframe\">\n",
              "  <thead>\n",
              "    <tr style=\"text-align: right;\">\n",
              "      <th></th>\n",
              "      <th>country</th>\n",
              "      <th>year</th>\n",
              "      <th>sex</th>\n",
              "      <th>age</th>\n",
              "      <th>suicides_no</th>\n",
              "      <th>population</th>\n",
              "      <th>suicides/100k pop</th>\n",
              "      <th>country-year</th>\n",
              "      <th>HDI for year</th>\n",
              "      <th>gdp_for_year ($)</th>\n",
              "      <th>gdp_per_capita ($)</th>\n",
              "      <th>generation</th>\n",
              "    </tr>\n",
              "  </thead>\n",
              "  <tbody>\n",
              "    <tr>\n",
              "      <th>24114</th>\n",
              "      <td>Suriname</td>\n",
              "      <td>1991</td>\n",
              "      <td>female</td>\n",
              "      <td>35-54 years</td>\n",
              "      <td>1.0</td>\n",
              "      <td>37467</td>\n",
              "      <td>2.67</td>\n",
              "      <td>Suriname1991</td>\n",
              "      <td>NaN</td>\n",
              "      <td>44,83,00,000</td>\n",
              "      <td>1235.00000</td>\n",
              "      <td>Boomers</td>\n",
              "    </tr>\n",
              "    <tr>\n",
              "      <th>26739</th>\n",
              "      <td>United Kingdom</td>\n",
              "      <td>2006</td>\n",
              "      <td>female</td>\n",
              "      <td>5-14 years</td>\n",
              "      <td>3.0</td>\n",
              "      <td>3532047</td>\n",
              "      <td>0.08</td>\n",
              "      <td>United Kingdom2006</td>\n",
              "      <td>NaN</td>\n",
              "      <td>26,92,61,26,95,492</td>\n",
              "      <td>47163.00000</td>\n",
              "      <td>Millenials</td>\n",
              "    </tr>\n",
              "    <tr>\n",
              "      <th>10496</th>\n",
              "      <td>Grenada</td>\n",
              "      <td>1995</td>\n",
              "      <td>male</td>\n",
              "      <td>15-24 years</td>\n",
              "      <td>0.0</td>\n",
              "      <td>9818</td>\n",
              "      <td>0.00</td>\n",
              "      <td>Grenada1995</td>\n",
              "      <td>NaN</td>\n",
              "      <td>34,21,72,519</td>\n",
              "      <td>3869.00000</td>\n",
              "      <td>Generation X</td>\n",
              "    </tr>\n",
              "    <tr>\n",
              "      <th>23081</th>\n",
              "      <td>Slovenia</td>\n",
              "      <td>1998</td>\n",
              "      <td>female</td>\n",
              "      <td>15-24 years</td>\n",
              "      <td>13.0</td>\n",
              "      <td>143000</td>\n",
              "      <td>9.09</td>\n",
              "      <td>Slovenia1998</td>\n",
              "      <td>NaN</td>\n",
              "      <td>22,12,54,35,372</td>\n",
              "      <td>11767.00000</td>\n",
              "      <td>Generation X</td>\n",
              "    </tr>\n",
              "    <tr>\n",
              "      <th>29171</th>\n",
              "      <td>Kuwait</td>\n",
              "      <td>2020</td>\n",
              "      <td>male</td>\n",
              "      <td>55-74 years</td>\n",
              "      <td>NaN</td>\n",
              "      <td>4360444</td>\n",
              "      <td>0.00</td>\n",
              "      <td>Kuwait2020</td>\n",
              "      <td>0.815154</td>\n",
              "      <td>1.06E+11</td>\n",
              "      <td>24811.76971</td>\n",
              "      <td>G.I. Generation</td>\n",
              "    </tr>\n",
              "  </tbody>\n",
              "</table>\n",
              "</div>\n",
              "      <button class=\"colab-df-convert\" onclick=\"convertToInteractive('df-9a567708-2bd6-4354-a2df-be599b49dd84')\"\n",
              "              title=\"Convert this dataframe to an interactive table.\"\n",
              "              style=\"display:none;\">\n",
              "        \n",
              "  <svg xmlns=\"http://www.w3.org/2000/svg\" height=\"24px\"viewBox=\"0 0 24 24\"\n",
              "       width=\"24px\">\n",
              "    <path d=\"M0 0h24v24H0V0z\" fill=\"none\"/>\n",
              "    <path d=\"M18.56 5.44l.94 2.06.94-2.06 2.06-.94-2.06-.94-.94-2.06-.94 2.06-2.06.94zm-11 1L8.5 8.5l.94-2.06 2.06-.94-2.06-.94L8.5 2.5l-.94 2.06-2.06.94zm10 10l.94 2.06.94-2.06 2.06-.94-2.06-.94-.94-2.06-.94 2.06-2.06.94z\"/><path d=\"M17.41 7.96l-1.37-1.37c-.4-.4-.92-.59-1.43-.59-.52 0-1.04.2-1.43.59L10.3 9.45l-7.72 7.72c-.78.78-.78 2.05 0 2.83L4 21.41c.39.39.9.59 1.41.59.51 0 1.02-.2 1.41-.59l7.78-7.78 2.81-2.81c.8-.78.8-2.07 0-2.86zM5.41 20L4 18.59l7.72-7.72 1.47 1.35L5.41 20z\"/>\n",
              "  </svg>\n",
              "      </button>\n",
              "      \n",
              "  <style>\n",
              "    .colab-df-container {\n",
              "      display:flex;\n",
              "      flex-wrap:wrap;\n",
              "      gap: 12px;\n",
              "    }\n",
              "\n",
              "    .colab-df-convert {\n",
              "      background-color: #E8F0FE;\n",
              "      border: none;\n",
              "      border-radius: 50%;\n",
              "      cursor: pointer;\n",
              "      display: none;\n",
              "      fill: #1967D2;\n",
              "      height: 32px;\n",
              "      padding: 0 0 0 0;\n",
              "      width: 32px;\n",
              "    }\n",
              "\n",
              "    .colab-df-convert:hover {\n",
              "      background-color: #E2EBFA;\n",
              "      box-shadow: 0px 1px 2px rgba(60, 64, 67, 0.3), 0px 1px 3px 1px rgba(60, 64, 67, 0.15);\n",
              "      fill: #174EA6;\n",
              "    }\n",
              "\n",
              "    [theme=dark] .colab-df-convert {\n",
              "      background-color: #3B4455;\n",
              "      fill: #D2E3FC;\n",
              "    }\n",
              "\n",
              "    [theme=dark] .colab-df-convert:hover {\n",
              "      background-color: #434B5C;\n",
              "      box-shadow: 0px 1px 3px 1px rgba(0, 0, 0, 0.15);\n",
              "      filter: drop-shadow(0px 1px 2px rgba(0, 0, 0, 0.3));\n",
              "      fill: #FFFFFF;\n",
              "    }\n",
              "  </style>\n",
              "\n",
              "      <script>\n",
              "        const buttonEl =\n",
              "          document.querySelector('#df-9a567708-2bd6-4354-a2df-be599b49dd84 button.colab-df-convert');\n",
              "        buttonEl.style.display =\n",
              "          google.colab.kernel.accessAllowed ? 'block' : 'none';\n",
              "\n",
              "        async function convertToInteractive(key) {\n",
              "          const element = document.querySelector('#df-9a567708-2bd6-4354-a2df-be599b49dd84');\n",
              "          const dataTable =\n",
              "            await google.colab.kernel.invokeFunction('convertToInteractive',\n",
              "                                                     [key], {});\n",
              "          if (!dataTable) return;\n",
              "\n",
              "          const docLinkHtml = 'Like what you see? Visit the ' +\n",
              "            '<a target=\"_blank\" href=https://colab.research.google.com/notebooks/data_table.ipynb>data table notebook</a>'\n",
              "            + ' to learn more about interactive tables.';\n",
              "          element.innerHTML = '';\n",
              "          dataTable['output_type'] = 'display_data';\n",
              "          await google.colab.output.renderOutput(dataTable, element);\n",
              "          const docLink = document.createElement('div');\n",
              "          docLink.innerHTML = docLinkHtml;\n",
              "          element.appendChild(docLink);\n",
              "        }\n",
              "      </script>\n",
              "    </div>\n",
              "  </div>\n",
              "  "
            ]
          },
          "metadata": {},
          "execution_count": 7
        }
      ]
    },
    {
      "cell_type": "code",
      "source": [
        "suicide.tail(5)"
      ],
      "metadata": {
        "colab": {
          "base_uri": "https://localhost:8080/",
          "height": 354
        },
        "id": "h4hUhE-S7gC6",
        "outputId": "4d6d8ce5-2d05-4b47-bdff-6d27869d1671"
      },
      "execution_count": null,
      "outputs": [
        {
          "output_type": "execute_result",
          "data": {
            "text/plain": [
              "                        country  year     sex        age  suicides_no  \\\n",
              "31751                   Ukraine  2017  female  75+ years        256.0   \n",
              "31752            United Kingdom  2017  female  75+ years        104.0   \n",
              "31753  United States of America  2017  female  75+ years        501.0   \n",
              "31754                   Uruguay  2017  female  75+ years         14.0   \n",
              "31755                Uzbekistan  2017  female  75+ years          3.0   \n",
              "\n",
              "       population  suicides/100k pop                  country-year  \\\n",
              "31751    44831135           0.571032                   Ukraine2017   \n",
              "31752    66058859           0.157435            United Kingdom2017   \n",
              "31753   325122128           0.154096  United States of America2017   \n",
              "31754     3422200           0.409094                   Uruguay2017   \n",
              "31755    32388600           0.009263                Uzbekistan2017   \n",
              "\n",
              "       HDI for year  gdp_for_year ($)   gdp_per_capita ($)       generation  \n",
              "31751      0.785458           1.12E+11         2638.326055  G.I. Generation  \n",
              "31752      0.914735           2.70E+12        40857.755580  G.I. Generation  \n",
              "31753      0.918620           1.95E+13        60109.655730  G.I. Generation  \n",
              "31754      0.816745        64233966861        18690.893840  G.I. Generation  \n",
              "31755      0.691258        62081323299         1916.764642  G.I. Generation  "
            ],
            "text/html": [
              "\n",
              "  <div id=\"df-1d35801c-4ca4-4813-bbd7-3177e4967d30\">\n",
              "    <div class=\"colab-df-container\">\n",
              "      <div>\n",
              "<style scoped>\n",
              "    .dataframe tbody tr th:only-of-type {\n",
              "        vertical-align: middle;\n",
              "    }\n",
              "\n",
              "    .dataframe tbody tr th {\n",
              "        vertical-align: top;\n",
              "    }\n",
              "\n",
              "    .dataframe thead th {\n",
              "        text-align: right;\n",
              "    }\n",
              "</style>\n",
              "<table border=\"1\" class=\"dataframe\">\n",
              "  <thead>\n",
              "    <tr style=\"text-align: right;\">\n",
              "      <th></th>\n",
              "      <th>country</th>\n",
              "      <th>year</th>\n",
              "      <th>sex</th>\n",
              "      <th>age</th>\n",
              "      <th>suicides_no</th>\n",
              "      <th>population</th>\n",
              "      <th>suicides/100k pop</th>\n",
              "      <th>country-year</th>\n",
              "      <th>HDI for year</th>\n",
              "      <th>gdp_for_year ($)</th>\n",
              "      <th>gdp_per_capita ($)</th>\n",
              "      <th>generation</th>\n",
              "    </tr>\n",
              "  </thead>\n",
              "  <tbody>\n",
              "    <tr>\n",
              "      <th>31751</th>\n",
              "      <td>Ukraine</td>\n",
              "      <td>2017</td>\n",
              "      <td>female</td>\n",
              "      <td>75+ years</td>\n",
              "      <td>256.0</td>\n",
              "      <td>44831135</td>\n",
              "      <td>0.571032</td>\n",
              "      <td>Ukraine2017</td>\n",
              "      <td>0.785458</td>\n",
              "      <td>1.12E+11</td>\n",
              "      <td>2638.326055</td>\n",
              "      <td>G.I. Generation</td>\n",
              "    </tr>\n",
              "    <tr>\n",
              "      <th>31752</th>\n",
              "      <td>United Kingdom</td>\n",
              "      <td>2017</td>\n",
              "      <td>female</td>\n",
              "      <td>75+ years</td>\n",
              "      <td>104.0</td>\n",
              "      <td>66058859</td>\n",
              "      <td>0.157435</td>\n",
              "      <td>United Kingdom2017</td>\n",
              "      <td>0.914735</td>\n",
              "      <td>2.70E+12</td>\n",
              "      <td>40857.755580</td>\n",
              "      <td>G.I. Generation</td>\n",
              "    </tr>\n",
              "    <tr>\n",
              "      <th>31753</th>\n",
              "      <td>United States of America</td>\n",
              "      <td>2017</td>\n",
              "      <td>female</td>\n",
              "      <td>75+ years</td>\n",
              "      <td>501.0</td>\n",
              "      <td>325122128</td>\n",
              "      <td>0.154096</td>\n",
              "      <td>United States of America2017</td>\n",
              "      <td>0.918620</td>\n",
              "      <td>1.95E+13</td>\n",
              "      <td>60109.655730</td>\n",
              "      <td>G.I. Generation</td>\n",
              "    </tr>\n",
              "    <tr>\n",
              "      <th>31754</th>\n",
              "      <td>Uruguay</td>\n",
              "      <td>2017</td>\n",
              "      <td>female</td>\n",
              "      <td>75+ years</td>\n",
              "      <td>14.0</td>\n",
              "      <td>3422200</td>\n",
              "      <td>0.409094</td>\n",
              "      <td>Uruguay2017</td>\n",
              "      <td>0.816745</td>\n",
              "      <td>64233966861</td>\n",
              "      <td>18690.893840</td>\n",
              "      <td>G.I. Generation</td>\n",
              "    </tr>\n",
              "    <tr>\n",
              "      <th>31755</th>\n",
              "      <td>Uzbekistan</td>\n",
              "      <td>2017</td>\n",
              "      <td>female</td>\n",
              "      <td>75+ years</td>\n",
              "      <td>3.0</td>\n",
              "      <td>32388600</td>\n",
              "      <td>0.009263</td>\n",
              "      <td>Uzbekistan2017</td>\n",
              "      <td>0.691258</td>\n",
              "      <td>62081323299</td>\n",
              "      <td>1916.764642</td>\n",
              "      <td>G.I. Generation</td>\n",
              "    </tr>\n",
              "  </tbody>\n",
              "</table>\n",
              "</div>\n",
              "      <button class=\"colab-df-convert\" onclick=\"convertToInteractive('df-1d35801c-4ca4-4813-bbd7-3177e4967d30')\"\n",
              "              title=\"Convert this dataframe to an interactive table.\"\n",
              "              style=\"display:none;\">\n",
              "        \n",
              "  <svg xmlns=\"http://www.w3.org/2000/svg\" height=\"24px\"viewBox=\"0 0 24 24\"\n",
              "       width=\"24px\">\n",
              "    <path d=\"M0 0h24v24H0V0z\" fill=\"none\"/>\n",
              "    <path d=\"M18.56 5.44l.94 2.06.94-2.06 2.06-.94-2.06-.94-.94-2.06-.94 2.06-2.06.94zm-11 1L8.5 8.5l.94-2.06 2.06-.94-2.06-.94L8.5 2.5l-.94 2.06-2.06.94zm10 10l.94 2.06.94-2.06 2.06-.94-2.06-.94-.94-2.06-.94 2.06-2.06.94z\"/><path d=\"M17.41 7.96l-1.37-1.37c-.4-.4-.92-.59-1.43-.59-.52 0-1.04.2-1.43.59L10.3 9.45l-7.72 7.72c-.78.78-.78 2.05 0 2.83L4 21.41c.39.39.9.59 1.41.59.51 0 1.02-.2 1.41-.59l7.78-7.78 2.81-2.81c.8-.78.8-2.07 0-2.86zM5.41 20L4 18.59l7.72-7.72 1.47 1.35L5.41 20z\"/>\n",
              "  </svg>\n",
              "      </button>\n",
              "      \n",
              "  <style>\n",
              "    .colab-df-container {\n",
              "      display:flex;\n",
              "      flex-wrap:wrap;\n",
              "      gap: 12px;\n",
              "    }\n",
              "\n",
              "    .colab-df-convert {\n",
              "      background-color: #E8F0FE;\n",
              "      border: none;\n",
              "      border-radius: 50%;\n",
              "      cursor: pointer;\n",
              "      display: none;\n",
              "      fill: #1967D2;\n",
              "      height: 32px;\n",
              "      padding: 0 0 0 0;\n",
              "      width: 32px;\n",
              "    }\n",
              "\n",
              "    .colab-df-convert:hover {\n",
              "      background-color: #E2EBFA;\n",
              "      box-shadow: 0px 1px 2px rgba(60, 64, 67, 0.3), 0px 1px 3px 1px rgba(60, 64, 67, 0.15);\n",
              "      fill: #174EA6;\n",
              "    }\n",
              "\n",
              "    [theme=dark] .colab-df-convert {\n",
              "      background-color: #3B4455;\n",
              "      fill: #D2E3FC;\n",
              "    }\n",
              "\n",
              "    [theme=dark] .colab-df-convert:hover {\n",
              "      background-color: #434B5C;\n",
              "      box-shadow: 0px 1px 3px 1px rgba(0, 0, 0, 0.15);\n",
              "      filter: drop-shadow(0px 1px 2px rgba(0, 0, 0, 0.3));\n",
              "      fill: #FFFFFF;\n",
              "    }\n",
              "  </style>\n",
              "\n",
              "      <script>\n",
              "        const buttonEl =\n",
              "          document.querySelector('#df-1d35801c-4ca4-4813-bbd7-3177e4967d30 button.colab-df-convert');\n",
              "        buttonEl.style.display =\n",
              "          google.colab.kernel.accessAllowed ? 'block' : 'none';\n",
              "\n",
              "        async function convertToInteractive(key) {\n",
              "          const element = document.querySelector('#df-1d35801c-4ca4-4813-bbd7-3177e4967d30');\n",
              "          const dataTable =\n",
              "            await google.colab.kernel.invokeFunction('convertToInteractive',\n",
              "                                                     [key], {});\n",
              "          if (!dataTable) return;\n",
              "\n",
              "          const docLinkHtml = 'Like what you see? Visit the ' +\n",
              "            '<a target=\"_blank\" href=https://colab.research.google.com/notebooks/data_table.ipynb>data table notebook</a>'\n",
              "            + ' to learn more about interactive tables.';\n",
              "          element.innerHTML = '';\n",
              "          dataTable['output_type'] = 'display_data';\n",
              "          await google.colab.output.renderOutput(dataTable, element);\n",
              "          const docLink = document.createElement('div');\n",
              "          docLink.innerHTML = docLinkHtml;\n",
              "          element.appendChild(docLink);\n",
              "        }\n",
              "      </script>\n",
              "    </div>\n",
              "  </div>\n",
              "  "
            ]
          },
          "metadata": {},
          "execution_count": 8
        }
      ]
    },
    {
      "cell_type": "code",
      "source": [
        "suicide.shape"
      ],
      "metadata": {
        "colab": {
          "base_uri": "https://localhost:8080/"
        },
        "id": "bhTwzVzZA-Pt",
        "outputId": "d8754ba5-03a2-4444-8f61-4a88c587b061"
      },
      "execution_count": null,
      "outputs": [
        {
          "output_type": "execute_result",
          "data": {
            "text/plain": [
              "(31756, 12)"
            ]
          },
          "metadata": {},
          "execution_count": 9
        }
      ]
    },
    {
      "cell_type": "code",
      "source": [
        "suicide.isnull().sum()"
      ],
      "metadata": {
        "colab": {
          "base_uri": "https://localhost:8080/"
        },
        "id": "IFA5G2bDA2nh",
        "outputId": "bbf80846-cfb4-4b65-cbc8-d98e4753a267"
      },
      "execution_count": null,
      "outputs": [
        {
          "output_type": "execute_result",
          "data": {
            "text/plain": [
              "country                   0\n",
              "year                      0\n",
              "sex                       0\n",
              "age                       0\n",
              "suicides_no            1200\n",
              "population                0\n",
              "suicides/100k pop         0\n",
              "country-year              0\n",
              "HDI for year          19456\n",
              " gdp_for_year ($)         0\n",
              "gdp_per_capita ($)        0\n",
              "generation                0\n",
              "dtype: int64"
            ]
          },
          "metadata": {},
          "execution_count": 10
        }
      ]
    },
    {
      "cell_type": "code",
      "source": [
        "games = pd.read_csv('vgsales.csv')\n",
        "games"
      ],
      "metadata": {
        "colab": {
          "base_uri": "https://localhost:8080/",
          "height": 423
        },
        "id": "NJjkmSkyAdLE",
        "outputId": "68b189d7-04ee-482e-c030-cc451d213c40"
      },
      "execution_count": null,
      "outputs": [
        {
          "output_type": "execute_result",
          "data": {
            "text/plain": [
              "        Rank                                              Name Platform  \\\n",
              "0          1                                        Wii Sports      Wii   \n",
              "1          2                                 Super Mario Bros.      NES   \n",
              "2          3                                    Mario Kart Wii      Wii   \n",
              "3          4                                 Wii Sports Resort      Wii   \n",
              "4          5                          Pokemon Red/Pokemon Blue       GB   \n",
              "...      ...                                               ...      ...   \n",
              "16593  16596                Woody Woodpecker in Crazy Castle 5      GBA   \n",
              "16594  16597                     Men in Black II: Alien Escape       GC   \n",
              "16595  16598  SCORE International Baja 1000: The Official Game      PS2   \n",
              "16596  16599                                        Know How 2       DS   \n",
              "16597  16600                                  Spirits & Spells      GBA   \n",
              "\n",
              "         Year         Genre   Publisher  NA_Sales  EU_Sales  JP_Sales  \\\n",
              "0      2006.0        Sports    Nintendo     41.49     29.02      3.77   \n",
              "1      1985.0      Platform    Nintendo     29.08      3.58      6.81   \n",
              "2      2008.0        Racing    Nintendo     15.85     12.88      3.79   \n",
              "3      2009.0        Sports    Nintendo     15.75     11.01      3.28   \n",
              "4      1996.0  Role-Playing    Nintendo     11.27      8.89     10.22   \n",
              "...       ...           ...         ...       ...       ...       ...   \n",
              "16593  2002.0      Platform       Kemco      0.01      0.00      0.00   \n",
              "16594  2003.0       Shooter  Infogrames      0.01      0.00      0.00   \n",
              "16595  2008.0        Racing  Activision      0.00      0.00      0.00   \n",
              "16596  2010.0        Puzzle    7G//AMES      0.00      0.01      0.00   \n",
              "16597  2003.0      Platform     Wanadoo      0.01      0.00      0.00   \n",
              "\n",
              "       Other_Sales  Global_Sales  \n",
              "0             8.46         82.74  \n",
              "1             0.77         40.24  \n",
              "2             3.31         35.82  \n",
              "3             2.96         33.00  \n",
              "4             1.00         31.37  \n",
              "...            ...           ...  \n",
              "16593         0.00          0.01  \n",
              "16594         0.00          0.01  \n",
              "16595         0.00          0.01  \n",
              "16596         0.00          0.01  \n",
              "16597         0.00          0.01  \n",
              "\n",
              "[16598 rows x 11 columns]"
            ],
            "text/html": [
              "\n",
              "  <div id=\"df-9ca452c7-e1f0-44ec-9882-4fdd09397a8c\">\n",
              "    <div class=\"colab-df-container\">\n",
              "      <div>\n",
              "<style scoped>\n",
              "    .dataframe tbody tr th:only-of-type {\n",
              "        vertical-align: middle;\n",
              "    }\n",
              "\n",
              "    .dataframe tbody tr th {\n",
              "        vertical-align: top;\n",
              "    }\n",
              "\n",
              "    .dataframe thead th {\n",
              "        text-align: right;\n",
              "    }\n",
              "</style>\n",
              "<table border=\"1\" class=\"dataframe\">\n",
              "  <thead>\n",
              "    <tr style=\"text-align: right;\">\n",
              "      <th></th>\n",
              "      <th>Rank</th>\n",
              "      <th>Name</th>\n",
              "      <th>Platform</th>\n",
              "      <th>Year</th>\n",
              "      <th>Genre</th>\n",
              "      <th>Publisher</th>\n",
              "      <th>NA_Sales</th>\n",
              "      <th>EU_Sales</th>\n",
              "      <th>JP_Sales</th>\n",
              "      <th>Other_Sales</th>\n",
              "      <th>Global_Sales</th>\n",
              "    </tr>\n",
              "  </thead>\n",
              "  <tbody>\n",
              "    <tr>\n",
              "      <th>0</th>\n",
              "      <td>1</td>\n",
              "      <td>Wii Sports</td>\n",
              "      <td>Wii</td>\n",
              "      <td>2006.0</td>\n",
              "      <td>Sports</td>\n",
              "      <td>Nintendo</td>\n",
              "      <td>41.49</td>\n",
              "      <td>29.02</td>\n",
              "      <td>3.77</td>\n",
              "      <td>8.46</td>\n",
              "      <td>82.74</td>\n",
              "    </tr>\n",
              "    <tr>\n",
              "      <th>1</th>\n",
              "      <td>2</td>\n",
              "      <td>Super Mario Bros.</td>\n",
              "      <td>NES</td>\n",
              "      <td>1985.0</td>\n",
              "      <td>Platform</td>\n",
              "      <td>Nintendo</td>\n",
              "      <td>29.08</td>\n",
              "      <td>3.58</td>\n",
              "      <td>6.81</td>\n",
              "      <td>0.77</td>\n",
              "      <td>40.24</td>\n",
              "    </tr>\n",
              "    <tr>\n",
              "      <th>2</th>\n",
              "      <td>3</td>\n",
              "      <td>Mario Kart Wii</td>\n",
              "      <td>Wii</td>\n",
              "      <td>2008.0</td>\n",
              "      <td>Racing</td>\n",
              "      <td>Nintendo</td>\n",
              "      <td>15.85</td>\n",
              "      <td>12.88</td>\n",
              "      <td>3.79</td>\n",
              "      <td>3.31</td>\n",
              "      <td>35.82</td>\n",
              "    </tr>\n",
              "    <tr>\n",
              "      <th>3</th>\n",
              "      <td>4</td>\n",
              "      <td>Wii Sports Resort</td>\n",
              "      <td>Wii</td>\n",
              "      <td>2009.0</td>\n",
              "      <td>Sports</td>\n",
              "      <td>Nintendo</td>\n",
              "      <td>15.75</td>\n",
              "      <td>11.01</td>\n",
              "      <td>3.28</td>\n",
              "      <td>2.96</td>\n",
              "      <td>33.00</td>\n",
              "    </tr>\n",
              "    <tr>\n",
              "      <th>4</th>\n",
              "      <td>5</td>\n",
              "      <td>Pokemon Red/Pokemon Blue</td>\n",
              "      <td>GB</td>\n",
              "      <td>1996.0</td>\n",
              "      <td>Role-Playing</td>\n",
              "      <td>Nintendo</td>\n",
              "      <td>11.27</td>\n",
              "      <td>8.89</td>\n",
              "      <td>10.22</td>\n",
              "      <td>1.00</td>\n",
              "      <td>31.37</td>\n",
              "    </tr>\n",
              "    <tr>\n",
              "      <th>...</th>\n",
              "      <td>...</td>\n",
              "      <td>...</td>\n",
              "      <td>...</td>\n",
              "      <td>...</td>\n",
              "      <td>...</td>\n",
              "      <td>...</td>\n",
              "      <td>...</td>\n",
              "      <td>...</td>\n",
              "      <td>...</td>\n",
              "      <td>...</td>\n",
              "      <td>...</td>\n",
              "    </tr>\n",
              "    <tr>\n",
              "      <th>16593</th>\n",
              "      <td>16596</td>\n",
              "      <td>Woody Woodpecker in Crazy Castle 5</td>\n",
              "      <td>GBA</td>\n",
              "      <td>2002.0</td>\n",
              "      <td>Platform</td>\n",
              "      <td>Kemco</td>\n",
              "      <td>0.01</td>\n",
              "      <td>0.00</td>\n",
              "      <td>0.00</td>\n",
              "      <td>0.00</td>\n",
              "      <td>0.01</td>\n",
              "    </tr>\n",
              "    <tr>\n",
              "      <th>16594</th>\n",
              "      <td>16597</td>\n",
              "      <td>Men in Black II: Alien Escape</td>\n",
              "      <td>GC</td>\n",
              "      <td>2003.0</td>\n",
              "      <td>Shooter</td>\n",
              "      <td>Infogrames</td>\n",
              "      <td>0.01</td>\n",
              "      <td>0.00</td>\n",
              "      <td>0.00</td>\n",
              "      <td>0.00</td>\n",
              "      <td>0.01</td>\n",
              "    </tr>\n",
              "    <tr>\n",
              "      <th>16595</th>\n",
              "      <td>16598</td>\n",
              "      <td>SCORE International Baja 1000: The Official Game</td>\n",
              "      <td>PS2</td>\n",
              "      <td>2008.0</td>\n",
              "      <td>Racing</td>\n",
              "      <td>Activision</td>\n",
              "      <td>0.00</td>\n",
              "      <td>0.00</td>\n",
              "      <td>0.00</td>\n",
              "      <td>0.00</td>\n",
              "      <td>0.01</td>\n",
              "    </tr>\n",
              "    <tr>\n",
              "      <th>16596</th>\n",
              "      <td>16599</td>\n",
              "      <td>Know How 2</td>\n",
              "      <td>DS</td>\n",
              "      <td>2010.0</td>\n",
              "      <td>Puzzle</td>\n",
              "      <td>7G//AMES</td>\n",
              "      <td>0.00</td>\n",
              "      <td>0.01</td>\n",
              "      <td>0.00</td>\n",
              "      <td>0.00</td>\n",
              "      <td>0.01</td>\n",
              "    </tr>\n",
              "    <tr>\n",
              "      <th>16597</th>\n",
              "      <td>16600</td>\n",
              "      <td>Spirits &amp; Spells</td>\n",
              "      <td>GBA</td>\n",
              "      <td>2003.0</td>\n",
              "      <td>Platform</td>\n",
              "      <td>Wanadoo</td>\n",
              "      <td>0.01</td>\n",
              "      <td>0.00</td>\n",
              "      <td>0.00</td>\n",
              "      <td>0.00</td>\n",
              "      <td>0.01</td>\n",
              "    </tr>\n",
              "  </tbody>\n",
              "</table>\n",
              "<p>16598 rows × 11 columns</p>\n",
              "</div>\n",
              "      <button class=\"colab-df-convert\" onclick=\"convertToInteractive('df-9ca452c7-e1f0-44ec-9882-4fdd09397a8c')\"\n",
              "              title=\"Convert this dataframe to an interactive table.\"\n",
              "              style=\"display:none;\">\n",
              "        \n",
              "  <svg xmlns=\"http://www.w3.org/2000/svg\" height=\"24px\"viewBox=\"0 0 24 24\"\n",
              "       width=\"24px\">\n",
              "    <path d=\"M0 0h24v24H0V0z\" fill=\"none\"/>\n",
              "    <path d=\"M18.56 5.44l.94 2.06.94-2.06 2.06-.94-2.06-.94-.94-2.06-.94 2.06-2.06.94zm-11 1L8.5 8.5l.94-2.06 2.06-.94-2.06-.94L8.5 2.5l-.94 2.06-2.06.94zm10 10l.94 2.06.94-2.06 2.06-.94-2.06-.94-.94-2.06-.94 2.06-2.06.94z\"/><path d=\"M17.41 7.96l-1.37-1.37c-.4-.4-.92-.59-1.43-.59-.52 0-1.04.2-1.43.59L10.3 9.45l-7.72 7.72c-.78.78-.78 2.05 0 2.83L4 21.41c.39.39.9.59 1.41.59.51 0 1.02-.2 1.41-.59l7.78-7.78 2.81-2.81c.8-.78.8-2.07 0-2.86zM5.41 20L4 18.59l7.72-7.72 1.47 1.35L5.41 20z\"/>\n",
              "  </svg>\n",
              "      </button>\n",
              "      \n",
              "  <style>\n",
              "    .colab-df-container {\n",
              "      display:flex;\n",
              "      flex-wrap:wrap;\n",
              "      gap: 12px;\n",
              "    }\n",
              "\n",
              "    .colab-df-convert {\n",
              "      background-color: #E8F0FE;\n",
              "      border: none;\n",
              "      border-radius: 50%;\n",
              "      cursor: pointer;\n",
              "      display: none;\n",
              "      fill: #1967D2;\n",
              "      height: 32px;\n",
              "      padding: 0 0 0 0;\n",
              "      width: 32px;\n",
              "    }\n",
              "\n",
              "    .colab-df-convert:hover {\n",
              "      background-color: #E2EBFA;\n",
              "      box-shadow: 0px 1px 2px rgba(60, 64, 67, 0.3), 0px 1px 3px 1px rgba(60, 64, 67, 0.15);\n",
              "      fill: #174EA6;\n",
              "    }\n",
              "\n",
              "    [theme=dark] .colab-df-convert {\n",
              "      background-color: #3B4455;\n",
              "      fill: #D2E3FC;\n",
              "    }\n",
              "\n",
              "    [theme=dark] .colab-df-convert:hover {\n",
              "      background-color: #434B5C;\n",
              "      box-shadow: 0px 1px 3px 1px rgba(0, 0, 0, 0.15);\n",
              "      filter: drop-shadow(0px 1px 2px rgba(0, 0, 0, 0.3));\n",
              "      fill: #FFFFFF;\n",
              "    }\n",
              "  </style>\n",
              "\n",
              "      <script>\n",
              "        const buttonEl =\n",
              "          document.querySelector('#df-9ca452c7-e1f0-44ec-9882-4fdd09397a8c button.colab-df-convert');\n",
              "        buttonEl.style.display =\n",
              "          google.colab.kernel.accessAllowed ? 'block' : 'none';\n",
              "\n",
              "        async function convertToInteractive(key) {\n",
              "          const element = document.querySelector('#df-9ca452c7-e1f0-44ec-9882-4fdd09397a8c');\n",
              "          const dataTable =\n",
              "            await google.colab.kernel.invokeFunction('convertToInteractive',\n",
              "                                                     [key], {});\n",
              "          if (!dataTable) return;\n",
              "\n",
              "          const docLinkHtml = 'Like what you see? Visit the ' +\n",
              "            '<a target=\"_blank\" href=https://colab.research.google.com/notebooks/data_table.ipynb>data table notebook</a>'\n",
              "            + ' to learn more about interactive tables.';\n",
              "          element.innerHTML = '';\n",
              "          dataTable['output_type'] = 'display_data';\n",
              "          await google.colab.output.renderOutput(dataTable, element);\n",
              "          const docLink = document.createElement('div');\n",
              "          docLink.innerHTML = docLinkHtml;\n",
              "          element.appendChild(docLink);\n",
              "        }\n",
              "      </script>\n",
              "    </div>\n",
              "  </div>\n",
              "  "
            ]
          },
          "metadata": {},
          "execution_count": 11
        }
      ]
    },
    {
      "cell_type": "code",
      "source": [
        "games.sample(5)"
      ],
      "metadata": {
        "colab": {
          "base_uri": "https://localhost:8080/",
          "height": 206
        },
        "id": "FcvRzfVeAdPz",
        "outputId": "8e89458d-4323-45fe-f2cd-a757696bc18f"
      },
      "execution_count": null,
      "outputs": [
        {
          "output_type": "execute_result",
          "data": {
            "text/plain": [
              "        Rank                                               Name Platform  \\\n",
              "8648    8650                   Trivial Pursuit: Bet You Know It      Wii   \n",
              "14157  14159  Simple DS Series Vol. 8: The Kanshikikan - Kin...       DS   \n",
              "15828  15831                          The Haunted: Hell's Reach       PC   \n",
              "16239  16242                                    Builder's Block       PS   \n",
              "12241  12243                                       NHL Hitz Pro       XB   \n",
              "\n",
              "         Year      Genre                  Publisher  NA_Sales  EU_Sales  \\\n",
              "8648   2011.0       Misc            Electronic Arts      0.10      0.04   \n",
              "14157  2006.0  Adventure                D3Publisher      0.00      0.00   \n",
              "15828  2011.0    Shooter                      Visco      0.02      0.00   \n",
              "16239  1999.0   Strategy  EON Digital Entertainment      0.01      0.00   \n",
              "12241  2003.0     Sports               Midway Games      0.05      0.01   \n",
              "\n",
              "       JP_Sales  Other_Sales  Global_Sales  \n",
              "8648       0.00         0.01          0.16  \n",
              "14157      0.03         0.00          0.03  \n",
              "15828      0.00         0.00          0.02  \n",
              "16239      0.00         0.00          0.01  \n",
              "12241      0.00         0.00          0.07  "
            ],
            "text/html": [
              "\n",
              "  <div id=\"df-8a63b23e-f88b-42e1-bf98-546fb895c682\">\n",
              "    <div class=\"colab-df-container\">\n",
              "      <div>\n",
              "<style scoped>\n",
              "    .dataframe tbody tr th:only-of-type {\n",
              "        vertical-align: middle;\n",
              "    }\n",
              "\n",
              "    .dataframe tbody tr th {\n",
              "        vertical-align: top;\n",
              "    }\n",
              "\n",
              "    .dataframe thead th {\n",
              "        text-align: right;\n",
              "    }\n",
              "</style>\n",
              "<table border=\"1\" class=\"dataframe\">\n",
              "  <thead>\n",
              "    <tr style=\"text-align: right;\">\n",
              "      <th></th>\n",
              "      <th>Rank</th>\n",
              "      <th>Name</th>\n",
              "      <th>Platform</th>\n",
              "      <th>Year</th>\n",
              "      <th>Genre</th>\n",
              "      <th>Publisher</th>\n",
              "      <th>NA_Sales</th>\n",
              "      <th>EU_Sales</th>\n",
              "      <th>JP_Sales</th>\n",
              "      <th>Other_Sales</th>\n",
              "      <th>Global_Sales</th>\n",
              "    </tr>\n",
              "  </thead>\n",
              "  <tbody>\n",
              "    <tr>\n",
              "      <th>8648</th>\n",
              "      <td>8650</td>\n",
              "      <td>Trivial Pursuit: Bet You Know It</td>\n",
              "      <td>Wii</td>\n",
              "      <td>2011.0</td>\n",
              "      <td>Misc</td>\n",
              "      <td>Electronic Arts</td>\n",
              "      <td>0.10</td>\n",
              "      <td>0.04</td>\n",
              "      <td>0.00</td>\n",
              "      <td>0.01</td>\n",
              "      <td>0.16</td>\n",
              "    </tr>\n",
              "    <tr>\n",
              "      <th>14157</th>\n",
              "      <td>14159</td>\n",
              "      <td>Simple DS Series Vol. 8: The Kanshikikan - Kin...</td>\n",
              "      <td>DS</td>\n",
              "      <td>2006.0</td>\n",
              "      <td>Adventure</td>\n",
              "      <td>D3Publisher</td>\n",
              "      <td>0.00</td>\n",
              "      <td>0.00</td>\n",
              "      <td>0.03</td>\n",
              "      <td>0.00</td>\n",
              "      <td>0.03</td>\n",
              "    </tr>\n",
              "    <tr>\n",
              "      <th>15828</th>\n",
              "      <td>15831</td>\n",
              "      <td>The Haunted: Hell's Reach</td>\n",
              "      <td>PC</td>\n",
              "      <td>2011.0</td>\n",
              "      <td>Shooter</td>\n",
              "      <td>Visco</td>\n",
              "      <td>0.02</td>\n",
              "      <td>0.00</td>\n",
              "      <td>0.00</td>\n",
              "      <td>0.00</td>\n",
              "      <td>0.02</td>\n",
              "    </tr>\n",
              "    <tr>\n",
              "      <th>16239</th>\n",
              "      <td>16242</td>\n",
              "      <td>Builder's Block</td>\n",
              "      <td>PS</td>\n",
              "      <td>1999.0</td>\n",
              "      <td>Strategy</td>\n",
              "      <td>EON Digital Entertainment</td>\n",
              "      <td>0.01</td>\n",
              "      <td>0.00</td>\n",
              "      <td>0.00</td>\n",
              "      <td>0.00</td>\n",
              "      <td>0.01</td>\n",
              "    </tr>\n",
              "    <tr>\n",
              "      <th>12241</th>\n",
              "      <td>12243</td>\n",
              "      <td>NHL Hitz Pro</td>\n",
              "      <td>XB</td>\n",
              "      <td>2003.0</td>\n",
              "      <td>Sports</td>\n",
              "      <td>Midway Games</td>\n",
              "      <td>0.05</td>\n",
              "      <td>0.01</td>\n",
              "      <td>0.00</td>\n",
              "      <td>0.00</td>\n",
              "      <td>0.07</td>\n",
              "    </tr>\n",
              "  </tbody>\n",
              "</table>\n",
              "</div>\n",
              "      <button class=\"colab-df-convert\" onclick=\"convertToInteractive('df-8a63b23e-f88b-42e1-bf98-546fb895c682')\"\n",
              "              title=\"Convert this dataframe to an interactive table.\"\n",
              "              style=\"display:none;\">\n",
              "        \n",
              "  <svg xmlns=\"http://www.w3.org/2000/svg\" height=\"24px\"viewBox=\"0 0 24 24\"\n",
              "       width=\"24px\">\n",
              "    <path d=\"M0 0h24v24H0V0z\" fill=\"none\"/>\n",
              "    <path d=\"M18.56 5.44l.94 2.06.94-2.06 2.06-.94-2.06-.94-.94-2.06-.94 2.06-2.06.94zm-11 1L8.5 8.5l.94-2.06 2.06-.94-2.06-.94L8.5 2.5l-.94 2.06-2.06.94zm10 10l.94 2.06.94-2.06 2.06-.94-2.06-.94-.94-2.06-.94 2.06-2.06.94z\"/><path d=\"M17.41 7.96l-1.37-1.37c-.4-.4-.92-.59-1.43-.59-.52 0-1.04.2-1.43.59L10.3 9.45l-7.72 7.72c-.78.78-.78 2.05 0 2.83L4 21.41c.39.39.9.59 1.41.59.51 0 1.02-.2 1.41-.59l7.78-7.78 2.81-2.81c.8-.78.8-2.07 0-2.86zM5.41 20L4 18.59l7.72-7.72 1.47 1.35L5.41 20z\"/>\n",
              "  </svg>\n",
              "      </button>\n",
              "      \n",
              "  <style>\n",
              "    .colab-df-container {\n",
              "      display:flex;\n",
              "      flex-wrap:wrap;\n",
              "      gap: 12px;\n",
              "    }\n",
              "\n",
              "    .colab-df-convert {\n",
              "      background-color: #E8F0FE;\n",
              "      border: none;\n",
              "      border-radius: 50%;\n",
              "      cursor: pointer;\n",
              "      display: none;\n",
              "      fill: #1967D2;\n",
              "      height: 32px;\n",
              "      padding: 0 0 0 0;\n",
              "      width: 32px;\n",
              "    }\n",
              "\n",
              "    .colab-df-convert:hover {\n",
              "      background-color: #E2EBFA;\n",
              "      box-shadow: 0px 1px 2px rgba(60, 64, 67, 0.3), 0px 1px 3px 1px rgba(60, 64, 67, 0.15);\n",
              "      fill: #174EA6;\n",
              "    }\n",
              "\n",
              "    [theme=dark] .colab-df-convert {\n",
              "      background-color: #3B4455;\n",
              "      fill: #D2E3FC;\n",
              "    }\n",
              "\n",
              "    [theme=dark] .colab-df-convert:hover {\n",
              "      background-color: #434B5C;\n",
              "      box-shadow: 0px 1px 3px 1px rgba(0, 0, 0, 0.15);\n",
              "      filter: drop-shadow(0px 1px 2px rgba(0, 0, 0, 0.3));\n",
              "      fill: #FFFFFF;\n",
              "    }\n",
              "  </style>\n",
              "\n",
              "      <script>\n",
              "        const buttonEl =\n",
              "          document.querySelector('#df-8a63b23e-f88b-42e1-bf98-546fb895c682 button.colab-df-convert');\n",
              "        buttonEl.style.display =\n",
              "          google.colab.kernel.accessAllowed ? 'block' : 'none';\n",
              "\n",
              "        async function convertToInteractive(key) {\n",
              "          const element = document.querySelector('#df-8a63b23e-f88b-42e1-bf98-546fb895c682');\n",
              "          const dataTable =\n",
              "            await google.colab.kernel.invokeFunction('convertToInteractive',\n",
              "                                                     [key], {});\n",
              "          if (!dataTable) return;\n",
              "\n",
              "          const docLinkHtml = 'Like what you see? Visit the ' +\n",
              "            '<a target=\"_blank\" href=https://colab.research.google.com/notebooks/data_table.ipynb>data table notebook</a>'\n",
              "            + ' to learn more about interactive tables.';\n",
              "          element.innerHTML = '';\n",
              "          dataTable['output_type'] = 'display_data';\n",
              "          await google.colab.output.renderOutput(dataTable, element);\n",
              "          const docLink = document.createElement('div');\n",
              "          docLink.innerHTML = docLinkHtml;\n",
              "          element.appendChild(docLink);\n",
              "        }\n",
              "      </script>\n",
              "    </div>\n",
              "  </div>\n",
              "  "
            ]
          },
          "metadata": {},
          "execution_count": 12
        }
      ]
    },
    {
      "cell_type": "code",
      "source": [
        "games.tail(5)"
      ],
      "metadata": {
        "colab": {
          "base_uri": "https://localhost:8080/",
          "height": 206
        },
        "id": "eMJXCjR6AdSA",
        "outputId": "7cac187e-8d38-40db-c129-714f31442cbe"
      },
      "execution_count": null,
      "outputs": [
        {
          "output_type": "execute_result",
          "data": {
            "text/plain": [
              "        Rank                                              Name Platform  \\\n",
              "16593  16596                Woody Woodpecker in Crazy Castle 5      GBA   \n",
              "16594  16597                     Men in Black II: Alien Escape       GC   \n",
              "16595  16598  SCORE International Baja 1000: The Official Game      PS2   \n",
              "16596  16599                                        Know How 2       DS   \n",
              "16597  16600                                  Spirits & Spells      GBA   \n",
              "\n",
              "         Year     Genre   Publisher  NA_Sales  EU_Sales  JP_Sales  \\\n",
              "16593  2002.0  Platform       Kemco      0.01      0.00       0.0   \n",
              "16594  2003.0   Shooter  Infogrames      0.01      0.00       0.0   \n",
              "16595  2008.0    Racing  Activision      0.00      0.00       0.0   \n",
              "16596  2010.0    Puzzle    7G//AMES      0.00      0.01       0.0   \n",
              "16597  2003.0  Platform     Wanadoo      0.01      0.00       0.0   \n",
              "\n",
              "       Other_Sales  Global_Sales  \n",
              "16593          0.0          0.01  \n",
              "16594          0.0          0.01  \n",
              "16595          0.0          0.01  \n",
              "16596          0.0          0.01  \n",
              "16597          0.0          0.01  "
            ],
            "text/html": [
              "\n",
              "  <div id=\"df-b42438ee-459e-41ba-aa8a-84376a29d7a7\">\n",
              "    <div class=\"colab-df-container\">\n",
              "      <div>\n",
              "<style scoped>\n",
              "    .dataframe tbody tr th:only-of-type {\n",
              "        vertical-align: middle;\n",
              "    }\n",
              "\n",
              "    .dataframe tbody tr th {\n",
              "        vertical-align: top;\n",
              "    }\n",
              "\n",
              "    .dataframe thead th {\n",
              "        text-align: right;\n",
              "    }\n",
              "</style>\n",
              "<table border=\"1\" class=\"dataframe\">\n",
              "  <thead>\n",
              "    <tr style=\"text-align: right;\">\n",
              "      <th></th>\n",
              "      <th>Rank</th>\n",
              "      <th>Name</th>\n",
              "      <th>Platform</th>\n",
              "      <th>Year</th>\n",
              "      <th>Genre</th>\n",
              "      <th>Publisher</th>\n",
              "      <th>NA_Sales</th>\n",
              "      <th>EU_Sales</th>\n",
              "      <th>JP_Sales</th>\n",
              "      <th>Other_Sales</th>\n",
              "      <th>Global_Sales</th>\n",
              "    </tr>\n",
              "  </thead>\n",
              "  <tbody>\n",
              "    <tr>\n",
              "      <th>16593</th>\n",
              "      <td>16596</td>\n",
              "      <td>Woody Woodpecker in Crazy Castle 5</td>\n",
              "      <td>GBA</td>\n",
              "      <td>2002.0</td>\n",
              "      <td>Platform</td>\n",
              "      <td>Kemco</td>\n",
              "      <td>0.01</td>\n",
              "      <td>0.00</td>\n",
              "      <td>0.0</td>\n",
              "      <td>0.0</td>\n",
              "      <td>0.01</td>\n",
              "    </tr>\n",
              "    <tr>\n",
              "      <th>16594</th>\n",
              "      <td>16597</td>\n",
              "      <td>Men in Black II: Alien Escape</td>\n",
              "      <td>GC</td>\n",
              "      <td>2003.0</td>\n",
              "      <td>Shooter</td>\n",
              "      <td>Infogrames</td>\n",
              "      <td>0.01</td>\n",
              "      <td>0.00</td>\n",
              "      <td>0.0</td>\n",
              "      <td>0.0</td>\n",
              "      <td>0.01</td>\n",
              "    </tr>\n",
              "    <tr>\n",
              "      <th>16595</th>\n",
              "      <td>16598</td>\n",
              "      <td>SCORE International Baja 1000: The Official Game</td>\n",
              "      <td>PS2</td>\n",
              "      <td>2008.0</td>\n",
              "      <td>Racing</td>\n",
              "      <td>Activision</td>\n",
              "      <td>0.00</td>\n",
              "      <td>0.00</td>\n",
              "      <td>0.0</td>\n",
              "      <td>0.0</td>\n",
              "      <td>0.01</td>\n",
              "    </tr>\n",
              "    <tr>\n",
              "      <th>16596</th>\n",
              "      <td>16599</td>\n",
              "      <td>Know How 2</td>\n",
              "      <td>DS</td>\n",
              "      <td>2010.0</td>\n",
              "      <td>Puzzle</td>\n",
              "      <td>7G//AMES</td>\n",
              "      <td>0.00</td>\n",
              "      <td>0.01</td>\n",
              "      <td>0.0</td>\n",
              "      <td>0.0</td>\n",
              "      <td>0.01</td>\n",
              "    </tr>\n",
              "    <tr>\n",
              "      <th>16597</th>\n",
              "      <td>16600</td>\n",
              "      <td>Spirits &amp; Spells</td>\n",
              "      <td>GBA</td>\n",
              "      <td>2003.0</td>\n",
              "      <td>Platform</td>\n",
              "      <td>Wanadoo</td>\n",
              "      <td>0.01</td>\n",
              "      <td>0.00</td>\n",
              "      <td>0.0</td>\n",
              "      <td>0.0</td>\n",
              "      <td>0.01</td>\n",
              "    </tr>\n",
              "  </tbody>\n",
              "</table>\n",
              "</div>\n",
              "      <button class=\"colab-df-convert\" onclick=\"convertToInteractive('df-b42438ee-459e-41ba-aa8a-84376a29d7a7')\"\n",
              "              title=\"Convert this dataframe to an interactive table.\"\n",
              "              style=\"display:none;\">\n",
              "        \n",
              "  <svg xmlns=\"http://www.w3.org/2000/svg\" height=\"24px\"viewBox=\"0 0 24 24\"\n",
              "       width=\"24px\">\n",
              "    <path d=\"M0 0h24v24H0V0z\" fill=\"none\"/>\n",
              "    <path d=\"M18.56 5.44l.94 2.06.94-2.06 2.06-.94-2.06-.94-.94-2.06-.94 2.06-2.06.94zm-11 1L8.5 8.5l.94-2.06 2.06-.94-2.06-.94L8.5 2.5l-.94 2.06-2.06.94zm10 10l.94 2.06.94-2.06 2.06-.94-2.06-.94-.94-2.06-.94 2.06-2.06.94z\"/><path d=\"M17.41 7.96l-1.37-1.37c-.4-.4-.92-.59-1.43-.59-.52 0-1.04.2-1.43.59L10.3 9.45l-7.72 7.72c-.78.78-.78 2.05 0 2.83L4 21.41c.39.39.9.59 1.41.59.51 0 1.02-.2 1.41-.59l7.78-7.78 2.81-2.81c.8-.78.8-2.07 0-2.86zM5.41 20L4 18.59l7.72-7.72 1.47 1.35L5.41 20z\"/>\n",
              "  </svg>\n",
              "      </button>\n",
              "      \n",
              "  <style>\n",
              "    .colab-df-container {\n",
              "      display:flex;\n",
              "      flex-wrap:wrap;\n",
              "      gap: 12px;\n",
              "    }\n",
              "\n",
              "    .colab-df-convert {\n",
              "      background-color: #E8F0FE;\n",
              "      border: none;\n",
              "      border-radius: 50%;\n",
              "      cursor: pointer;\n",
              "      display: none;\n",
              "      fill: #1967D2;\n",
              "      height: 32px;\n",
              "      padding: 0 0 0 0;\n",
              "      width: 32px;\n",
              "    }\n",
              "\n",
              "    .colab-df-convert:hover {\n",
              "      background-color: #E2EBFA;\n",
              "      box-shadow: 0px 1px 2px rgba(60, 64, 67, 0.3), 0px 1px 3px 1px rgba(60, 64, 67, 0.15);\n",
              "      fill: #174EA6;\n",
              "    }\n",
              "\n",
              "    [theme=dark] .colab-df-convert {\n",
              "      background-color: #3B4455;\n",
              "      fill: #D2E3FC;\n",
              "    }\n",
              "\n",
              "    [theme=dark] .colab-df-convert:hover {\n",
              "      background-color: #434B5C;\n",
              "      box-shadow: 0px 1px 3px 1px rgba(0, 0, 0, 0.15);\n",
              "      filter: drop-shadow(0px 1px 2px rgba(0, 0, 0, 0.3));\n",
              "      fill: #FFFFFF;\n",
              "    }\n",
              "  </style>\n",
              "\n",
              "      <script>\n",
              "        const buttonEl =\n",
              "          document.querySelector('#df-b42438ee-459e-41ba-aa8a-84376a29d7a7 button.colab-df-convert');\n",
              "        buttonEl.style.display =\n",
              "          google.colab.kernel.accessAllowed ? 'block' : 'none';\n",
              "\n",
              "        async function convertToInteractive(key) {\n",
              "          const element = document.querySelector('#df-b42438ee-459e-41ba-aa8a-84376a29d7a7');\n",
              "          const dataTable =\n",
              "            await google.colab.kernel.invokeFunction('convertToInteractive',\n",
              "                                                     [key], {});\n",
              "          if (!dataTable) return;\n",
              "\n",
              "          const docLinkHtml = 'Like what you see? Visit the ' +\n",
              "            '<a target=\"_blank\" href=https://colab.research.google.com/notebooks/data_table.ipynb>data table notebook</a>'\n",
              "            + ' to learn more about interactive tables.';\n",
              "          element.innerHTML = '';\n",
              "          dataTable['output_type'] = 'display_data';\n",
              "          await google.colab.output.renderOutput(dataTable, element);\n",
              "          const docLink = document.createElement('div');\n",
              "          docLink.innerHTML = docLinkHtml;\n",
              "          element.appendChild(docLink);\n",
              "        }\n",
              "      </script>\n",
              "    </div>\n",
              "  </div>\n",
              "  "
            ]
          },
          "metadata": {},
          "execution_count": 13
        }
      ]
    },
    {
      "cell_type": "code",
      "source": [
        "games.shape"
      ],
      "metadata": {
        "colab": {
          "base_uri": "https://localhost:8080/"
        },
        "id": "6yNytaSDBm81",
        "outputId": "6bca6a9d-78e3-497e-88b3-a87bea061eb6"
      },
      "execution_count": null,
      "outputs": [
        {
          "output_type": "execute_result",
          "data": {
            "text/plain": [
              "(16598, 11)"
            ]
          },
          "metadata": {},
          "execution_count": 14
        }
      ]
    },
    {
      "cell_type": "code",
      "source": [
        "games.isnull().sum()"
      ],
      "metadata": {
        "colab": {
          "base_uri": "https://localhost:8080/"
        },
        "id": "vY9OmaUyAdUz",
        "outputId": "5c763353-c3a6-4402-c1ad-9ffbb2ad2038"
      },
      "execution_count": null,
      "outputs": [
        {
          "output_type": "execute_result",
          "data": {
            "text/plain": [
              "Rank              0\n",
              "Name              0\n",
              "Platform          0\n",
              "Year            271\n",
              "Genre             0\n",
              "Publisher        58\n",
              "NA_Sales          0\n",
              "EU_Sales          0\n",
              "JP_Sales          0\n",
              "Other_Sales       0\n",
              "Global_Sales      0\n",
              "dtype: int64"
            ]
          },
          "metadata": {},
          "execution_count": 15
        }
      ]
    },
    {
      "cell_type": "markdown",
      "source": [
        "# Analisis data de suicidios\n"
      ],
      "metadata": {
        "id": "gdlgD0G1CG3l"
      }
    },
    {
      "cell_type": "markdown",
      "source": [
        "Este dataframe presenta información general respecto a suicidios a nivel mundial, la finalidad es determinar cuales son los factores más relevantes que general una tasa suicida más alta y asimismo generar una regresión para obtener proyecciones respecto a suicidios"
      ],
      "metadata": {
        "id": "A_qIGZ92wjvN"
      }
    },
    {
      "cell_type": "markdown",
      "source": [
        "##Conociendo los datos, análisis exploratorio"
      ],
      "metadata": {
        "id": "I_63WKgTF-dN"
      }
    },
    {
      "cell_type": "code",
      "source": [
        "df = suicide.copy()"
      ],
      "metadata": {
        "id": "EElDhnc1AdXO"
      },
      "execution_count": null,
      "outputs": []
    },
    {
      "cell_type": "code",
      "source": [
        "df.describe().T"
      ],
      "metadata": {
        "colab": {
          "base_uri": "https://localhost:8080/",
          "height": 237
        },
        "id": "IuhbFgw9AdZe",
        "outputId": "5877191e-330f-4cb2-85eb-64959109494c"
      },
      "execution_count": null,
      "outputs": [
        {
          "output_type": "execute_result",
          "data": {
            "text/plain": [
              "                      count          mean           std         min  \\\n",
              "year                31756.0  2.003395e+03  9.760604e+00  1985.00000   \n",
              "suicides_no         30556.0  2.371362e+02  8.679561e+02     0.00000   \n",
              "population          31756.0  7.217454e+06  5.799323e+07   278.00000   \n",
              "suicides/100k pop   31756.0  1.171667e+01  2.159093e+01     0.00000   \n",
              "HDI for year        12300.0  7.936658e-01  9.747993e-02     0.37779   \n",
              "gdp_per_capita ($)  31756.0  1.758895e+04  1.946486e+04   251.00000   \n",
              "\n",
              "                           25%            50%          75%           max  \n",
              "year                  1996.000    2004.000000     2011.000  2.020000e+03  \n",
              "suicides_no              3.000      25.000000      132.000  2.233800e+04  \n",
              "population          128821.000  546832.500000  2908763.000  1.411100e+09  \n",
              "suicides/100k pop        0.370       4.285000       14.560  5.150927e+02  \n",
              "HDI for year             0.727       0.800457        0.874  9.751144e-01  \n",
              "gdp_per_capita ($)    3765.000   10062.000000    25622.000  1.263520e+05  "
            ],
            "text/html": [
              "\n",
              "  <div id=\"df-7fa416a7-127c-426e-a25e-2b04b0215524\">\n",
              "    <div class=\"colab-df-container\">\n",
              "      <div>\n",
              "<style scoped>\n",
              "    .dataframe tbody tr th:only-of-type {\n",
              "        vertical-align: middle;\n",
              "    }\n",
              "\n",
              "    .dataframe tbody tr th {\n",
              "        vertical-align: top;\n",
              "    }\n",
              "\n",
              "    .dataframe thead th {\n",
              "        text-align: right;\n",
              "    }\n",
              "</style>\n",
              "<table border=\"1\" class=\"dataframe\">\n",
              "  <thead>\n",
              "    <tr style=\"text-align: right;\">\n",
              "      <th></th>\n",
              "      <th>count</th>\n",
              "      <th>mean</th>\n",
              "      <th>std</th>\n",
              "      <th>min</th>\n",
              "      <th>25%</th>\n",
              "      <th>50%</th>\n",
              "      <th>75%</th>\n",
              "      <th>max</th>\n",
              "    </tr>\n",
              "  </thead>\n",
              "  <tbody>\n",
              "    <tr>\n",
              "      <th>year</th>\n",
              "      <td>31756.0</td>\n",
              "      <td>2.003395e+03</td>\n",
              "      <td>9.760604e+00</td>\n",
              "      <td>1985.00000</td>\n",
              "      <td>1996.000</td>\n",
              "      <td>2004.000000</td>\n",
              "      <td>2011.000</td>\n",
              "      <td>2.020000e+03</td>\n",
              "    </tr>\n",
              "    <tr>\n",
              "      <th>suicides_no</th>\n",
              "      <td>30556.0</td>\n",
              "      <td>2.371362e+02</td>\n",
              "      <td>8.679561e+02</td>\n",
              "      <td>0.00000</td>\n",
              "      <td>3.000</td>\n",
              "      <td>25.000000</td>\n",
              "      <td>132.000</td>\n",
              "      <td>2.233800e+04</td>\n",
              "    </tr>\n",
              "    <tr>\n",
              "      <th>population</th>\n",
              "      <td>31756.0</td>\n",
              "      <td>7.217454e+06</td>\n",
              "      <td>5.799323e+07</td>\n",
              "      <td>278.00000</td>\n",
              "      <td>128821.000</td>\n",
              "      <td>546832.500000</td>\n",
              "      <td>2908763.000</td>\n",
              "      <td>1.411100e+09</td>\n",
              "    </tr>\n",
              "    <tr>\n",
              "      <th>suicides/100k pop</th>\n",
              "      <td>31756.0</td>\n",
              "      <td>1.171667e+01</td>\n",
              "      <td>2.159093e+01</td>\n",
              "      <td>0.00000</td>\n",
              "      <td>0.370</td>\n",
              "      <td>4.285000</td>\n",
              "      <td>14.560</td>\n",
              "      <td>5.150927e+02</td>\n",
              "    </tr>\n",
              "    <tr>\n",
              "      <th>HDI for year</th>\n",
              "      <td>12300.0</td>\n",
              "      <td>7.936658e-01</td>\n",
              "      <td>9.747993e-02</td>\n",
              "      <td>0.37779</td>\n",
              "      <td>0.727</td>\n",
              "      <td>0.800457</td>\n",
              "      <td>0.874</td>\n",
              "      <td>9.751144e-01</td>\n",
              "    </tr>\n",
              "    <tr>\n",
              "      <th>gdp_per_capita ($)</th>\n",
              "      <td>31756.0</td>\n",
              "      <td>1.758895e+04</td>\n",
              "      <td>1.946486e+04</td>\n",
              "      <td>251.00000</td>\n",
              "      <td>3765.000</td>\n",
              "      <td>10062.000000</td>\n",
              "      <td>25622.000</td>\n",
              "      <td>1.263520e+05</td>\n",
              "    </tr>\n",
              "  </tbody>\n",
              "</table>\n",
              "</div>\n",
              "      <button class=\"colab-df-convert\" onclick=\"convertToInteractive('df-7fa416a7-127c-426e-a25e-2b04b0215524')\"\n",
              "              title=\"Convert this dataframe to an interactive table.\"\n",
              "              style=\"display:none;\">\n",
              "        \n",
              "  <svg xmlns=\"http://www.w3.org/2000/svg\" height=\"24px\"viewBox=\"0 0 24 24\"\n",
              "       width=\"24px\">\n",
              "    <path d=\"M0 0h24v24H0V0z\" fill=\"none\"/>\n",
              "    <path d=\"M18.56 5.44l.94 2.06.94-2.06 2.06-.94-2.06-.94-.94-2.06-.94 2.06-2.06.94zm-11 1L8.5 8.5l.94-2.06 2.06-.94-2.06-.94L8.5 2.5l-.94 2.06-2.06.94zm10 10l.94 2.06.94-2.06 2.06-.94-2.06-.94-.94-2.06-.94 2.06-2.06.94z\"/><path d=\"M17.41 7.96l-1.37-1.37c-.4-.4-.92-.59-1.43-.59-.52 0-1.04.2-1.43.59L10.3 9.45l-7.72 7.72c-.78.78-.78 2.05 0 2.83L4 21.41c.39.39.9.59 1.41.59.51 0 1.02-.2 1.41-.59l7.78-7.78 2.81-2.81c.8-.78.8-2.07 0-2.86zM5.41 20L4 18.59l7.72-7.72 1.47 1.35L5.41 20z\"/>\n",
              "  </svg>\n",
              "      </button>\n",
              "      \n",
              "  <style>\n",
              "    .colab-df-container {\n",
              "      display:flex;\n",
              "      flex-wrap:wrap;\n",
              "      gap: 12px;\n",
              "    }\n",
              "\n",
              "    .colab-df-convert {\n",
              "      background-color: #E8F0FE;\n",
              "      border: none;\n",
              "      border-radius: 50%;\n",
              "      cursor: pointer;\n",
              "      display: none;\n",
              "      fill: #1967D2;\n",
              "      height: 32px;\n",
              "      padding: 0 0 0 0;\n",
              "      width: 32px;\n",
              "    }\n",
              "\n",
              "    .colab-df-convert:hover {\n",
              "      background-color: #E2EBFA;\n",
              "      box-shadow: 0px 1px 2px rgba(60, 64, 67, 0.3), 0px 1px 3px 1px rgba(60, 64, 67, 0.15);\n",
              "      fill: #174EA6;\n",
              "    }\n",
              "\n",
              "    [theme=dark] .colab-df-convert {\n",
              "      background-color: #3B4455;\n",
              "      fill: #D2E3FC;\n",
              "    }\n",
              "\n",
              "    [theme=dark] .colab-df-convert:hover {\n",
              "      background-color: #434B5C;\n",
              "      box-shadow: 0px 1px 3px 1px rgba(0, 0, 0, 0.15);\n",
              "      filter: drop-shadow(0px 1px 2px rgba(0, 0, 0, 0.3));\n",
              "      fill: #FFFFFF;\n",
              "    }\n",
              "  </style>\n",
              "\n",
              "      <script>\n",
              "        const buttonEl =\n",
              "          document.querySelector('#df-7fa416a7-127c-426e-a25e-2b04b0215524 button.colab-df-convert');\n",
              "        buttonEl.style.display =\n",
              "          google.colab.kernel.accessAllowed ? 'block' : 'none';\n",
              "\n",
              "        async function convertToInteractive(key) {\n",
              "          const element = document.querySelector('#df-7fa416a7-127c-426e-a25e-2b04b0215524');\n",
              "          const dataTable =\n",
              "            await google.colab.kernel.invokeFunction('convertToInteractive',\n",
              "                                                     [key], {});\n",
              "          if (!dataTable) return;\n",
              "\n",
              "          const docLinkHtml = 'Like what you see? Visit the ' +\n",
              "            '<a target=\"_blank\" href=https://colab.research.google.com/notebooks/data_table.ipynb>data table notebook</a>'\n",
              "            + ' to learn more about interactive tables.';\n",
              "          element.innerHTML = '';\n",
              "          dataTable['output_type'] = 'display_data';\n",
              "          await google.colab.output.renderOutput(dataTable, element);\n",
              "          const docLink = document.createElement('div');\n",
              "          docLink.innerHTML = docLinkHtml;\n",
              "          element.appendChild(docLink);\n",
              "        }\n",
              "      </script>\n",
              "    </div>\n",
              "  </div>\n",
              "  "
            ]
          },
          "metadata": {},
          "execution_count": 17
        }
      ]
    },
    {
      "cell_type": "code",
      "source": [
        "df.columns"
      ],
      "metadata": {
        "colab": {
          "base_uri": "https://localhost:8080/"
        },
        "id": "vqHBPeEoEtCE",
        "outputId": "7337a704-6b97-4b23-a3d4-5406bff540e2"
      },
      "execution_count": null,
      "outputs": [
        {
          "output_type": "execute_result",
          "data": {
            "text/plain": [
              "Index(['country', 'year', 'sex', 'age', 'suicides_no', 'population',\n",
              "       'suicides/100k pop', 'country-year', 'HDI for year',\n",
              "       ' gdp_for_year ($) ', 'gdp_per_capita ($)', 'generation'],\n",
              "      dtype='object')"
            ]
          },
          "metadata": {},
          "execution_count": 18
        }
      ]
    },
    {
      "cell_type": "code",
      "source": [
        "df.dtypes"
      ],
      "metadata": {
        "colab": {
          "base_uri": "https://localhost:8080/"
        },
        "id": "Kb-NE-RqEtEi",
        "outputId": "9ac46edd-3ead-47a8-b75f-1b47166576c7"
      },
      "execution_count": null,
      "outputs": [
        {
          "output_type": "execute_result",
          "data": {
            "text/plain": [
              "country                object\n",
              "year                    int64\n",
              "sex                    object\n",
              "age                    object\n",
              "suicides_no           float64\n",
              "population              int64\n",
              "suicides/100k pop     float64\n",
              "country-year           object\n",
              "HDI for year          float64\n",
              " gdp_for_year ($)      object\n",
              "gdp_per_capita ($)    float64\n",
              "generation             object\n",
              "dtype: object"
            ]
          },
          "metadata": {},
          "execution_count": 19
        }
      ]
    },
    {
      "cell_type": "markdown",
      "source": [
        "Realizamos la validación de los registros tipo str para conocer cuantas transformaciones de variables categoricas"
      ],
      "metadata": {
        "id": "IR4zicAMI8mD"
      }
    },
    {
      "cell_type": "code",
      "source": [
        "for i in df.columns:\n",
        "  if df[i].dtypes == 'object':\n",
        "    print(f'{df[i].unique()}\\n')"
      ],
      "metadata": {
        "colab": {
          "base_uri": "https://localhost:8080/"
        },
        "id": "hLtrqw4tF4c_",
        "outputId": "f6588b20-41bb-41fa-a1ae-8b86cfd9c3fc"
      },
      "execution_count": null,
      "outputs": [
        {
          "output_type": "stream",
          "name": "stdout",
          "text": [
            "['Albania' 'Antigua and Barbuda' 'Argentina' 'Armenia' 'Aruba' 'Australia'\n",
            " 'Austria' 'Azerbaijan' 'Bahamas' 'Bahrain' 'Barbados' 'Belarus' 'Belgium'\n",
            " 'Belize' 'Bosnia and Herzegovina' 'Brazil' 'Bulgaria' 'Cabo Verde'\n",
            " 'Canada' 'Chile' 'Colombia' 'Costa Rica' 'Croatia' 'Cuba' 'Cyprus'\n",
            " 'Czech Republic' 'Denmark' 'Dominica' 'Ecuador' 'El Salvador' 'Estonia'\n",
            " 'Fiji' 'Finland' 'France' 'Georgia' 'Germany' 'Greece' 'Grenada'\n",
            " 'Guatemala' 'Guyana' 'Hungary' 'Iceland' 'Ireland' 'Israel' 'Italy'\n",
            " 'Jamaica' 'Japan' 'Kazakhstan' 'Kiribati' 'Kuwait' 'Kyrgyzstan' 'Latvia'\n",
            " 'Lithuania' 'Luxembourg' 'Macau' 'Maldives' 'Malta' 'Mauritius' 'Mexico'\n",
            " 'Mongolia' 'Montenegro' 'Netherlands' 'New Zealand' 'Nicaragua' 'Norway'\n",
            " 'Oman' 'Panama' 'Paraguay' 'Philippines' 'Poland' 'Portugal'\n",
            " 'Puerto Rico' 'Qatar' 'Republic of Korea' 'Romania' 'Russian Federation'\n",
            " 'Saint Kitts and Nevis' 'Saint Lucia' 'Saint Vincent and Grenadines'\n",
            " 'San Marino' 'Serbia' 'Seychelles' 'Singapore' 'Slovakia' 'Slovenia'\n",
            " 'South Africa' 'Spain' 'Sri Lanka' 'Suriname' 'Sweden' 'Switzerland'\n",
            " 'Thailand' 'Trinidad and Tobago' 'Turkey' 'Turkmenistan' 'Ukraine'\n",
            " 'United Arab Emirates' 'United Kingdom' 'United States' 'Uruguay'\n",
            " 'Uzbekistan' 'Brunei Darussalam' 'China, Hong Kong SAR' 'Czechia'\n",
            " 'Dominican Republic' 'Egypt' 'Jordan' 'Lebanon' 'North Macedonia' 'Peru'\n",
            " 'Republic of Moldova' 'Saint Vincent and the Grenadines' 'Tajikistan'\n",
            " 'United States of America']\n",
            "\n",
            "['male' 'female']\n",
            "\n",
            "['15-24 years' '35-54 years' '75+ years' '25-34 years' '55-74 years'\n",
            " '5-14 years']\n",
            "\n",
            "['Albania1987' 'Albania1988' 'Albania1989' ...\n",
            " 'United States of America2017' 'Uruguay2017' 'Uzbekistan2017']\n",
            "\n",
            "['2,15,66,24,900' '2,12,60,00,000' '2,33,51,24,988' ... '1.95E+13'\n",
            " '64233966861' '62081323299']\n",
            "\n",
            "['Generation X' 'Silent' 'G.I. Generation' 'Boomers' 'Millenials'\n",
            " 'Generation Z']\n",
            "\n"
          ]
        }
      ]
    },
    {
      "cell_type": "markdown",
      "source": [
        "#Validación de nulos"
      ],
      "metadata": {
        "id": "NIcZlTi0J5mx"
      }
    },
    {
      "cell_type": "code",
      "source": [
        "import missingno as mnso\n",
        "mnso.matrix(df)"
      ],
      "metadata": {
        "colab": {
          "base_uri": "https://localhost:8080/",
          "height": 638
        },
        "id": "QEwyi76zHzNC",
        "outputId": "1953fcf2-a6b9-462d-80f5-4f9a610e15fc"
      },
      "execution_count": null,
      "outputs": [
        {
          "output_type": "execute_result",
          "data": {
            "text/plain": [
              "<matplotlib.axes._subplots.AxesSubplot at 0x7fcd7ec1f670>"
            ]
          },
          "metadata": {},
          "execution_count": 21
        },
        {
          "output_type": "display_data",
          "data": {
            "text/plain": [
              "<Figure size 1800x720 with 2 Axes>"
            ],
            "image/png": "[encoded data removed]"
          },
          "metadata": {
            "needs_background": "light"
          }
        }
      ]
    },
    {
      "cell_type": "code",
      "source": [
        "df.head(5)"
      ],
      "metadata": {
        "colab": {
          "base_uri": "https://localhost:8080/",
          "height": 206
        },
        "id": "gVMS25USJz37",
        "outputId": "21ccc94f-b5c5-498b-8f36-6dc2b05e5643"
      },
      "execution_count": null,
      "outputs": [
        {
          "output_type": "execute_result",
          "data": {
            "text/plain": [
              "   country  year     sex          age  suicides_no  population  \\\n",
              "0  Albania  1987    male  15-24 years         21.0      312900   \n",
              "1  Albania  1987    male  35-54 years         16.0      308000   \n",
              "2  Albania  1987  female  15-24 years         14.0      289700   \n",
              "3  Albania  1987    male    75+ years          1.0       21800   \n",
              "4  Albania  1987    male  25-34 years          9.0      274300   \n",
              "\n",
              "   suicides/100k pop country-year  HDI for year  gdp_for_year ($)   \\\n",
              "0               6.71  Albania1987           NaN     2,15,66,24,900   \n",
              "1               5.19  Albania1987           NaN     2,15,66,24,900   \n",
              "2               4.83  Albania1987           NaN     2,15,66,24,900   \n",
              "3               4.59  Albania1987           NaN     2,15,66,24,900   \n",
              "4               3.28  Albania1987           NaN     2,15,66,24,900   \n",
              "\n",
              "   gdp_per_capita ($)       generation  \n",
              "0               796.0     Generation X  \n",
              "1               796.0           Silent  \n",
              "2               796.0     Generation X  \n",
              "3               796.0  G.I. Generation  \n",
              "4               796.0          Boomers  "
            ],
            "text/html": [
              "\n",
              "  <div id=\"df-de4ab3d5-6c47-4719-8a5a-29e63ef70e3e\">\n",
              "    <div class=\"colab-df-container\">\n",
              "      <div>\n",
              "<style scoped>\n",
              "    .dataframe tbody tr th:only-of-type {\n",
              "        vertical-align: middle;\n",
              "    }\n",
              "\n",
              "    .dataframe tbody tr th {\n",
              "        vertical-align: top;\n",
              "    }\n",
              "\n",
              "    .dataframe thead th {\n",
              "        text-align: right;\n",
              "    }\n",
              "</style>\n",
              "<table border=\"1\" class=\"dataframe\">\n",
              "  <thead>\n",
              "    <tr style=\"text-align: right;\">\n",
              "      <th></th>\n",
              "      <th>country</th>\n",
              "      <th>year</th>\n",
              "      <th>sex</th>\n",
              "      <th>age</th>\n",
              "      <th>suicides_no</th>\n",
              "      <th>population</th>\n",
              "      <th>suicides/100k pop</th>\n",
              "      <th>country-year</th>\n",
              "      <th>HDI for year</th>\n",
              "      <th>gdp_for_year ($)</th>\n",
              "      <th>gdp_per_capita ($)</th>\n",
              "      <th>generation</th>\n",
              "    </tr>\n",
              "  </thead>\n",
              "  <tbody>\n",
              "    <tr>\n",
              "      <th>0</th>\n",
              "      <td>Albania</td>\n",
              "      <td>1987</td>\n",
              "      <td>male</td>\n",
              "      <td>15-24 years</td>\n",
              "      <td>21.0</td>\n",
              "      <td>312900</td>\n",
              "      <td>6.71</td>\n",
              "      <td>Albania1987</td>\n",
              "      <td>NaN</td>\n",
              "      <td>2,15,66,24,900</td>\n",
              "      <td>796.0</td>\n",
              "      <td>Generation X</td>\n",
              "    </tr>\n",
              "    <tr>\n",
              "      <th>1</th>\n",
              "      <td>Albania</td>\n",
              "      <td>1987</td>\n",
              "      <td>male</td>\n",
              "      <td>35-54 years</td>\n",
              "      <td>16.0</td>\n",
              "      <td>308000</td>\n",
              "      <td>5.19</td>\n",
              "      <td>Albania1987</td>\n",
              "      <td>NaN</td>\n",
              "      <td>2,15,66,24,900</td>\n",
              "      <td>796.0</td>\n",
              "      <td>Silent</td>\n",
              "    </tr>\n",
              "    <tr>\n",
              "      <th>2</th>\n",
              "      <td>Albania</td>\n",
              "      <td>1987</td>\n",
              "      <td>female</td>\n",
              "      <td>15-24 years</td>\n",
              "      <td>14.0</td>\n",
              "      <td>289700</td>\n",
              "      <td>4.83</td>\n",
              "      <td>Albania1987</td>\n",
              "      <td>NaN</td>\n",
              "      <td>2,15,66,24,900</td>\n",
              "      <td>796.0</td>\n",
              "      <td>Generation X</td>\n",
              "    </tr>\n",
              "    <tr>\n",
              "      <th>3</th>\n",
              "      <td>Albania</td>\n",
              "      <td>1987</td>\n",
              "      <td>male</td>\n",
              "      <td>75+ years</td>\n",
              "      <td>1.0</td>\n",
              "      <td>21800</td>\n",
              "      <td>4.59</td>\n",
              "      <td>Albania1987</td>\n",
              "      <td>NaN</td>\n",
              "      <td>2,15,66,24,900</td>\n",
              "      <td>796.0</td>\n",
              "      <td>G.I. Generation</td>\n",
              "    </tr>\n",
              "    <tr>\n",
              "      <th>4</th>\n",
              "      <td>Albania</td>\n",
              "      <td>1987</td>\n",
              "      <td>male</td>\n",
              "      <td>25-34 years</td>\n",
              "      <td>9.0</td>\n",
              "      <td>274300</td>\n",
              "      <td>3.28</td>\n",
              "      <td>Albania1987</td>\n",
              "      <td>NaN</td>\n",
              "      <td>2,15,66,24,900</td>\n",
              "      <td>796.0</td>\n",
              "      <td>Boomers</td>\n",
              "    </tr>\n",
              "  </tbody>\n",
              "</table>\n",
              "</div>\n",
              "      <button class=\"colab-df-convert\" onclick=\"convertToInteractive('df-de4ab3d5-6c47-4719-8a5a-29e63ef70e3e')\"\n",
              "              title=\"Convert this dataframe to an interactive table.\"\n",
              "              style=\"display:none;\">\n",
              "        \n",
              "  <svg xmlns=\"http://www.w3.org/2000/svg\" height=\"24px\"viewBox=\"0 0 24 24\"\n",
              "       width=\"24px\">\n",
              "    <path d=\"M0 0h24v24H0V0z\" fill=\"none\"/>\n",
              "    <path d=\"M18.56 5.44l.94 2.06.94-2.06 2.06-.94-2.06-.94-.94-2.06-.94 2.06-2.06.94zm-11 1L8.5 8.5l.94-2.06 2.06-.94-2.06-.94L8.5 2.5l-.94 2.06-2.06.94zm10 10l.94 2.06.94-2.06 2.06-.94-2.06-.94-.94-2.06-.94 2.06-2.06.94z\"/><path d=\"M17.41 7.96l-1.37-1.37c-.4-.4-.92-.59-1.43-.59-.52 0-1.04.2-1.43.59L10.3 9.45l-7.72 7.72c-.78.78-.78 2.05 0 2.83L4 21.41c.39.39.9.59 1.41.59.51 0 1.02-.2 1.41-.59l7.78-7.78 2.81-2.81c.8-.78.8-2.07 0-2.86zM5.41 20L4 18.59l7.72-7.72 1.47 1.35L5.41 20z\"/>\n",
              "  </svg>\n",
              "      </button>\n",
              "      \n",
              "  <style>\n",
              "    .colab-df-container {\n",
              "      display:flex;\n",
              "      flex-wrap:wrap;\n",
              "      gap: 12px;\n",
              "    }\n",
              "\n",
              "    .colab-df-convert {\n",
              "      background-color: #E8F0FE;\n",
              "      border: none;\n",
              "      border-radius: 50%;\n",
              "      cursor: pointer;\n",
              "      display: none;\n",
              "      fill: #1967D2;\n",
              "      height: 32px;\n",
              "      padding: 0 0 0 0;\n",
              "      width: 32px;\n",
              "    }\n",
              "\n",
              "    .colab-df-convert:hover {\n",
              "      background-color: #E2EBFA;\n",
              "      box-shadow: 0px 1px 2px rgba(60, 64, 67, 0.3), 0px 1px 3px 1px rgba(60, 64, 67, 0.15);\n",
              "      fill: #174EA6;\n",
              "    }\n",
              "\n",
              "    [theme=dark] .colab-df-convert {\n",
              "      background-color: #3B4455;\n",
              "      fill: #D2E3FC;\n",
              "    }\n",
              "\n",
              "    [theme=dark] .colab-df-convert:hover {\n",
              "      background-color: #434B5C;\n",
              "      box-shadow: 0px 1px 3px 1px rgba(0, 0, 0, 0.15);\n",
              "      filter: drop-shadow(0px 1px 2px rgba(0, 0, 0, 0.3));\n",
              "      fill: #FFFFFF;\n",
              "    }\n",
              "  </style>\n",
              "\n",
              "      <script>\n",
              "        const buttonEl =\n",
              "          document.querySelector('#df-de4ab3d5-6c47-4719-8a5a-29e63ef70e3e button.colab-df-convert');\n",
              "        buttonEl.style.display =\n",
              "          google.colab.kernel.accessAllowed ? 'block' : 'none';\n",
              "\n",
              "        async function convertToInteractive(key) {\n",
              "          const element = document.querySelector('#df-de4ab3d5-6c47-4719-8a5a-29e63ef70e3e');\n",
              "          const dataTable =\n",
              "            await google.colab.kernel.invokeFunction('convertToInteractive',\n",
              "                                                     [key], {});\n",
              "          if (!dataTable) return;\n",
              "\n",
              "          const docLinkHtml = 'Like what you see? Visit the ' +\n",
              "            '<a target=\"_blank\" href=https://colab.research.google.com/notebooks/data_table.ipynb>data table notebook</a>'\n",
              "            + ' to learn more about interactive tables.';\n",
              "          element.innerHTML = '';\n",
              "          dataTable['output_type'] = 'display_data';\n",
              "          await google.colab.output.renderOutput(dataTable, element);\n",
              "          const docLink = document.createElement('div');\n",
              "          docLink.innerHTML = docLinkHtml;\n",
              "          element.appendChild(docLink);\n",
              "        }\n",
              "      </script>\n",
              "    </div>\n",
              "  </div>\n",
              "  "
            ]
          },
          "metadata": {},
          "execution_count": 22
        }
      ]
    },
    {
      "cell_type": "code",
      "source": [
        "df.columns"
      ],
      "metadata": {
        "colab": {
          "base_uri": "https://localhost:8080/"
        },
        "id": "3A2l91gSLKOC",
        "outputId": "5aef53dc-bc5f-4dc9-9a02-bc4084d8f315"
      },
      "execution_count": null,
      "outputs": [
        {
          "output_type": "execute_result",
          "data": {
            "text/plain": [
              "Index(['country', 'year', 'sex', 'age', 'suicides_no', 'population',\n",
              "       'suicides/100k pop', 'country-year', 'HDI for year',\n",
              "       ' gdp_for_year ($) ', 'gdp_per_capita ($)', 'generation'],\n",
              "      dtype='object')"
            ]
          },
          "metadata": {},
          "execution_count": 23
        }
      ]
    },
    {
      "cell_type": "markdown",
      "source": [
        "En este caso, se determina eliminar una de las variables (que no tiene relevancia sobre la variable dependiente) y por la cantidad de nulos se reemplazan con la media"
      ],
      "metadata": {
        "id": "-T-ZkZ-LKaH6"
      }
    },
    {
      "cell_type": "code",
      "source": [
        "df['suicides_no']=df['suicides_no'].fillna(df['suicides_no'].mean())"
      ],
      "metadata": {
        "id": "G8vP1hBFJ0Nu"
      },
      "execution_count": null,
      "outputs": []
    },
    {
      "cell_type": "code",
      "source": [
        "mnso.matrix(df)"
      ],
      "metadata": {
        "colab": {
          "base_uri": "https://localhost:8080/",
          "height": 638
        },
        "id": "18vlEHaALw7c",
        "outputId": "417d4045-2c05-4a77-dc4c-60ba9225032e"
      },
      "execution_count": null,
      "outputs": [
        {
          "output_type": "execute_result",
          "data": {
            "text/plain": [
              "<matplotlib.axes._subplots.AxesSubplot at 0x7fcd7c27f880>"
            ]
          },
          "metadata": {},
          "execution_count": 25
        },
        {
          "output_type": "display_data",
          "data": {
            "text/plain": [
              "<Figure size 1800x720 with 2 Axes>"
            ],
            "image/png": "[encoded data removed]"
          },
          "metadata": {
            "needs_background": "light"
          }
        }
      ]
    },
    {
      "cell_type": "code",
      "source": [
        "df.dtypes"
      ],
      "metadata": {
        "id": "DCaTeZR3Lw-I",
        "colab": {
          "base_uri": "https://localhost:8080/"
        },
        "outputId": "5d10a92e-bb1b-4a2b-c517-6362577a145e"
      },
      "execution_count": null,
      "outputs": [
        {
          "output_type": "execute_result",
          "data": {
            "text/plain": [
              "country                object\n",
              "year                    int64\n",
              "sex                    object\n",
              "age                    object\n",
              "suicides_no           float64\n",
              "population              int64\n",
              "suicides/100k pop     float64\n",
              "country-year           object\n",
              "HDI for year          float64\n",
              " gdp_for_year ($)      object\n",
              "gdp_per_capita ($)    float64\n",
              "generation             object\n",
              "dtype: object"
            ]
          },
          "metadata": {},
          "execution_count": 26
        }
      ]
    },
    {
      "cell_type": "code",
      "source": [
        "df.sample(5)"
      ],
      "metadata": {
        "id": "Ey3Z0vdTLxAh",
        "colab": {
          "base_uri": "https://localhost:8080/",
          "height": 250
        },
        "outputId": "a7c990ed-fcfa-48f3-8c3c-b65c83c10ce6"
      },
      "execution_count": null,
      "outputs": [
        {
          "output_type": "execute_result",
          "data": {
            "text/plain": [
              "          country  year     sex          age  suicides_no  population  \\\n",
              "8656         Fiji  2005  female  25-34 years          3.0       61361   \n",
              "693     Argentina  1993  female  15-24 years         73.0     2879300   \n",
              "31427  Uzbekistan  2017  female  55-74 years         33.0    32388600   \n",
              "16977  Montenegro  2002    male  25-34 years          0.0       43146   \n",
              "4704     Bulgaria  1998    male  25-34 years         95.0      568800   \n",
              "\n",
              "       suicides/100k pop    country-year  HDI for year  gdp_for_year ($)   \\\n",
              "8656            4.890000        Fiji2005      0.694000     3,00,67,25,015   \n",
              "693             2.540000   Argentina1993           NaN  2,36,74,17,15,015   \n",
              "31427           0.101888  Uzbekistan2017      0.691258        62081323299   \n",
              "16977           0.000000  Montenegro2002           NaN     1,28,46,85,051   \n",
              "4704           16.700000    Bulgaria1998           NaN    14,63,09,92,956   \n",
              "\n",
              "       gdp_per_capita ($)       generation  \n",
              "8656          4104.000000     Generation X  \n",
              "693           7768.000000     Generation X  \n",
              "31427         1916.764642  G.I. Generation  \n",
              "16977         2220.000000     Generation X  \n",
              "4704          1852.000000     Generation X  "
            ],
            "text/html": [
              "\n",
              "  <div id=\"df-a6274a2e-6b95-4300-b8a7-4f97d965b4fa\">\n",
              "    <div class=\"colab-df-container\">\n",
              "      <div>\n",
              "<style scoped>\n",
              "    .dataframe tbody tr th:only-of-type {\n",
              "        vertical-align: middle;\n",
              "    }\n",
              "\n",
              "    .dataframe tbody tr th {\n",
              "        vertical-align: top;\n",
              "    }\n",
              "\n",
              "    .dataframe thead th {\n",
              "        text-align: right;\n",
              "    }\n",
              "</style>\n",
              "<table border=\"1\" class=\"dataframe\">\n",
              "  <thead>\n",
              "    <tr style=\"text-align: right;\">\n",
              "      <th></th>\n",
              "      <th>country</th>\n",
              "      <th>year</th>\n",
              "      <th>sex</th>\n",
              "      <th>age</th>\n",
              "      <th>suicides_no</th>\n",
              "      <th>population</th>\n",
              "      <th>suicides/100k pop</th>\n",
              "      <th>country-year</th>\n",
              "      <th>HDI for year</th>\n",
              "      <th>gdp_for_year ($)</th>\n",
              "      <th>gdp_per_capita ($)</th>\n",
              "      <th>generation</th>\n",
              "    </tr>\n",
              "  </thead>\n",
              "  <tbody>\n",
              "    <tr>\n",
              "      <th>8656</th>\n",
              "      <td>Fiji</td>\n",
              "      <td>2005</td>\n",
              "      <td>female</td>\n",
              "      <td>25-34 years</td>\n",
              "      <td>3.0</td>\n",
              "      <td>61361</td>\n",
              "      <td>4.890000</td>\n",
              "      <td>Fiji2005</td>\n",
              "      <td>0.694000</td>\n",
              "      <td>3,00,67,25,015</td>\n",
              "      <td>4104.000000</td>\n",
              "      <td>Generation X</td>\n",
              "    </tr>\n",
              "    <tr>\n",
              "      <th>693</th>\n",
              "      <td>Argentina</td>\n",
              "      <td>1993</td>\n",
              "      <td>female</td>\n",
              "      <td>15-24 years</td>\n",
              "      <td>73.0</td>\n",
              "      <td>2879300</td>\n",
              "      <td>2.540000</td>\n",
              "      <td>Argentina1993</td>\n",
              "      <td>NaN</td>\n",
              "      <td>2,36,74,17,15,015</td>\n",
              "      <td>7768.000000</td>\n",
              "      <td>Generation X</td>\n",
              "    </tr>\n",
              "    <tr>\n",
              "      <th>31427</th>\n",
              "      <td>Uzbekistan</td>\n",
              "      <td>2017</td>\n",
              "      <td>female</td>\n",
              "      <td>55-74 years</td>\n",
              "      <td>33.0</td>\n",
              "      <td>32388600</td>\n",
              "      <td>0.101888</td>\n",
              "      <td>Uzbekistan2017</td>\n",
              "      <td>0.691258</td>\n",
              "      <td>62081323299</td>\n",
              "      <td>1916.764642</td>\n",
              "      <td>G.I. Generation</td>\n",
              "    </tr>\n",
              "    <tr>\n",
              "      <th>16977</th>\n",
              "      <td>Montenegro</td>\n",
              "      <td>2002</td>\n",
              "      <td>male</td>\n",
              "      <td>25-34 years</td>\n",
              "      <td>0.0</td>\n",
              "      <td>43146</td>\n",
              "      <td>0.000000</td>\n",
              "      <td>Montenegro2002</td>\n",
              "      <td>NaN</td>\n",
              "      <td>1,28,46,85,051</td>\n",
              "      <td>2220.000000</td>\n",
              "      <td>Generation X</td>\n",
              "    </tr>\n",
              "    <tr>\n",
              "      <th>4704</th>\n",
              "      <td>Bulgaria</td>\n",
              "      <td>1998</td>\n",
              "      <td>male</td>\n",
              "      <td>25-34 years</td>\n",
              "      <td>95.0</td>\n",
              "      <td>568800</td>\n",
              "      <td>16.700000</td>\n",
              "      <td>Bulgaria1998</td>\n",
              "      <td>NaN</td>\n",
              "      <td>14,63,09,92,956</td>\n",
              "      <td>1852.000000</td>\n",
              "      <td>Generation X</td>\n",
              "    </tr>\n",
              "  </tbody>\n",
              "</table>\n",
              "</div>\n",
              "      <button class=\"colab-df-convert\" onclick=\"convertToInteractive('df-a6274a2e-6b95-4300-b8a7-4f97d965b4fa')\"\n",
              "              title=\"Convert this dataframe to an interactive table.\"\n",
              "              style=\"display:none;\">\n",
              "        \n",
              "  <svg xmlns=\"http://www.w3.org/2000/svg\" height=\"24px\"viewBox=\"0 0 24 24\"\n",
              "       width=\"24px\">\n",
              "    <path d=\"M0 0h24v24H0V0z\" fill=\"none\"/>\n",
              "    <path d=\"M18.56 5.44l.94 2.06.94-2.06 2.06-.94-2.06-.94-.94-2.06-.94 2.06-2.06.94zm-11 1L8.5 8.5l.94-2.06 2.06-.94-2.06-.94L8.5 2.5l-.94 2.06-2.06.94zm10 10l.94 2.06.94-2.06 2.06-.94-2.06-.94-.94-2.06-.94 2.06-2.06.94z\"/><path d=\"M17.41 7.96l-1.37-1.37c-.4-.4-.92-.59-1.43-.59-.52 0-1.04.2-1.43.59L10.3 9.45l-7.72 7.72c-.78.78-.78 2.05 0 2.83L4 21.41c.39.39.9.59 1.41.59.51 0 1.02-.2 1.41-.59l7.78-7.78 2.81-2.81c.8-.78.8-2.07 0-2.86zM5.41 20L4 18.59l7.72-7.72 1.47 1.35L5.41 20z\"/>\n",
              "  </svg>\n",
              "      </button>\n",
              "      \n",
              "  <style>\n",
              "    .colab-df-container {\n",
              "      display:flex;\n",
              "      flex-wrap:wrap;\n",
              "      gap: 12px;\n",
              "    }\n",
              "\n",
              "    .colab-df-convert {\n",
              "      background-color: #E8F0FE;\n",
              "      border: none;\n",
              "      border-radius: 50%;\n",
              "      cursor: pointer;\n",
              "      display: none;\n",
              "      fill: #1967D2;\n",
              "      height: 32px;\n",
              "      padding: 0 0 0 0;\n",
              "      width: 32px;\n",
              "    }\n",
              "\n",
              "    .colab-df-convert:hover {\n",
              "      background-color: #E2EBFA;\n",
              "      box-shadow: 0px 1px 2px rgba(60, 64, 67, 0.3), 0px 1px 3px 1px rgba(60, 64, 67, 0.15);\n",
              "      fill: #174EA6;\n",
              "    }\n",
              "\n",
              "    [theme=dark] .colab-df-convert {\n",
              "      background-color: #3B4455;\n",
              "      fill: #D2E3FC;\n",
              "    }\n",
              "\n",
              "    [theme=dark] .colab-df-convert:hover {\n",
              "      background-color: #434B5C;\n",
              "      box-shadow: 0px 1px 3px 1px rgba(0, 0, 0, 0.15);\n",
              "      filter: drop-shadow(0px 1px 2px rgba(0, 0, 0, 0.3));\n",
              "      fill: #FFFFFF;\n",
              "    }\n",
              "  </style>\n",
              "\n",
              "      <script>\n",
              "        const buttonEl =\n",
              "          document.querySelector('#df-a6274a2e-6b95-4300-b8a7-4f97d965b4fa button.colab-df-convert');\n",
              "        buttonEl.style.display =\n",
              "          google.colab.kernel.accessAllowed ? 'block' : 'none';\n",
              "\n",
              "        async function convertToInteractive(key) {\n",
              "          const element = document.querySelector('#df-a6274a2e-6b95-4300-b8a7-4f97d965b4fa');\n",
              "          const dataTable =\n",
              "            await google.colab.kernel.invokeFunction('convertToInteractive',\n",
              "                                                     [key], {});\n",
              "          if (!dataTable) return;\n",
              "\n",
              "          const docLinkHtml = 'Like what you see? Visit the ' +\n",
              "            '<a target=\"_blank\" href=https://colab.research.google.com/notebooks/data_table.ipynb>data table notebook</a>'\n",
              "            + ' to learn more about interactive tables.';\n",
              "          element.innerHTML = '';\n",
              "          dataTable['output_type'] = 'display_data';\n",
              "          await google.colab.output.renderOutput(dataTable, element);\n",
              "          const docLink = document.createElement('div');\n",
              "          docLink.innerHTML = docLinkHtml;\n",
              "          element.appendChild(docLink);\n",
              "        }\n",
              "      </script>\n",
              "    </div>\n",
              "  </div>\n",
              "  "
            ]
          },
          "metadata": {},
          "execution_count": 27
        }
      ]
    },
    {
      "cell_type": "code",
      "source": [
        "#df = df.drop(['country-year','HDI for year',' gdp_for_year ($) ','gdp_per_capita ($)'], axis=1)\n"
      ],
      "metadata": {
        "id": "lhel1DpALxDD"
      },
      "execution_count": null,
      "outputs": []
    },
    {
      "cell_type": "code",
      "source": [
        "df.columns"
      ],
      "metadata": {
        "colab": {
          "base_uri": "https://localhost:8080/"
        },
        "id": "_MRT_VWEpwSP",
        "outputId": "65b9e365-5287-4399-a874-99ae01977cac"
      },
      "execution_count": null,
      "outputs": [
        {
          "output_type": "execute_result",
          "data": {
            "text/plain": [
              "Index(['country', 'year', 'sex', 'age', 'suicides_no', 'population',\n",
              "       'suicides/100k pop', 'country-year', 'HDI for year',\n",
              "       ' gdp_for_year ($) ', 'gdp_per_capita ($)', 'generation'],\n",
              "      dtype='object')"
            ]
          },
          "metadata": {},
          "execution_count": 29
        }
      ]
    },
    {
      "cell_type": "code",
      "source": [
        "df.rename(columns={'country':'Pais','year':'Año','suicides_no':'QSuicidios','population':'Poblacion','suicides/100k pop':'Suicidios_c_100','generation':'generacion'}, inplace=True)"
      ],
      "metadata": {
        "id": "wg8w6yGtpI95"
      },
      "execution_count": null,
      "outputs": []
    },
    {
      "cell_type": "code",
      "source": [
        "df.dtypes"
      ],
      "metadata": {
        "colab": {
          "base_uri": "https://localhost:8080/"
        },
        "id": "I9fclxZrqcKw",
        "outputId": "7a7eec21-2d8b-4cc2-fe42-2bd96512fa1f"
      },
      "execution_count": null,
      "outputs": [
        {
          "output_type": "execute_result",
          "data": {
            "text/plain": [
              "Pais                   object\n",
              "Año                     int64\n",
              "sex                    object\n",
              "age                    object\n",
              "QSuicidios            float64\n",
              "Poblacion               int64\n",
              "Suicidios_c_100       float64\n",
              "country-year           object\n",
              "HDI for year          float64\n",
              " gdp_for_year ($)      object\n",
              "gdp_per_capita ($)    float64\n",
              "generacion             object\n",
              "dtype: object"
            ]
          },
          "metadata": {},
          "execution_count": 31
        }
      ]
    },
    {
      "cell_type": "markdown",
      "source": [
        "#Validación de outliers y la distribución de las variables\n"
      ],
      "metadata": {
        "id": "D6M6Jz79K4BT"
      }
    },
    {
      "cell_type": "code",
      "source": [
        "sns.boxplot(x='QSuicidios', y='sex', data=df)"
      ],
      "metadata": {
        "colab": {
          "base_uri": "https://localhost:8080/",
          "height": 297
        },
        "id": "D67QjeaJqcNd",
        "outputId": "7e8323df-a519-4ad0-f592-9bd786bc4e4d"
      },
      "execution_count": null,
      "outputs": [
        {
          "output_type": "execute_result",
          "data": {
            "text/plain": [
              "<matplotlib.axes._subplots.AxesSubplot at 0x7fcd7c31ad00>"
            ]
          },
          "metadata": {},
          "execution_count": 32
        },
        {
          "output_type": "display_data",
          "data": {
            "text/plain": [
              "<Figure size 432x288 with 1 Axes>"
            ],
            "image/png": "[encoded data removed]"
          },
          "metadata": {
            "needs_background": "light"
          }
        }
      ]
    },
    {
      "cell_type": "code",
      "source": [
        "sns.boxplot(x='Suicidios_c_100', y='sex', data=df)"
      ],
      "metadata": {
        "colab": {
          "base_uri": "https://localhost:8080/",
          "height": 298
        },
        "id": "eltgBxEMqcQD",
        "outputId": "b2925a7a-1b01-4430-8cec-cd94b4b8d56e"
      },
      "execution_count": null,
      "outputs": [
        {
          "output_type": "execute_result",
          "data": {
            "text/plain": [
              "<matplotlib.axes._subplots.AxesSubplot at 0x7fcd7c1b6310>"
            ]
          },
          "metadata": {},
          "execution_count": 33
        },
        {
          "output_type": "display_data",
          "data": {
            "text/plain": [
              "<Figure size 432x288 with 1 Axes>"
            ],
            "image/png": "[encoded data removed]"
          },
          "metadata": {
            "needs_background": "light"
          }
        }
      ]
    },
    {
      "cell_type": "code",
      "source": [
        "sns.histplot(data=df, x='QSuicidios')"
      ],
      "metadata": {
        "colab": {
          "base_uri": "https://localhost:8080/",
          "height": 297
        },
        "id": "hVMKbFTxqcVC",
        "outputId": "b722ba1d-845b-4c9d-c393-89a1c586ae3f"
      },
      "execution_count": null,
      "outputs": [
        {
          "output_type": "execute_result",
          "data": {
            "text/plain": [
              "<matplotlib.axes._subplots.AxesSubplot at 0x7fcd7c193520>"
            ]
          },
          "metadata": {},
          "execution_count": 34
        },
        {
          "output_type": "display_data",
          "data": {
            "text/plain": [
              "<Figure size 432x288 with 1 Axes>"
            ],
            "image/png": "[encoded data removed]"
          },
          "metadata": {
            "needs_background": "light"
          }
        }
      ]
    },
    {
      "cell_type": "code",
      "source": [
        "sns.histplot(data=df, x='Suicidios_c_100')"
      ],
      "metadata": {
        "colab": {
          "base_uri": "https://localhost:8080/",
          "height": 298
        },
        "id": "XclvdXBAqcX8",
        "outputId": "8934ed42-fdcf-4585-b2b4-f9ffe7f54306"
      },
      "execution_count": null,
      "outputs": [
        {
          "output_type": "execute_result",
          "data": {
            "text/plain": [
              "<matplotlib.axes._subplots.AxesSubplot at 0x7fcd7b7ead30>"
            ]
          },
          "metadata": {},
          "execution_count": 35
        },
        {
          "output_type": "display_data",
          "data": {
            "text/plain": [
              "<Figure size 432x288 with 1 Axes>"
            ],
            "image/png": "[encoded data removed]"
          },
          "metadata": {
            "needs_background": "light"
          }
        }
      ]
    },
    {
      "cell_type": "code",
      "source": [
        "plt.figure(figsize=(10,8))\n",
        "sns.pairplot(data=df)"
      ],
      "metadata": {
        "colab": {
          "base_uri": "https://localhost:8080/",
          "height": 1000
        },
        "id": "4-aVQ4zFqcaX",
        "outputId": "7d5c6422-0ca6-4fc0-d1ca-2e3883e846b6"
      },
      "execution_count": null,
      "outputs": [
        {
          "output_type": "execute_result",
          "data": {
            "text/plain": [
              "<seaborn.axisgrid.PairGrid at 0x7fcd7c30bfa0>"
            ]
          },
          "metadata": {},
          "execution_count": 36
        },
        {
          "output_type": "display_data",
          "data": {
            "text/plain": [
              "<Figure size 720x576 with 0 Axes>"
            ]
          },
          "metadata": {}
        },
        {
          "output_type": "display_data",
          "data": {
            "text/plain": [
              "<Figure size 1080x1080 with 42 Axes>"
            ],
            "image/png": "[encoded data removed]"
          },
          "metadata": {
            "needs_background": "light"
          }
        }
      ]
    },
    {
      "cell_type": "code",
      "source": [
        "df.corr()"
      ],
      "metadata": {
        "colab": {
          "base_uri": "https://localhost:8080/",
          "height": 237
        },
        "id": "_TX6-xl_qccf",
        "outputId": "bbcba1d8-a87a-403e-c94b-6922ee178efd"
      },
      "execution_count": null,
      "outputs": [
        {
          "output_type": "execute_result",
          "data": {
            "text/plain": [
              "                         Año  QSuicidios  Poblacion  Suicidios_c_100  \\\n",
              "Año                 1.000000   -0.013195   0.143894        -0.106052   \n",
              "QSuicidios         -0.013195    1.000000   0.056438         0.268755   \n",
              "Poblacion           0.143894    0.056438   1.000000        -0.049315   \n",
              "Suicidios_c_100    -0.106052    0.268755  -0.049315         1.000000   \n",
              "HDI for year        0.385199    0.132382   0.117564         0.030046   \n",
              "gdp_per_capita ($)  0.307603    0.059102   0.009165         0.002596   \n",
              "\n",
              "                    HDI for year  gdp_per_capita ($)  \n",
              "Año                     0.385199            0.307603  \n",
              "QSuicidios              0.132382            0.059102  \n",
              "Poblacion               0.117564            0.009165  \n",
              "Suicidios_c_100         0.030046            0.002596  \n",
              "HDI for year            1.000000            0.711352  \n",
              "gdp_per_capita ($)      0.711352            1.000000  "
            ],
            "text/html": [
              "\n",
              "  <div id=\"df-74900f69-2fe6-4e71-abf2-1f9a3ea31ea4\">\n",
              "    <div class=\"colab-df-container\">\n",
              "      <div>\n",
              "<style scoped>\n",
              "    .dataframe tbody tr th:only-of-type {\n",
              "        vertical-align: middle;\n",
              "    }\n",
              "\n",
              "    .dataframe tbody tr th {\n",
              "        vertical-align: top;\n",
              "    }\n",
              "\n",
              "    .dataframe thead th {\n",
              "        text-align: right;\n",
              "    }\n",
              "</style>\n",
              "<table border=\"1\" class=\"dataframe\">\n",
              "  <thead>\n",
              "    <tr style=\"text-align: right;\">\n",
              "      <th></th>\n",
              "      <th>Año</th>\n",
              "      <th>QSuicidios</th>\n",
              "      <th>Poblacion</th>\n",
              "      <th>Suicidios_c_100</th>\n",
              "      <th>HDI for year</th>\n",
              "      <th>gdp_per_capita ($)</th>\n",
              "    </tr>\n",
              "  </thead>\n",
              "  <tbody>\n",
              "    <tr>\n",
              "      <th>Año</th>\n",
              "      <td>1.000000</td>\n",
              "      <td>-0.013195</td>\n",
              "      <td>0.143894</td>\n",
              "      <td>-0.106052</td>\n",
              "      <td>0.385199</td>\n",
              "      <td>0.307603</td>\n",
              "    </tr>\n",
              "    <tr>\n",
              "      <th>QSuicidios</th>\n",
              "      <td>-0.013195</td>\n",
              "      <td>1.000000</td>\n",
              "      <td>0.056438</td>\n",
              "      <td>0.268755</td>\n",
              "      <td>0.132382</td>\n",
              "      <td>0.059102</td>\n",
              "    </tr>\n",
              "    <tr>\n",
              "      <th>Poblacion</th>\n",
              "      <td>0.143894</td>\n",
              "      <td>0.056438</td>\n",
              "      <td>1.000000</td>\n",
              "      <td>-0.049315</td>\n",
              "      <td>0.117564</td>\n",
              "      <td>0.009165</td>\n",
              "    </tr>\n",
              "    <tr>\n",
              "      <th>Suicidios_c_100</th>\n",
              "      <td>-0.106052</td>\n",
              "      <td>0.268755</td>\n",
              "      <td>-0.049315</td>\n",
              "      <td>1.000000</td>\n",
              "      <td>0.030046</td>\n",
              "      <td>0.002596</td>\n",
              "    </tr>\n",
              "    <tr>\n",
              "      <th>HDI for year</th>\n",
              "      <td>0.385199</td>\n",
              "      <td>0.132382</td>\n",
              "      <td>0.117564</td>\n",
              "      <td>0.030046</td>\n",
              "      <td>1.000000</td>\n",
              "      <td>0.711352</td>\n",
              "    </tr>\n",
              "    <tr>\n",
              "      <th>gdp_per_capita ($)</th>\n",
              "      <td>0.307603</td>\n",
              "      <td>0.059102</td>\n",
              "      <td>0.009165</td>\n",
              "      <td>0.002596</td>\n",
              "      <td>0.711352</td>\n",
              "      <td>1.000000</td>\n",
              "    </tr>\n",
              "  </tbody>\n",
              "</table>\n",
              "</div>\n",
              "      <button class=\"colab-df-convert\" onclick=\"convertToInteractive('df-74900f69-2fe6-4e71-abf2-1f9a3ea31ea4')\"\n",
              "              title=\"Convert this dataframe to an interactive table.\"\n",
              "              style=\"display:none;\">\n",
              "        \n",
              "  <svg xmlns=\"http://www.w3.org/2000/svg\" height=\"24px\"viewBox=\"0 0 24 24\"\n",
              "       width=\"24px\">\n",
              "    <path d=\"M0 0h24v24H0V0z\" fill=\"none\"/>\n",
              "    <path d=\"M18.56 5.44l.94 2.06.94-2.06 2.06-.94-2.06-.94-.94-2.06-.94 2.06-2.06.94zm-11 1L8.5 8.5l.94-2.06 2.06-.94-2.06-.94L8.5 2.5l-.94 2.06-2.06.94zm10 10l.94 2.06.94-2.06 2.06-.94-2.06-.94-.94-2.06-.94 2.06-2.06.94z\"/><path d=\"M17.41 7.96l-1.37-1.37c-.4-.4-.92-.59-1.43-.59-.52 0-1.04.2-1.43.59L10.3 9.45l-7.72 7.72c-.78.78-.78 2.05 0 2.83L4 21.41c.39.39.9.59 1.41.59.51 0 1.02-.2 1.41-.59l7.78-7.78 2.81-2.81c.8-.78.8-2.07 0-2.86zM5.41 20L4 18.59l7.72-7.72 1.47 1.35L5.41 20z\"/>\n",
              "  </svg>\n",
              "      </button>\n",
              "      \n",
              "  <style>\n",
              "    .colab-df-container {\n",
              "      display:flex;\n",
              "      flex-wrap:wrap;\n",
              "      gap: 12px;\n",
              "    }\n",
              "\n",
              "    .colab-df-convert {\n",
              "      background-color: #E8F0FE;\n",
              "      border: none;\n",
              "      border-radius: 50%;\n",
              "      cursor: pointer;\n",
              "      display: none;\n",
              "      fill: #1967D2;\n",
              "      height: 32px;\n",
              "      padding: 0 0 0 0;\n",
              "      width: 32px;\n",
              "    }\n",
              "\n",
              "    .colab-df-convert:hover {\n",
              "      background-color: #E2EBFA;\n",
              "      box-shadow: 0px 1px 2px rgba(60, 64, 67, 0.3), 0px 1px 3px 1px rgba(60, 64, 67, 0.15);\n",
              "      fill: #174EA6;\n",
              "    }\n",
              "\n",
              "    [theme=dark] .colab-df-convert {\n",
              "      background-color: #3B4455;\n",
              "      fill: #D2E3FC;\n",
              "    }\n",
              "\n",
              "    [theme=dark] .colab-df-convert:hover {\n",
              "      background-color: #434B5C;\n",
              "      box-shadow: 0px 1px 3px 1px rgba(0, 0, 0, 0.15);\n",
              "      filter: drop-shadow(0px 1px 2px rgba(0, 0, 0, 0.3));\n",
              "      fill: #FFFFFF;\n",
              "    }\n",
              "  </style>\n",
              "\n",
              "      <script>\n",
              "        const buttonEl =\n",
              "          document.querySelector('#df-74900f69-2fe6-4e71-abf2-1f9a3ea31ea4 button.colab-df-convert');\n",
              "        buttonEl.style.display =\n",
              "          google.colab.kernel.accessAllowed ? 'block' : 'none';\n",
              "\n",
              "        async function convertToInteractive(key) {\n",
              "          const element = document.querySelector('#df-74900f69-2fe6-4e71-abf2-1f9a3ea31ea4');\n",
              "          const dataTable =\n",
              "            await google.colab.kernel.invokeFunction('convertToInteractive',\n",
              "                                                     [key], {});\n",
              "          if (!dataTable) return;\n",
              "\n",
              "          const docLinkHtml = 'Like what you see? Visit the ' +\n",
              "            '<a target=\"_blank\" href=https://colab.research.google.com/notebooks/data_table.ipynb>data table notebook</a>'\n",
              "            + ' to learn more about interactive tables.';\n",
              "          element.innerHTML = '';\n",
              "          dataTable['output_type'] = 'display_data';\n",
              "          await google.colab.output.renderOutput(dataTable, element);\n",
              "          const docLink = document.createElement('div');\n",
              "          docLink.innerHTML = docLinkHtml;\n",
              "          element.appendChild(docLink);\n",
              "        }\n",
              "      </script>\n",
              "    </div>\n",
              "  </div>\n",
              "  "
            ]
          },
          "metadata": {},
          "execution_count": 37
        }
      ]
    },
    {
      "cell_type": "code",
      "source": [
        "plt.figure(figsize=(8,6))\n",
        "sns.heatmap(data=df.corr(), cmap='jet')"
      ],
      "metadata": {
        "colab": {
          "base_uri": "https://localhost:8080/",
          "height": 480
        },
        "id": "uvI_n_IWqcen",
        "outputId": "6bf5abd5-0c8a-4d5b-cc0c-fef049e0c767"
      },
      "execution_count": null,
      "outputs": [
        {
          "output_type": "execute_result",
          "data": {
            "text/plain": [
              "<matplotlib.axes._subplots.AxesSubplot at 0x7fcd7ad99fd0>"
            ]
          },
          "metadata": {},
          "execution_count": 38
        },
        {
          "output_type": "display_data",
          "data": {
            "text/plain": [
              "<Figure size 576x432 with 2 Axes>"
            ],
            "image/png": "[encoded data removed]"
          },
          "metadata": {
            "needs_background": "light"
          }
        }
      ]
    },
    {
      "cell_type": "code",
      "source": [
        "df.head()"
      ],
      "metadata": {
        "colab": {
          "base_uri": "https://localhost:8080/",
          "height": 206
        },
        "id": "hhPfiuj_0_pt",
        "outputId": "853b6efa-a973-441f-980f-33723922eb91"
      },
      "execution_count": null,
      "outputs": [
        {
          "output_type": "execute_result",
          "data": {
            "text/plain": [
              "      Pais   Año     sex          age  QSuicidios  Poblacion  Suicidios_c_100  \\\n",
              "0  Albania  1987    male  15-24 years        21.0     312900             6.71   \n",
              "1  Albania  1987    male  35-54 years        16.0     308000             5.19   \n",
              "2  Albania  1987  female  15-24 years        14.0     289700             4.83   \n",
              "3  Albania  1987    male    75+ years         1.0      21800             4.59   \n",
              "4  Albania  1987    male  25-34 years         9.0     274300             3.28   \n",
              "\n",
              "  country-year  HDI for year  gdp_for_year ($)   gdp_per_capita ($)  \\\n",
              "0  Albania1987           NaN     2,15,66,24,900               796.0   \n",
              "1  Albania1987           NaN     2,15,66,24,900               796.0   \n",
              "2  Albania1987           NaN     2,15,66,24,900               796.0   \n",
              "3  Albania1987           NaN     2,15,66,24,900               796.0   \n",
              "4  Albania1987           NaN     2,15,66,24,900               796.0   \n",
              "\n",
              "        generacion  \n",
              "0     Generation X  \n",
              "1           Silent  \n",
              "2     Generation X  \n",
              "3  G.I. Generation  \n",
              "4          Boomers  "
            ],
            "text/html": [
              "\n",
              "  <div id=\"df-17b6da7f-263b-416c-a208-667e0d123e22\">\n",
              "    <div class=\"colab-df-container\">\n",
              "      <div>\n",
              "<style scoped>\n",
              "    .dataframe tbody tr th:only-of-type {\n",
              "        vertical-align: middle;\n",
              "    }\n",
              "\n",
              "    .dataframe tbody tr th {\n",
              "        vertical-align: top;\n",
              "    }\n",
              "\n",
              "    .dataframe thead th {\n",
              "        text-align: right;\n",
              "    }\n",
              "</style>\n",
              "<table border=\"1\" class=\"dataframe\">\n",
              "  <thead>\n",
              "    <tr style=\"text-align: right;\">\n",
              "      <th></th>\n",
              "      <th>Pais</th>\n",
              "      <th>Año</th>\n",
              "      <th>sex</th>\n",
              "      <th>age</th>\n",
              "      <th>QSuicidios</th>\n",
              "      <th>Poblacion</th>\n",
              "      <th>Suicidios_c_100</th>\n",
              "      <th>country-year</th>\n",
              "      <th>HDI for year</th>\n",
              "      <th>gdp_for_year ($)</th>\n",
              "      <th>gdp_per_capita ($)</th>\n",
              "      <th>generacion</th>\n",
              "    </tr>\n",
              "  </thead>\n",
              "  <tbody>\n",
              "    <tr>\n",
              "      <th>0</th>\n",
              "      <td>Albania</td>\n",
              "      <td>1987</td>\n",
              "      <td>male</td>\n",
              "      <td>15-24 years</td>\n",
              "      <td>21.0</td>\n",
              "      <td>312900</td>\n",
              "      <td>6.71</td>\n",
              "      <td>Albania1987</td>\n",
              "      <td>NaN</td>\n",
              "      <td>2,15,66,24,900</td>\n",
              "      <td>796.0</td>\n",
              "      <td>Generation X</td>\n",
              "    </tr>\n",
              "    <tr>\n",
              "      <th>1</th>\n",
              "      <td>Albania</td>\n",
              "      <td>1987</td>\n",
              "      <td>male</td>\n",
              "      <td>35-54 years</td>\n",
              "      <td>16.0</td>\n",
              "      <td>308000</td>\n",
              "      <td>5.19</td>\n",
              "      <td>Albania1987</td>\n",
              "      <td>NaN</td>\n",
              "      <td>2,15,66,24,900</td>\n",
              "      <td>796.0</td>\n",
              "      <td>Silent</td>\n",
              "    </tr>\n",
              "    <tr>\n",
              "      <th>2</th>\n",
              "      <td>Albania</td>\n",
              "      <td>1987</td>\n",
              "      <td>female</td>\n",
              "      <td>15-24 years</td>\n",
              "      <td>14.0</td>\n",
              "      <td>289700</td>\n",
              "      <td>4.83</td>\n",
              "      <td>Albania1987</td>\n",
              "      <td>NaN</td>\n",
              "      <td>2,15,66,24,900</td>\n",
              "      <td>796.0</td>\n",
              "      <td>Generation X</td>\n",
              "    </tr>\n",
              "    <tr>\n",
              "      <th>3</th>\n",
              "      <td>Albania</td>\n",
              "      <td>1987</td>\n",
              "      <td>male</td>\n",
              "      <td>75+ years</td>\n",
              "      <td>1.0</td>\n",
              "      <td>21800</td>\n",
              "      <td>4.59</td>\n",
              "      <td>Albania1987</td>\n",
              "      <td>NaN</td>\n",
              "      <td>2,15,66,24,900</td>\n",
              "      <td>796.0</td>\n",
              "      <td>G.I. Generation</td>\n",
              "    </tr>\n",
              "    <tr>\n",
              "      <th>4</th>\n",
              "      <td>Albania</td>\n",
              "      <td>1987</td>\n",
              "      <td>male</td>\n",
              "      <td>25-34 years</td>\n",
              "      <td>9.0</td>\n",
              "      <td>274300</td>\n",
              "      <td>3.28</td>\n",
              "      <td>Albania1987</td>\n",
              "      <td>NaN</td>\n",
              "      <td>2,15,66,24,900</td>\n",
              "      <td>796.0</td>\n",
              "      <td>Boomers</td>\n",
              "    </tr>\n",
              "  </tbody>\n",
              "</table>\n",
              "</div>\n",
              "      <button class=\"colab-df-convert\" onclick=\"convertToInteractive('df-17b6da7f-263b-416c-a208-667e0d123e22')\"\n",
              "              title=\"Convert this dataframe to an interactive table.\"\n",
              "              style=\"display:none;\">\n",
              "        \n",
              "  <svg xmlns=\"http://www.w3.org/2000/svg\" height=\"24px\"viewBox=\"0 0 24 24\"\n",
              "       width=\"24px\">\n",
              "    <path d=\"M0 0h24v24H0V0z\" fill=\"none\"/>\n",
              "    <path d=\"M18.56 5.44l.94 2.06.94-2.06 2.06-.94-2.06-.94-.94-2.06-.94 2.06-2.06.94zm-11 1L8.5 8.5l.94-2.06 2.06-.94-2.06-.94L8.5 2.5l-.94 2.06-2.06.94zm10 10l.94 2.06.94-2.06 2.06-.94-2.06-.94-.94-2.06-.94 2.06-2.06.94z\"/><path d=\"M17.41 7.96l-1.37-1.37c-.4-.4-.92-.59-1.43-.59-.52 0-1.04.2-1.43.59L10.3 9.45l-7.72 7.72c-.78.78-.78 2.05 0 2.83L4 21.41c.39.39.9.59 1.41.59.51 0 1.02-.2 1.41-.59l7.78-7.78 2.81-2.81c.8-.78.8-2.07 0-2.86zM5.41 20L4 18.59l7.72-7.72 1.47 1.35L5.41 20z\"/>\n",
              "  </svg>\n",
              "      </button>\n",
              "      \n",
              "  <style>\n",
              "    .colab-df-container {\n",
              "      display:flex;\n",
              "      flex-wrap:wrap;\n",
              "      gap: 12px;\n",
              "    }\n",
              "\n",
              "    .colab-df-convert {\n",
              "      background-color: #E8F0FE;\n",
              "      border: none;\n",
              "      border-radius: 50%;\n",
              "      cursor: pointer;\n",
              "      display: none;\n",
              "      fill: #1967D2;\n",
              "      height: 32px;\n",
              "      padding: 0 0 0 0;\n",
              "      width: 32px;\n",
              "    }\n",
              "\n",
              "    .colab-df-convert:hover {\n",
              "      background-color: #E2EBFA;\n",
              "      box-shadow: 0px 1px 2px rgba(60, 64, 67, 0.3), 0px 1px 3px 1px rgba(60, 64, 67, 0.15);\n",
              "      fill: #174EA6;\n",
              "    }\n",
              "\n",
              "    [theme=dark] .colab-df-convert {\n",
              "      background-color: #3B4455;\n",
              "      fill: #D2E3FC;\n",
              "    }\n",
              "\n",
              "    [theme=dark] .colab-df-convert:hover {\n",
              "      background-color: #434B5C;\n",
              "      box-shadow: 0px 1px 3px 1px rgba(0, 0, 0, 0.15);\n",
              "      filter: drop-shadow(0px 1px 2px rgba(0, 0, 0, 0.3));\n",
              "      fill: #FFFFFF;\n",
              "    }\n",
              "  </style>\n",
              "\n",
              "      <script>\n",
              "        const buttonEl =\n",
              "          document.querySelector('#df-17b6da7f-263b-416c-a208-667e0d123e22 button.colab-df-convert');\n",
              "        buttonEl.style.display =\n",
              "          google.colab.kernel.accessAllowed ? 'block' : 'none';\n",
              "\n",
              "        async function convertToInteractive(key) {\n",
              "          const element = document.querySelector('#df-17b6da7f-263b-416c-a208-667e0d123e22');\n",
              "          const dataTable =\n",
              "            await google.colab.kernel.invokeFunction('convertToInteractive',\n",
              "                                                     [key], {});\n",
              "          if (!dataTable) return;\n",
              "\n",
              "          const docLinkHtml = 'Like what you see? Visit the ' +\n",
              "            '<a target=\"_blank\" href=https://colab.research.google.com/notebooks/data_table.ipynb>data table notebook</a>'\n",
              "            + ' to learn more about interactive tables.';\n",
              "          element.innerHTML = '';\n",
              "          dataTable['output_type'] = 'display_data';\n",
              "          await google.colab.output.renderOutput(dataTable, element);\n",
              "          const docLink = document.createElement('div');\n",
              "          docLink.innerHTML = docLinkHtml;\n",
              "          element.appendChild(docLink);\n",
              "        }\n",
              "      </script>\n",
              "    </div>\n",
              "  </div>\n",
              "  "
            ]
          },
          "metadata": {},
          "execution_count": 39
        }
      ]
    },
    {
      "cell_type": "markdown",
      "source": [
        "#Transformación de variables"
      ],
      "metadata": {
        "id": "82a8h_CYLMsT"
      }
    },
    {
      "cell_type": "markdown",
      "source": [
        "Mediante el proceso OneHotEncoder transformamos las variables categoricas sin tener en cuenta los paises dado que por la cantidad generarian ruido en el modelo"
      ],
      "metadata": {
        "id": "o2nPI3d8LRfX"
      }
    },
    {
      "cell_type": "code",
      "source": [
        "from sklearn.preprocessing import OneHotEncoder\n",
        "OHE = ['sex','generacion']\n",
        "df_OHE = pd.get_dummies(df[OHE], columns=OHE)\n",
        "df = df.drop(columns=['sex','generacion'], axis=1)\n",
        "df_OHE"
      ],
      "metadata": {
        "colab": {
          "base_uri": "https://localhost:8080/",
          "height": 467
        },
        "id": "nEYI2nZ60_sG",
        "outputId": "472ff3f4-2de0-499d-d857-0a628b0aeffa"
      },
      "execution_count": null,
      "outputs": [
        {
          "output_type": "execute_result",
          "data": {
            "text/plain": [
              "       sex_female  sex_male  generacion_Boomers  generacion_G.I. Generation  \\\n",
              "0               0         1                   0                           0   \n",
              "1               0         1                   0                           0   \n",
              "2               1         0                   0                           0   \n",
              "3               0         1                   0                           1   \n",
              "4               0         1                   1                           0   \n",
              "...           ...       ...                 ...                         ...   \n",
              "31751           1         0                   0                           1   \n",
              "31752           1         0                   0                           1   \n",
              "31753           1         0                   0                           1   \n",
              "31754           1         0                   0                           1   \n",
              "31755           1         0                   0                           1   \n",
              "\n",
              "       generacion_Generation X  generacion_Generation Z  \\\n",
              "0                            1                        0   \n",
              "1                            0                        0   \n",
              "2                            1                        0   \n",
              "3                            0                        0   \n",
              "4                            0                        0   \n",
              "...                        ...                      ...   \n",
              "31751                        0                        0   \n",
              "31752                        0                        0   \n",
              "31753                        0                        0   \n",
              "31754                        0                        0   \n",
              "31755                        0                        0   \n",
              "\n",
              "       generacion_Millenials  generacion_Silent  \n",
              "0                          0                  0  \n",
              "1                          0                  1  \n",
              "2                          0                  0  \n",
              "3                          0                  0  \n",
              "4                          0                  0  \n",
              "...                      ...                ...  \n",
              "31751                      0                  0  \n",
              "31752                      0                  0  \n",
              "31753                      0                  0  \n",
              "31754                      0                  0  \n",
              "31755                      0                  0  \n",
              "\n",
              "[31756 rows x 8 columns]"
            ],
            "text/html": [
              "\n",
              "  <div id=\"df-f51e869e-0db8-4853-b7d6-31bf91c6f69c\">\n",
              "    <div class=\"colab-df-container\">\n",
              "      <div>\n",
              "<style scoped>\n",
              "    .dataframe tbody tr th:only-of-type {\n",
              "        vertical-align: middle;\n",
              "    }\n",
              "\n",
              "    .dataframe tbody tr th {\n",
              "        vertical-align: top;\n",
              "    }\n",
              "\n",
              "    .dataframe thead th {\n",
              "        text-align: right;\n",
              "    }\n",
              "</style>\n",
              "<table border=\"1\" class=\"dataframe\">\n",
              "  <thead>\n",
              "    <tr style=\"text-align: right;\">\n",
              "      <th></th>\n",
              "      <th>sex_female</th>\n",
              "      <th>sex_male</th>\n",
              "      <th>generacion_Boomers</th>\n",
              "      <th>generacion_G.I. Generation</th>\n",
              "      <th>generacion_Generation X</th>\n",
              "      <th>generacion_Generation Z</th>\n",
              "      <th>generacion_Millenials</th>\n",
              "      <th>generacion_Silent</th>\n",
              "    </tr>\n",
              "  </thead>\n",
              "  <tbody>\n",
              "    <tr>\n",
              "      <th>0</th>\n",
              "      <td>0</td>\n",
              "      <td>1</td>\n",
              "      <td>0</td>\n",
              "      <td>0</td>\n",
              "      <td>1</td>\n",
              "      <td>0</td>\n",
              "      <td>0</td>\n",
              "      <td>0</td>\n",
              "    </tr>\n",
              "    <tr>\n",
              "      <th>1</th>\n",
              "      <td>0</td>\n",
              "      <td>1</td>\n",
              "      <td>0</td>\n",
              "      <td>0</td>\n",
              "      <td>0</td>\n",
              "      <td>0</td>\n",
              "      <td>0</td>\n",
              "      <td>1</td>\n",
              "    </tr>\n",
              "    <tr>\n",
              "      <th>2</th>\n",
              "      <td>1</td>\n",
              "      <td>0</td>\n",
              "      <td>0</td>\n",
              "      <td>0</td>\n",
              "      <td>1</td>\n",
              "      <td>0</td>\n",
              "      <td>0</td>\n",
              "      <td>0</td>\n",
              "    </tr>\n",
              "    <tr>\n",
              "      <th>3</th>\n",
              "      <td>0</td>\n",
              "      <td>1</td>\n",
              "      <td>0</td>\n",
              "      <td>1</td>\n",
              "      <td>0</td>\n",
              "      <td>0</td>\n",
              "      <td>0</td>\n",
              "      <td>0</td>\n",
              "    </tr>\n",
              "    <tr>\n",
              "      <th>4</th>\n",
              "      <td>0</td>\n",
              "      <td>1</td>\n",
              "      <td>1</td>\n",
              "      <td>0</td>\n",
              "      <td>0</td>\n",
              "      <td>0</td>\n",
              "      <td>0</td>\n",
              "      <td>0</td>\n",
              "    </tr>\n",
              "    <tr>\n",
              "      <th>...</th>\n",
              "      <td>...</td>\n",
              "      <td>...</td>\n",
              "      <td>...</td>\n",
              "      <td>...</td>\n",
              "      <td>...</td>\n",
              "      <td>...</td>\n",
              "      <td>...</td>\n",
              "      <td>...</td>\n",
              "    </tr>\n",
              "    <tr>\n",
              "      <th>31751</th>\n",
              "      <td>1</td>\n",
              "      <td>0</td>\n",
              "      <td>0</td>\n",
              "      <td>1</td>\n",
              "      <td>0</td>\n",
              "      <td>0</td>\n",
              "      <td>0</td>\n",
              "      <td>0</td>\n",
              "    </tr>\n",
              "    <tr>\n",
              "      <th>31752</th>\n",
              "      <td>1</td>\n",
              "      <td>0</td>\n",
              "      <td>0</td>\n",
              "      <td>1</td>\n",
              "      <td>0</td>\n",
              "      <td>0</td>\n",
              "      <td>0</td>\n",
              "      <td>0</td>\n",
              "    </tr>\n",
              "    <tr>\n",
              "      <th>31753</th>\n",
              "      <td>1</td>\n",
              "      <td>0</td>\n",
              "      <td>0</td>\n",
              "      <td>1</td>\n",
              "      <td>0</td>\n",
              "      <td>0</td>\n",
              "      <td>0</td>\n",
              "      <td>0</td>\n",
              "    </tr>\n",
              "    <tr>\n",
              "      <th>31754</th>\n",
              "      <td>1</td>\n",
              "      <td>0</td>\n",
              "      <td>0</td>\n",
              "      <td>1</td>\n",
              "      <td>0</td>\n",
              "      <td>0</td>\n",
              "      <td>0</td>\n",
              "      <td>0</td>\n",
              "    </tr>\n",
              "    <tr>\n",
              "      <th>31755</th>\n",
              "      <td>1</td>\n",
              "      <td>0</td>\n",
              "      <td>0</td>\n",
              "      <td>1</td>\n",
              "      <td>0</td>\n",
              "      <td>0</td>\n",
              "      <td>0</td>\n",
              "      <td>0</td>\n",
              "    </tr>\n",
              "  </tbody>\n",
              "</table>\n",
              "<p>31756 rows × 8 columns</p>\n",
              "</div>\n",
              "      <button class=\"colab-df-convert\" onclick=\"convertToInteractive('df-f51e869e-0db8-4853-b7d6-31bf91c6f69c')\"\n",
              "              title=\"Convert this dataframe to an interactive table.\"\n",
              "              style=\"display:none;\">\n",
              "        \n",
              "  <svg xmlns=\"http://www.w3.org/2000/svg\" height=\"24px\"viewBox=\"0 0 24 24\"\n",
              "       width=\"24px\">\n",
              "    <path d=\"M0 0h24v24H0V0z\" fill=\"none\"/>\n",
              "    <path d=\"M18.56 5.44l.94 2.06.94-2.06 2.06-.94-2.06-.94-.94-2.06-.94 2.06-2.06.94zm-11 1L8.5 8.5l.94-2.06 2.06-.94-2.06-.94L8.5 2.5l-.94 2.06-2.06.94zm10 10l.94 2.06.94-2.06 2.06-.94-2.06-.94-.94-2.06-.94 2.06-2.06.94z\"/><path d=\"M17.41 7.96l-1.37-1.37c-.4-.4-.92-.59-1.43-.59-.52 0-1.04.2-1.43.59L10.3 9.45l-7.72 7.72c-.78.78-.78 2.05 0 2.83L4 21.41c.39.39.9.59 1.41.59.51 0 1.02-.2 1.41-.59l7.78-7.78 2.81-2.81c.8-.78.8-2.07 0-2.86zM5.41 20L4 18.59l7.72-7.72 1.47 1.35L5.41 20z\"/>\n",
              "  </svg>\n",
              "      </button>\n",
              "      \n",
              "  <style>\n",
              "    .colab-df-container {\n",
              "      display:flex;\n",
              "      flex-wrap:wrap;\n",
              "      gap: 12px;\n",
              "    }\n",
              "\n",
              "    .colab-df-convert {\n",
              "      background-color: #E8F0FE;\n",
              "      border: none;\n",
              "      border-radius: 50%;\n",
              "      cursor: pointer;\n",
              "      display: none;\n",
              "      fill: #1967D2;\n",
              "      height: 32px;\n",
              "      padding: 0 0 0 0;\n",
              "      width: 32px;\n",
              "    }\n",
              "\n",
              "    .colab-df-convert:hover {\n",
              "      background-color: #E2EBFA;\n",
              "      box-shadow: 0px 1px 2px rgba(60, 64, 67, 0.3), 0px 1px 3px 1px rgba(60, 64, 67, 0.15);\n",
              "      fill: #174EA6;\n",
              "    }\n",
              "\n",
              "    [theme=dark] .colab-df-convert {\n",
              "      background-color: #3B4455;\n",
              "      fill: #D2E3FC;\n",
              "    }\n",
              "\n",
              "    [theme=dark] .colab-df-convert:hover {\n",
              "      background-color: #434B5C;\n",
              "      box-shadow: 0px 1px 3px 1px rgba(0, 0, 0, 0.15);\n",
              "      filter: drop-shadow(0px 1px 2px rgba(0, 0, 0, 0.3));\n",
              "      fill: #FFFFFF;\n",
              "    }\n",
              "  </style>\n",
              "\n",
              "      <script>\n",
              "        const buttonEl =\n",
              "          document.querySelector('#df-f51e869e-0db8-4853-b7d6-31bf91c6f69c button.colab-df-convert');\n",
              "        buttonEl.style.display =\n",
              "          google.colab.kernel.accessAllowed ? 'block' : 'none';\n",
              "\n",
              "        async function convertToInteractive(key) {\n",
              "          const element = document.querySelector('#df-f51e869e-0db8-4853-b7d6-31bf91c6f69c');\n",
              "          const dataTable =\n",
              "            await google.colab.kernel.invokeFunction('convertToInteractive',\n",
              "                                                     [key], {});\n",
              "          if (!dataTable) return;\n",
              "\n",
              "          const docLinkHtml = 'Like what you see? Visit the ' +\n",
              "            '<a target=\"_blank\" href=https://colab.research.google.com/notebooks/data_table.ipynb>data table notebook</a>'\n",
              "            + ' to learn more about interactive tables.';\n",
              "          element.innerHTML = '';\n",
              "          dataTable['output_type'] = 'display_data';\n",
              "          await google.colab.output.renderOutput(dataTable, element);\n",
              "          const docLink = document.createElement('div');\n",
              "          docLink.innerHTML = docLinkHtml;\n",
              "          element.appendChild(docLink);\n",
              "        }\n",
              "      </script>\n",
              "    </div>\n",
              "  </div>\n",
              "  "
            ]
          },
          "metadata": {},
          "execution_count": 40
        }
      ]
    },
    {
      "cell_type": "markdown",
      "source": [
        "Transformamos los outliers de las variables númericas imputando las desviaciones"
      ],
      "metadata": {
        "id": "WwKDMfSbLkRT"
      }
    },
    {
      "cell_type": "code",
      "source": [
        "def imputar_outliers_IQR(df):\n",
        "  \n",
        "  q1=df.quantile(0.25)\n",
        "  q3=df.quantile(0.75)\n",
        "  IQR=q3-q1\n",
        "  upper = df[~(df>(q3+1.5*IQR))].max()\n",
        "  lower = df[~(df<(q1-1.5*IQR))].min()\n",
        "  df = np.where(df > upper, \n",
        "                df.mean(),\n",
        "                np.where(df < lower,\n",
        "                        df.mean(),\n",
        "                        df)\n",
        "                )\n",
        "  return df"
      ],
      "metadata": {
        "id": "mWRvir6wGDVg"
      },
      "execution_count": null,
      "outputs": []
    },
    {
      "cell_type": "code",
      "source": [
        "df[['QSuicidios','Suicidios_c_100']]=imputar_outliers_IQR(df[['QSuicidios','Suicidios_c_100']])"
      ],
      "metadata": {
        "id": "JjR72opdGZNS"
      },
      "execution_count": null,
      "outputs": []
    },
    {
      "cell_type": "code",
      "source": [
        "df.columns"
      ],
      "metadata": {
        "colab": {
          "base_uri": "https://localhost:8080/"
        },
        "id": "JJrkn7VUpyzs",
        "outputId": "786862fe-91e0-489d-c3d0-9550629ce394"
      },
      "execution_count": null,
      "outputs": [
        {
          "output_type": "execute_result",
          "data": {
            "text/plain": [
              "Index(['Pais', 'Año', 'age', 'QSuicidios', 'Poblacion', 'Suicidios_c_100',\n",
              "       'country-year', 'HDI for year', ' gdp_for_year ($) ',\n",
              "       'gdp_per_capita ($)'],\n",
              "      dtype='object')"
            ]
          },
          "metadata": {},
          "execution_count": 54
        }
      ]
    },
    {
      "cell_type": "code",
      "source": [
        "df_nu = pd.concat([df,df_OHE], axis=1)\n",
        "df_nu "
      ],
      "metadata": {
        "colab": {
          "base_uri": "https://localhost:8080/",
          "height": 765
        },
        "id": "KelMY9Fv0_ug",
        "outputId": "cac80c43-4eac-41bd-b857-e2100ebb385e"
      },
      "execution_count": null,
      "outputs": [
        {
          "output_type": "execute_result",
          "data": {
            "text/plain": [
              "                           Pais   Año          age  QSuicidios  Poblacion  \\\n",
              "0                       Albania  1987  15-24 years   21.000000     312900   \n",
              "1                       Albania  1987  35-54 years   16.000000     308000   \n",
              "2                       Albania  1987  15-24 years   14.000000     289700   \n",
              "3                       Albania  1987    75+ years    1.000000      21800   \n",
              "4                       Albania  1987  25-34 years    9.000000     274300   \n",
              "...                         ...   ...          ...         ...        ...   \n",
              "31751                   Ukraine  2017    75+ years  256.000000   44831135   \n",
              "31752            United Kingdom  2017    75+ years  104.000000   66058859   \n",
              "31753  United States of America  2017    75+ years  237.136242  325122128   \n",
              "31754                   Uruguay  2017    75+ years   14.000000    3422200   \n",
              "31755                Uzbekistan  2017    75+ years    3.000000   32388600   \n",
              "\n",
              "       Suicidios_c_100                  country-year  HDI for year  \\\n",
              "0             6.710000                   Albania1987           NaN   \n",
              "1             5.190000                   Albania1987           NaN   \n",
              "2             4.830000                   Albania1987           NaN   \n",
              "3             4.590000                   Albania1987           NaN   \n",
              "4             3.280000                   Albania1987           NaN   \n",
              "...                ...                           ...           ...   \n",
              "31751         0.571032                   Ukraine2017      0.785458   \n",
              "31752         0.157435            United Kingdom2017      0.914735   \n",
              "31753         0.154096  United States of America2017      0.918620   \n",
              "31754         0.409094                   Uruguay2017      0.816745   \n",
              "31755         0.009263                Uzbekistan2017      0.691258   \n",
              "\n",
              "       gdp_for_year ($)   gdp_per_capita ($)  sex_female  sex_male  \\\n",
              "0         2,15,66,24,900          796.000000           0         1   \n",
              "1         2,15,66,24,900          796.000000           0         1   \n",
              "2         2,15,66,24,900          796.000000           1         0   \n",
              "3         2,15,66,24,900          796.000000           0         1   \n",
              "4         2,15,66,24,900          796.000000           0         1   \n",
              "...                  ...                 ...         ...       ...   \n",
              "31751           1.12E+11         2638.326055           1         0   \n",
              "31752           2.70E+12        40857.755580           1         0   \n",
              "31753           1.95E+13        60109.655730           1         0   \n",
              "31754        64233966861        18690.893840           1         0   \n",
              "31755        62081323299         1916.764642           1         0   \n",
              "\n",
              "       generacion_Boomers  generacion_G.I. Generation  \\\n",
              "0                       0                           0   \n",
              "1                       0                           0   \n",
              "2                       0                           0   \n",
              "3                       0                           1   \n",
              "4                       1                           0   \n",
              "...                   ...                         ...   \n",
              "31751                   0                           1   \n",
              "31752                   0                           1   \n",
              "31753                   0                           1   \n",
              "31754                   0                           1   \n",
              "31755                   0                           1   \n",
              "\n",
              "       generacion_Generation X  generacion_Generation Z  \\\n",
              "0                            1                        0   \n",
              "1                            0                        0   \n",
              "2                            1                        0   \n",
              "3                            0                        0   \n",
              "4                            0                        0   \n",
              "...                        ...                      ...   \n",
              "31751                        0                        0   \n",
              "31752                        0                        0   \n",
              "31753                        0                        0   \n",
              "31754                        0                        0   \n",
              "31755                        0                        0   \n",
              "\n",
              "       generacion_Millenials  generacion_Silent  \n",
              "0                          0                  0  \n",
              "1                          0                  1  \n",
              "2                          0                  0  \n",
              "3                          0                  0  \n",
              "4                          0                  0  \n",
              "...                      ...                ...  \n",
              "31751                      0                  0  \n",
              "31752                      0                  0  \n",
              "31753                      0                  0  \n",
              "31754                      0                  0  \n",
              "31755                      0                  0  \n",
              "\n",
              "[31756 rows x 18 columns]"
            ],
            "text/html": [
              "\n",
              "  <div id=\"df-39850bb4-040b-4a4a-baf5-5fac7bae47ce\">\n",
              "    <div class=\"colab-df-container\">\n",
              "      <div>\n",
              "<style scoped>\n",
              "    .dataframe tbody tr th:only-of-type {\n",
              "        vertical-align: middle;\n",
              "    }\n",
              "\n",
              "    .dataframe tbody tr th {\n",
              "        vertical-align: top;\n",
              "    }\n",
              "\n",
              "    .dataframe thead th {\n",
              "        text-align: right;\n",
              "    }\n",
              "</style>\n",
              "<table border=\"1\" class=\"dataframe\">\n",
              "  <thead>\n",
              "    <tr style=\"text-align: right;\">\n",
              "      <th></th>\n",
              "      <th>Pais</th>\n",
              "      <th>Año</th>\n",
              "      <th>age</th>\n",
              "      <th>QSuicidios</th>\n",
              "      <th>Poblacion</th>\n",
              "      <th>Suicidios_c_100</th>\n",
              "      <th>country-year</th>\n",
              "      <th>HDI for year</th>\n",
              "      <th>gdp_for_year ($)</th>\n",
              "      <th>gdp_per_capita ($)</th>\n",
              "      <th>sex_female</th>\n",
              "      <th>sex_male</th>\n",
              "      <th>generacion_Boomers</th>\n",
              "      <th>generacion_G.I. Generation</th>\n",
              "      <th>generacion_Generation X</th>\n",
              "      <th>generacion_Generation Z</th>\n",
              "      <th>generacion_Millenials</th>\n",
              "      <th>generacion_Silent</th>\n",
              "    </tr>\n",
              "  </thead>\n",
              "  <tbody>\n",
              "    <tr>\n",
              "      <th>0</th>\n",
              "      <td>Albania</td>\n",
              "      <td>1987</td>\n",
              "      <td>15-24 years</td>\n",
              "      <td>21.000000</td>\n",
              "      <td>312900</td>\n",
              "      <td>6.710000</td>\n",
              "      <td>Albania1987</td>\n",
              "      <td>NaN</td>\n",
              "      <td>2,15,66,24,900</td>\n",
              "      <td>796.000000</td>\n",
              "      <td>0</td>\n",
              "      <td>1</td>\n",
              "      <td>0</td>\n",
              "      <td>0</td>\n",
              "      <td>1</td>\n",
              "      <td>0</td>\n",
              "      <td>0</td>\n",
              "      <td>0</td>\n",
              "    </tr>\n",
              "    <tr>\n",
              "      <th>1</th>\n",
              "      <td>Albania</td>\n",
              "      <td>1987</td>\n",
              "      <td>35-54 years</td>\n",
              "      <td>16.000000</td>\n",
              "      <td>308000</td>\n",
              "      <td>5.190000</td>\n",
              "      <td>Albania1987</td>\n",
              "      <td>NaN</td>\n",
              "      <td>2,15,66,24,900</td>\n",
              "      <td>796.000000</td>\n",
              "      <td>0</td>\n",
              "      <td>1</td>\n",
              "      <td>0</td>\n",
              "      <td>0</td>\n",
              "      <td>0</td>\n",
              "      <td>0</td>\n",
              "      <td>0</td>\n",
              "      <td>1</td>\n",
              "    </tr>\n",
              "    <tr>\n",
              "      <th>2</th>\n",
              "      <td>Albania</td>\n",
              "      <td>1987</td>\n",
              "      <td>15-24 years</td>\n",
              "      <td>14.000000</td>\n",
              "      <td>289700</td>\n",
              "      <td>4.830000</td>\n",
              "      <td>Albania1987</td>\n",
              "      <td>NaN</td>\n",
              "      <td>2,15,66,24,900</td>\n",
              "      <td>796.000000</td>\n",
              "      <td>1</td>\n",
              "      <td>0</td>\n",
              "      <td>0</td>\n",
              "      <td>0</td>\n",
              "      <td>1</td>\n",
              "      <td>0</td>\n",
              "      <td>0</td>\n",
              "      <td>0</td>\n",
              "    </tr>\n",
              "    <tr>\n",
              "      <th>3</th>\n",
              "      <td>Albania</td>\n",
              "      <td>1987</td>\n",
              "      <td>75+ years</td>\n",
              "      <td>1.000000</td>\n",
              "      <td>21800</td>\n",
              "      <td>4.590000</td>\n",
              "      <td>Albania1987</td>\n",
              "      <td>NaN</td>\n",
              "      <td>2,15,66,24,900</td>\n",
              "      <td>796.000000</td>\n",
              "      <td>0</td>\n",
              "      <td>1</td>\n",
              "      <td>0</td>\n",
              "      <td>1</td>\n",
              "      <td>0</td>\n",
              "      <td>0</td>\n",
              "      <td>0</td>\n",
              "      <td>0</td>\n",
              "    </tr>\n",
              "    <tr>\n",
              "      <th>4</th>\n",
              "      <td>Albania</td>\n",
              "      <td>1987</td>\n",
              "      <td>25-34 years</td>\n",
              "      <td>9.000000</td>\n",
              "      <td>274300</td>\n",
              "      <td>3.280000</td>\n",
              "      <td>Albania1987</td>\n",
              "      <td>NaN</td>\n",
              "      <td>2,15,66,24,900</td>\n",
              "      <td>796.000000</td>\n",
              "      <td>0</td>\n",
              "      <td>1</td>\n",
              "      <td>1</td>\n",
              "      <td>0</td>\n",
              "      <td>0</td>\n",
              "      <td>0</td>\n",
              "      <td>0</td>\n",
              "      <td>0</td>\n",
              "    </tr>\n",
              "    <tr>\n",
              "      <th>...</th>\n",
              "      <td>...</td>\n",
              "      <td>...</td>\n",
              "      <td>...</td>\n",
              "      <td>...</td>\n",
              "      <td>...</td>\n",
              "      <td>...</td>\n",
              "      <td>...</td>\n",
              "      <td>...</td>\n",
              "      <td>...</td>\n",
              "      <td>...</td>\n",
              "      <td>...</td>\n",
              "      <td>...</td>\n",
              "      <td>...</td>\n",
              "      <td>...</td>\n",
              "      <td>...</td>\n",
              "      <td>...</td>\n",
              "      <td>...</td>\n",
              "      <td>...</td>\n",
              "    </tr>\n",
              "    <tr>\n",
              "      <th>31751</th>\n",
              "      <td>Ukraine</td>\n",
              "      <td>2017</td>\n",
              "      <td>75+ years</td>\n",
              "      <td>256.000000</td>\n",
              "      <td>44831135</td>\n",
              "      <td>0.571032</td>\n",
              "      <td>Ukraine2017</td>\n",
              "      <td>0.785458</td>\n",
              "      <td>1.12E+11</td>\n",
              "      <td>2638.326055</td>\n",
              "      <td>1</td>\n",
              "      <td>0</td>\n",
              "      <td>0</td>\n",
              "      <td>1</td>\n",
              "      <td>0</td>\n",
              "      <td>0</td>\n",
              "      <td>0</td>\n",
              "      <td>0</td>\n",
              "    </tr>\n",
              "    <tr>\n",
              "      <th>31752</th>\n",
              "      <td>United Kingdom</td>\n",
              "      <td>2017</td>\n",
              "      <td>75+ years</td>\n",
              "      <td>104.000000</td>\n",
              "      <td>66058859</td>\n",
              "      <td>0.157435</td>\n",
              "      <td>United Kingdom2017</td>\n",
              "      <td>0.914735</td>\n",
              "      <td>2.70E+12</td>\n",
              "      <td>40857.755580</td>\n",
              "      <td>1</td>\n",
              "      <td>0</td>\n",
              "      <td>0</td>\n",
              "      <td>1</td>\n",
              "      <td>0</td>\n",
              "      <td>0</td>\n",
              "      <td>0</td>\n",
              "      <td>0</td>\n",
              "    </tr>\n",
              "    <tr>\n",
              "      <th>31753</th>\n",
              "      <td>United States of America</td>\n",
              "      <td>2017</td>\n",
              "      <td>75+ years</td>\n",
              "      <td>237.136242</td>\n",
              "      <td>325122128</td>\n",
              "      <td>0.154096</td>\n",
              "      <td>United States of America2017</td>\n",
              "      <td>0.918620</td>\n",
              "      <td>1.95E+13</td>\n",
              "      <td>60109.655730</td>\n",
              "      <td>1</td>\n",
              "      <td>0</td>\n",
              "      <td>0</td>\n",
              "      <td>1</td>\n",
              "      <td>0</td>\n",
              "      <td>0</td>\n",
              "      <td>0</td>\n",
              "      <td>0</td>\n",
              "    </tr>\n",
              "    <tr>\n",
              "      <th>31754</th>\n",
              "      <td>Uruguay</td>\n",
              "      <td>2017</td>\n",
              "      <td>75+ years</td>\n",
              "      <td>14.000000</td>\n",
              "      <td>3422200</td>\n",
              "      <td>0.409094</td>\n",
              "      <td>Uruguay2017</td>\n",
              "      <td>0.816745</td>\n",
              "      <td>64233966861</td>\n",
              "      <td>18690.893840</td>\n",
              "      <td>1</td>\n",
              "      <td>0</td>\n",
              "      <td>0</td>\n",
              "      <td>1</td>\n",
              "      <td>0</td>\n",
              "      <td>0</td>\n",
              "      <td>0</td>\n",
              "      <td>0</td>\n",
              "    </tr>\n",
              "    <tr>\n",
              "      <th>31755</th>\n",
              "      <td>Uzbekistan</td>\n",
              "      <td>2017</td>\n",
              "      <td>75+ years</td>\n",
              "      <td>3.000000</td>\n",
              "      <td>32388600</td>\n",
              "      <td>0.009263</td>\n",
              "      <td>Uzbekistan2017</td>\n",
              "      <td>0.691258</td>\n",
              "      <td>62081323299</td>\n",
              "      <td>1916.764642</td>\n",
              "      <td>1</td>\n",
              "      <td>0</td>\n",
              "      <td>0</td>\n",
              "      <td>1</td>\n",
              "      <td>0</td>\n",
              "      <td>0</td>\n",
              "      <td>0</td>\n",
              "      <td>0</td>\n",
              "    </tr>\n",
              "  </tbody>\n",
              "</table>\n",
              "<p>31756 rows × 18 columns</p>\n",
              "</div>\n",
              "      <button class=\"colab-df-convert\" onclick=\"convertToInteractive('df-39850bb4-040b-4a4a-baf5-5fac7bae47ce')\"\n",
              "              title=\"Convert this dataframe to an interactive table.\"\n",
              "              style=\"display:none;\">\n",
              "        \n",
              "  <svg xmlns=\"http://www.w3.org/2000/svg\" height=\"24px\"viewBox=\"0 0 24 24\"\n",
              "       width=\"24px\">\n",
              "    <path d=\"M0 0h24v24H0V0z\" fill=\"none\"/>\n",
              "    <path d=\"M18.56 5.44l.94 2.06.94-2.06 2.06-.94-2.06-.94-.94-2.06-.94 2.06-2.06.94zm-11 1L8.5 8.5l.94-2.06 2.06-.94-2.06-.94L8.5 2.5l-.94 2.06-2.06.94zm10 10l.94 2.06.94-2.06 2.06-.94-2.06-.94-.94-2.06-.94 2.06-2.06.94z\"/><path d=\"M17.41 7.96l-1.37-1.37c-.4-.4-.92-.59-1.43-.59-.52 0-1.04.2-1.43.59L10.3 9.45l-7.72 7.72c-.78.78-.78 2.05 0 2.83L4 21.41c.39.39.9.59 1.41.59.51 0 1.02-.2 1.41-.59l7.78-7.78 2.81-2.81c.8-.78.8-2.07 0-2.86zM5.41 20L4 18.59l7.72-7.72 1.47 1.35L5.41 20z\"/>\n",
              "  </svg>\n",
              "      </button>\n",
              "      \n",
              "  <style>\n",
              "    .colab-df-container {\n",
              "      display:flex;\n",
              "      flex-wrap:wrap;\n",
              "      gap: 12px;\n",
              "    }\n",
              "\n",
              "    .colab-df-convert {\n",
              "      background-color: #E8F0FE;\n",
              "      border: none;\n",
              "      border-radius: 50%;\n",
              "      cursor: pointer;\n",
              "      display: none;\n",
              "      fill: #1967D2;\n",
              "      height: 32px;\n",
              "      padding: 0 0 0 0;\n",
              "      width: 32px;\n",
              "    }\n",
              "\n",
              "    .colab-df-convert:hover {\n",
              "      background-color: #E2EBFA;\n",
              "      box-shadow: 0px 1px 2px rgba(60, 64, 67, 0.3), 0px 1px 3px 1px rgba(60, 64, 67, 0.15);\n",
              "      fill: #174EA6;\n",
              "    }\n",
              "\n",
              "    [theme=dark] .colab-df-convert {\n",
              "      background-color: #3B4455;\n",
              "      fill: #D2E3FC;\n",
              "    }\n",
              "\n",
              "    [theme=dark] .colab-df-convert:hover {\n",
              "      background-color: #434B5C;\n",
              "      box-shadow: 0px 1px 3px 1px rgba(0, 0, 0, 0.15);\n",
              "      filter: drop-shadow(0px 1px 2px rgba(0, 0, 0, 0.3));\n",
              "      fill: #FFFFFF;\n",
              "    }\n",
              "  </style>\n",
              "\n",
              "      <script>\n",
              "        const buttonEl =\n",
              "          document.querySelector('#df-39850bb4-040b-4a4a-baf5-5fac7bae47ce button.colab-df-convert');\n",
              "        buttonEl.style.display =\n",
              "          google.colab.kernel.accessAllowed ? 'block' : 'none';\n",
              "\n",
              "        async function convertToInteractive(key) {\n",
              "          const element = document.querySelector('#df-39850bb4-040b-4a4a-baf5-5fac7bae47ce');\n",
              "          const dataTable =\n",
              "            await google.colab.kernel.invokeFunction('convertToInteractive',\n",
              "                                                     [key], {});\n",
              "          if (!dataTable) return;\n",
              "\n",
              "          const docLinkHtml = 'Like what you see? Visit the ' +\n",
              "            '<a target=\"_blank\" href=https://colab.research.google.com/notebooks/data_table.ipynb>data table notebook</a>'\n",
              "            + ' to learn more about interactive tables.';\n",
              "          element.innerHTML = '';\n",
              "          dataTable['output_type'] = 'display_data';\n",
              "          await google.colab.output.renderOutput(dataTable, element);\n",
              "          const docLink = document.createElement('div');\n",
              "          docLink.innerHTML = docLinkHtml;\n",
              "          element.appendChild(docLink);\n",
              "        }\n",
              "      </script>\n",
              "    </div>\n",
              "  </div>\n",
              "  "
            ]
          },
          "metadata": {},
          "execution_count": 43
        }
      ]
    },
    {
      "cell_type": "code",
      "source": [
        "x = df_nu.drop(columns=['age','Pais','Año',' gdp_for_year ($) ','HDI for year','country-year','gdp_per_capita ($)','Poblacion'],axis=1)\n",
        "y= df_nu['age']"
      ],
      "metadata": {
        "id": "BxkYnkPv6JTO"
      },
      "execution_count": null,
      "outputs": []
    },
    {
      "cell_type": "markdown",
      "source": [
        "Realizamos la normalización de las variables númericas, esto después de haber mejorado ls distribución de las variables"
      ],
      "metadata": {
        "id": "J78vxpIZopxo"
      }
    },
    {
      "cell_type": "code",
      "source": [
        "def normalizar(df):\n",
        "  return (df-df.min())/(df.max()-df.min())"
      ],
      "metadata": {
        "id": "1jgfsXaEqFyi"
      },
      "execution_count": null,
      "outputs": []
    },
    {
      "cell_type": "code",
      "source": [
        "for columna in x.columns:\n",
        "  if columna == 'QSuicidios' or columna == 'Suicidios_c_100':\n",
        "    x[columna]= normalizar(x[columna])\n",
        "  else:\n",
        "    pass"
      ],
      "metadata": {
        "id": "IBxKYVZ_p9rP"
      },
      "execution_count": null,
      "outputs": []
    },
    {
      "cell_type": "code",
      "source": [
        "x"
      ],
      "metadata": {
        "colab": {
          "base_uri": "https://localhost:8080/",
          "height": 505
        },
        "id": "ru5Cnv4ErHxi",
        "outputId": "9fb8bf36-3d45-4da6-e3e9-4504eae5745d"
      },
      "execution_count": null,
      "outputs": [
        {
          "output_type": "execute_result",
          "data": {
            "text/plain": [
              "       QSuicidios  Suicidios_c_100  sex_female  sex_male  generacion_Boomers  \\\n",
              "0        0.051852         0.187221           0         1                   0   \n",
              "1        0.039506         0.144810           0         1                   0   \n",
              "2        0.034568         0.134766           1         0                   0   \n",
              "3        0.002469         0.128069           0         1                   0   \n",
              "4        0.022222         0.091518           0         1                   1   \n",
              "...           ...              ...         ...       ...                 ...   \n",
              "31751    0.632099         0.015933           1         0                   0   \n",
              "31752    0.256790         0.004393           1         0                   0   \n",
              "31753    0.585522         0.004300           1         0                   0   \n",
              "31754    0.034568         0.011414           1         0                   0   \n",
              "31755    0.007407         0.000258           1         0                   0   \n",
              "\n",
              "       generacion_G.I. Generation  generacion_Generation X  \\\n",
              "0                               0                        1   \n",
              "1                               0                        0   \n",
              "2                               0                        1   \n",
              "3                               1                        0   \n",
              "4                               0                        0   \n",
              "...                           ...                      ...   \n",
              "31751                           1                        0   \n",
              "31752                           1                        0   \n",
              "31753                           1                        0   \n",
              "31754                           1                        0   \n",
              "31755                           1                        0   \n",
              "\n",
              "       generacion_Generation Z  generacion_Millenials  generacion_Silent  \n",
              "0                            0                      0                  0  \n",
              "1                            0                      0                  1  \n",
              "2                            0                      0                  0  \n",
              "3                            0                      0                  0  \n",
              "4                            0                      0                  0  \n",
              "...                        ...                    ...                ...  \n",
              "31751                        0                      0                  0  \n",
              "31752                        0                      0                  0  \n",
              "31753                        0                      0                  0  \n",
              "31754                        0                      0                  0  \n",
              "31755                        0                      0                  0  \n",
              "\n",
              "[31756 rows x 10 columns]"
            ],
            "text/html": [
              "\n",
              "  <div id=\"df-b7a6c26d-7414-4092-ae63-b7fc943b337e\">\n",
              "    <div class=\"colab-df-container\">\n",
              "      <div>\n",
              "<style scoped>\n",
              "    .dataframe tbody tr th:only-of-type {\n",
              "        vertical-align: middle;\n",
              "    }\n",
              "\n",
              "    .dataframe tbody tr th {\n",
              "        vertical-align: top;\n",
              "    }\n",
              "\n",
              "    .dataframe thead th {\n",
              "        text-align: right;\n",
              "    }\n",
              "</style>\n",
              "<table border=\"1\" class=\"dataframe\">\n",
              "  <thead>\n",
              "    <tr style=\"text-align: right;\">\n",
              "      <th></th>\n",
              "      <th>QSuicidios</th>\n",
              "      <th>Suicidios_c_100</th>\n",
              "      <th>sex_female</th>\n",
              "      <th>sex_male</th>\n",
              "      <th>generacion_Boomers</th>\n",
              "      <th>generacion_G.I. Generation</th>\n",
              "      <th>generacion_Generation X</th>\n",
              "      <th>generacion_Generation Z</th>\n",
              "      <th>generacion_Millenials</th>\n",
              "      <th>generacion_Silent</th>\n",
              "    </tr>\n",
              "  </thead>\n",
              "  <tbody>\n",
              "    <tr>\n",
              "      <th>0</th>\n",
              "      <td>0.051852</td>\n",
              "      <td>0.187221</td>\n",
              "      <td>0</td>\n",
              "      <td>1</td>\n",
              "      <td>0</td>\n",
              "      <td>0</td>\n",
              "      <td>1</td>\n",
              "      <td>0</td>\n",
              "      <td>0</td>\n",
              "      <td>0</td>\n",
              "    </tr>\n",
              "    <tr>\n",
              "      <th>1</th>\n",
              "      <td>0.039506</td>\n",
              "      <td>0.144810</td>\n",
              "      <td>0</td>\n",
              "      <td>1</td>\n",
              "      <td>0</td>\n",
              "      <td>0</td>\n",
              "      <td>0</td>\n",
              "      <td>0</td>\n",
              "      <td>0</td>\n",
              "      <td>1</td>\n",
              "    </tr>\n",
              "    <tr>\n",
              "      <th>2</th>\n",
              "      <td>0.034568</td>\n",
              "      <td>0.134766</td>\n",
              "      <td>1</td>\n",
              "      <td>0</td>\n",
              "      <td>0</td>\n",
              "      <td>0</td>\n",
              "      <td>1</td>\n",
              "      <td>0</td>\n",
              "      <td>0</td>\n",
              "      <td>0</td>\n",
              "    </tr>\n",
              "    <tr>\n",
              "      <th>3</th>\n",
              "      <td>0.002469</td>\n",
              "      <td>0.128069</td>\n",
              "      <td>0</td>\n",
              "      <td>1</td>\n",
              "      <td>0</td>\n",
              "      <td>1</td>\n",
              "      <td>0</td>\n",
              "      <td>0</td>\n",
              "      <td>0</td>\n",
              "      <td>0</td>\n",
              "    </tr>\n",
              "    <tr>\n",
              "      <th>4</th>\n",
              "      <td>0.022222</td>\n",
              "      <td>0.091518</td>\n",
              "      <td>0</td>\n",
              "      <td>1</td>\n",
              "      <td>1</td>\n",
              "      <td>0</td>\n",
              "      <td>0</td>\n",
              "      <td>0</td>\n",
              "      <td>0</td>\n",
              "      <td>0</td>\n",
              "    </tr>\n",
              "    <tr>\n",
              "      <th>...</th>\n",
              "      <td>...</td>\n",
              "      <td>...</td>\n",
              "      <td>...</td>\n",
              "      <td>...</td>\n",
              "      <td>...</td>\n",
              "      <td>...</td>\n",
              "      <td>...</td>\n",
              "      <td>...</td>\n",
              "      <td>...</td>\n",
              "      <td>...</td>\n",
              "    </tr>\n",
              "    <tr>\n",
              "      <th>31751</th>\n",
              "      <td>0.632099</td>\n",
              "      <td>0.015933</td>\n",
              "      <td>1</td>\n",
              "      <td>0</td>\n",
              "      <td>0</td>\n",
              "      <td>1</td>\n",
              "      <td>0</td>\n",
              "      <td>0</td>\n",
              "      <td>0</td>\n",
              "      <td>0</td>\n",
              "    </tr>\n",
              "    <tr>\n",
              "      <th>31752</th>\n",
              "      <td>0.256790</td>\n",
              "      <td>0.004393</td>\n",
              "      <td>1</td>\n",
              "      <td>0</td>\n",
              "      <td>0</td>\n",
              "      <td>1</td>\n",
              "      <td>0</td>\n",
              "      <td>0</td>\n",
              "      <td>0</td>\n",
              "      <td>0</td>\n",
              "    </tr>\n",
              "    <tr>\n",
              "      <th>31753</th>\n",
              "      <td>0.585522</td>\n",
              "      <td>0.004300</td>\n",
              "      <td>1</td>\n",
              "      <td>0</td>\n",
              "      <td>0</td>\n",
              "      <td>1</td>\n",
              "      <td>0</td>\n",
              "      <td>0</td>\n",
              "      <td>0</td>\n",
              "      <td>0</td>\n",
              "    </tr>\n",
              "    <tr>\n",
              "      <th>31754</th>\n",
              "      <td>0.034568</td>\n",
              "      <td>0.011414</td>\n",
              "      <td>1</td>\n",
              "      <td>0</td>\n",
              "      <td>0</td>\n",
              "      <td>1</td>\n",
              "      <td>0</td>\n",
              "      <td>0</td>\n",
              "      <td>0</td>\n",
              "      <td>0</td>\n",
              "    </tr>\n",
              "    <tr>\n",
              "      <th>31755</th>\n",
              "      <td>0.007407</td>\n",
              "      <td>0.000258</td>\n",
              "      <td>1</td>\n",
              "      <td>0</td>\n",
              "      <td>0</td>\n",
              "      <td>1</td>\n",
              "      <td>0</td>\n",
              "      <td>0</td>\n",
              "      <td>0</td>\n",
              "      <td>0</td>\n",
              "    </tr>\n",
              "  </tbody>\n",
              "</table>\n",
              "<p>31756 rows × 10 columns</p>\n",
              "</div>\n",
              "      <button class=\"colab-df-convert\" onclick=\"convertToInteractive('df-b7a6c26d-7414-4092-ae63-b7fc943b337e')\"\n",
              "              title=\"Convert this dataframe to an interactive table.\"\n",
              "              style=\"display:none;\">\n",
              "        \n",
              "  <svg xmlns=\"http://www.w3.org/2000/svg\" height=\"24px\"viewBox=\"0 0 24 24\"\n",
              "       width=\"24px\">\n",
              "    <path d=\"M0 0h24v24H0V0z\" fill=\"none\"/>\n",
              "    <path d=\"M18.56 5.44l.94 2.06.94-2.06 2.06-.94-2.06-.94-.94-2.06-.94 2.06-2.06.94zm-11 1L8.5 8.5l.94-2.06 2.06-.94-2.06-.94L8.5 2.5l-.94 2.06-2.06.94zm10 10l.94 2.06.94-2.06 2.06-.94-2.06-.94-.94-2.06-.94 2.06-2.06.94z\"/><path d=\"M17.41 7.96l-1.37-1.37c-.4-.4-.92-.59-1.43-.59-.52 0-1.04.2-1.43.59L10.3 9.45l-7.72 7.72c-.78.78-.78 2.05 0 2.83L4 21.41c.39.39.9.59 1.41.59.51 0 1.02-.2 1.41-.59l7.78-7.78 2.81-2.81c.8-.78.8-2.07 0-2.86zM5.41 20L4 18.59l7.72-7.72 1.47 1.35L5.41 20z\"/>\n",
              "  </svg>\n",
              "      </button>\n",
              "      \n",
              "  <style>\n",
              "    .colab-df-container {\n",
              "      display:flex;\n",
              "      flex-wrap:wrap;\n",
              "      gap: 12px;\n",
              "    }\n",
              "\n",
              "    .colab-df-convert {\n",
              "      background-color: #E8F0FE;\n",
              "      border: none;\n",
              "      border-radius: 50%;\n",
              "      cursor: pointer;\n",
              "      display: none;\n",
              "      fill: #1967D2;\n",
              "      height: 32px;\n",
              "      padding: 0 0 0 0;\n",
              "      width: 32px;\n",
              "    }\n",
              "\n",
              "    .colab-df-convert:hover {\n",
              "      background-color: #E2EBFA;\n",
              "      box-shadow: 0px 1px 2px rgba(60, 64, 67, 0.3), 0px 1px 3px 1px rgba(60, 64, 67, 0.15);\n",
              "      fill: #174EA6;\n",
              "    }\n",
              "\n",
              "    [theme=dark] .colab-df-convert {\n",
              "      background-color: #3B4455;\n",
              "      fill: #D2E3FC;\n",
              "    }\n",
              "\n",
              "    [theme=dark] .colab-df-convert:hover {\n",
              "      background-color: #434B5C;\n",
              "      box-shadow: 0px 1px 3px 1px rgba(0, 0, 0, 0.15);\n",
              "      filter: drop-shadow(0px 1px 2px rgba(0, 0, 0, 0.3));\n",
              "      fill: #FFFFFF;\n",
              "    }\n",
              "  </style>\n",
              "\n",
              "      <script>\n",
              "        const buttonEl =\n",
              "          document.querySelector('#df-b7a6c26d-7414-4092-ae63-b7fc943b337e button.colab-df-convert');\n",
              "        buttonEl.style.display =\n",
              "          google.colab.kernel.accessAllowed ? 'block' : 'none';\n",
              "\n",
              "        async function convertToInteractive(key) {\n",
              "          const element = document.querySelector('#df-b7a6c26d-7414-4092-ae63-b7fc943b337e');\n",
              "          const dataTable =\n",
              "            await google.colab.kernel.invokeFunction('convertToInteractive',\n",
              "                                                     [key], {});\n",
              "          if (!dataTable) return;\n",
              "\n",
              "          const docLinkHtml = 'Like what you see? Visit the ' +\n",
              "            '<a target=\"_blank\" href=https://colab.research.google.com/notebooks/data_table.ipynb>data table notebook</a>'\n",
              "            + ' to learn more about interactive tables.';\n",
              "          element.innerHTML = '';\n",
              "          dataTable['output_type'] = 'display_data';\n",
              "          await google.colab.output.renderOutput(dataTable, element);\n",
              "          const docLink = document.createElement('div');\n",
              "          docLink.innerHTML = docLinkHtml;\n",
              "          element.appendChild(docLink);\n",
              "        }\n",
              "      </script>\n",
              "    </div>\n",
              "  </div>\n",
              "  "
            ]
          },
          "metadata": {},
          "execution_count": 59
        }
      ]
    },
    {
      "cell_type": "markdown",
      "source": [
        "#Preparamos el modelo"
      ],
      "metadata": {
        "id": "PDvyC29xL58Y"
      }
    },
    {
      "cell_type": "code",
      "source": [
        "from sklearn.model_selection import train_test_split\n",
        "x_train, X_test, y_train, y_test = train_test_split(x, y, test_size=0.30, random_state=42)"
      ],
      "metadata": {
        "id": "zfTdOgo_0_xD"
      },
      "execution_count": null,
      "outputs": []
    },
    {
      "cell_type": "markdown",
      "source": [
        "##Entrenando el modelo"
      ],
      "metadata": {
        "id": "AGMFdrhhL-8U"
      }
    },
    {
      "cell_type": "markdown",
      "source": [
        "##1. Árbol de clasificación"
      ],
      "metadata": {
        "id": "sWwXfEaGt14y"
      }
    },
    {
      "cell_type": "code",
      "source": [
        "from sklearn import metrics"
      ],
      "metadata": {
        "id": "lnaQGwpz6jCv"
      },
      "execution_count": null,
      "outputs": []
    },
    {
      "cell_type": "code",
      "source": [
        "from sklearn import tree\n",
        "clf = tree.DecisionTreeClassifier()\n",
        "clf = clf.fit(x_train, y_train)"
      ],
      "metadata": {
        "id": "csS1V2Wf0_5h"
      },
      "execution_count": null,
      "outputs": []
    },
    {
      "cell_type": "code",
      "source": [
        "y_train.unique()"
      ],
      "metadata": {
        "colab": {
          "base_uri": "https://localhost:8080/"
        },
        "id": "Um5gv9RR7WAD",
        "outputId": "4a9b5a7e-b916-42a6-f857-932d705c4a96"
      },
      "execution_count": null,
      "outputs": [
        {
          "output_type": "execute_result",
          "data": {
            "text/plain": [
              "array(['15-24 years', '25-34 years', '35-54 years', '5-14 years',\n",
              "       '75+ years', '55-74 years'], dtype=object)"
            ]
          },
          "metadata": {},
          "execution_count": 114
        }
      ]
    },
    {
      "cell_type": "code",
      "source": [
        "# fig = plt.figure(figsize=(12,10))\n",
        "# _ = tree.plot_tree(clf, feature_names=x_train.columns,\n",
        "#                   class_names=y_train.unique(),\n",
        "#                   filled=True)"
      ],
      "metadata": {
        "id": "_i8uytv77Z2X"
      },
      "execution_count": null,
      "outputs": []
    },
    {
      "cell_type": "code",
      "source": [
        "y_pred = clf.predict(X_test)"
      ],
      "metadata": {
        "id": "yM2c_-faA8dH"
      },
      "execution_count": null,
      "outputs": []
    },
    {
      "cell_type": "markdown",
      "source": [
        "Validación del modelo"
      ],
      "metadata": {
        "id": "J5zW50mSMGXp"
      }
    },
    {
      "cell_type": "code",
      "source": [
        "from sklearn.metrics import classification_report\n",
        "print(classification_report(y_true=y_test, y_pred=y_pred))"
      ],
      "metadata": {
        "colab": {
          "base_uri": "https://localhost:8080/"
        },
        "id": "bQIsR1NX9e6f",
        "outputId": "3a3768e6-156e-43b8-b835-ada5a38345a6"
      },
      "execution_count": null,
      "outputs": [
        {
          "output_type": "stream",
          "name": "stdout",
          "text": [
            "              precision    recall  f1-score   support\n",
            "\n",
            " 15-24 years       0.50      0.69      0.58      1060\n",
            " 25-34 years       0.58      0.50      0.54      1702\n",
            " 35-54 years       0.66      0.65      0.65      1548\n",
            "  5-14 years       0.95      0.89      0.92      2001\n",
            " 55-74 years       0.48      0.57      0.52      1287\n",
            "   75+ years       0.79      0.68      0.73      1929\n",
            "\n",
            "    accuracy                           0.67      9527\n",
            "   macro avg       0.66      0.66      0.66      9527\n",
            "weighted avg       0.69      0.67      0.68      9527\n",
            "\n"
          ]
        }
      ]
    },
    {
      "cell_type": "code",
      "source": [
        "from sklearn.metrics import confusion_matrix\n",
        "confusion_matrix(y_test, y_pred)"
      ],
      "metadata": {
        "colab": {
          "base_uri": "https://localhost:8080/"
        },
        "id": "n8aQl9u2OZm_",
        "outputId": "cd7b1b71-6377-49a5-ca6e-9dcb76b9df49"
      },
      "execution_count": null,
      "outputs": [
        {
          "output_type": "execute_result",
          "data": {
            "text/plain": [
              "array([[ 730,  248,   16,   66,    0,    0],\n",
              "       [ 553,  850,  266,   21,   12,    0],\n",
              "       [   0,  333, 1003,    0,  212,    0],\n",
              "       [ 163,   39,   13, 1786,    0,    0],\n",
              "       [   0,    0,  203,    0,  737,  347],\n",
              "       [   0,    0,   30,    0,  578, 1321]])"
            ]
          },
          "metadata": {},
          "execution_count": 117
        }
      ]
    },
    {
      "cell_type": "code",
      "source": [
        "print(f'Accuracy: {metrics.accuracy_score(y_test,y_pred)}')"
      ],
      "metadata": {
        "colab": {
          "base_uri": "https://localhost:8080/"
        },
        "id": "e7mffXyh7OsY",
        "outputId": "bacd8b3e-c709-429a-c283-6a3acbd465ab"
      },
      "execution_count": null,
      "outputs": [
        {
          "output_type": "stream",
          "name": "stdout",
          "text": [
            "Accuracy: 0.6746090059829957\n"
          ]
        }
      ]
    },
    {
      "cell_type": "markdown",
      "source": [
        "##2. Bosques aleatorios"
      ],
      "metadata": {
        "id": "oaRNqoZLwkr0"
      }
    },
    {
      "cell_type": "code",
      "source": [
        "from sklearn.ensemble import RandomForestClassifier"
      ],
      "metadata": {
        "id": "X9t1VdfG-E6h"
      },
      "execution_count": null,
      "outputs": []
    },
    {
      "cell_type": "code",
      "source": [
        "clf = RandomForestClassifier(max_depth=5, random_state=42, n_estimators=30, criterion='gini')\n",
        "clf.fit(x_train, y_train)"
      ],
      "metadata": {
        "colab": {
          "base_uri": "https://localhost:8080/"
        },
        "id": "jbGX43xJw2Og",
        "outputId": "419c615a-5dd7-4aa5-d227-dfc3ce2b6f2e"
      },
      "execution_count": null,
      "outputs": [
        {
          "output_type": "execute_result",
          "data": {
            "text/plain": [
              "RandomForestClassifier(max_depth=5, n_estimators=30, random_state=42)"
            ]
          },
          "metadata": {},
          "execution_count": 108
        }
      ]
    },
    {
      "cell_type": "code",
      "source": [
        "y_test= clf.predict(X_test)"
      ],
      "metadata": {
        "id": "pN_tf2JA1fMk"
      },
      "execution_count": null,
      "outputs": []
    },
    {
      "cell_type": "code",
      "source": [
        "print(classification_report(y_pred=y_pred, y_true=y_test))"
      ],
      "metadata": {
        "colab": {
          "base_uri": "https://localhost:8080/"
        },
        "id": "kEzQh0yVw2Jb",
        "outputId": "6f32aca2-d0a1-4a00-9cd0-dd11d450a2b9"
      },
      "execution_count": null,
      "outputs": [
        {
          "output_type": "stream",
          "name": "stdout",
          "text": [
            "              precision    recall  f1-score   support\n",
            "\n",
            " 15-24 years       0.51      0.69      0.59      1060\n",
            " 25-34 years       0.58      0.49      0.53      1702\n",
            " 35-54 years       0.65      0.64      0.65      1548\n",
            "  5-14 years       0.95      0.90      0.92      2001\n",
            " 55-74 years       0.47      0.57      0.52      1287\n",
            "   75+ years       0.79      0.68      0.73      1929\n",
            "\n",
            "    accuracy                           0.67      9527\n",
            "   macro avg       0.66      0.66      0.66      9527\n",
            "weighted avg       0.69      0.67      0.68      9527\n",
            "\n"
          ]
        }
      ]
    },
    {
      "cell_type": "code",
      "source": [
        "confusion_matrix(y_test, y_pred)"
      ],
      "metadata": {
        "colab": {
          "base_uri": "https://localhost:8080/"
        },
        "id": "OdKMivsNw2DX",
        "outputId": "53ffbe9a-b837-49fa-9597-cd3bc60b763d"
      },
      "execution_count": null,
      "outputs": [
        {
          "output_type": "execute_result",
          "data": {
            "text/plain": [
              "array([[ 733,  246,   14,   67,    0,    0],\n",
              "       [ 558,  842,  267,   21,   14,    0],\n",
              "       [   0,  333,  993,    0,  222,    0],\n",
              "       [ 153,   42,   13, 1793,    0,    0],\n",
              "       [   0,    0,  206,    0,  734,  347],\n",
              "       [   0,    0,   26,    0,  584, 1319]])"
            ]
          },
          "metadata": {},
          "execution_count": 111
        }
      ]
    },
    {
      "cell_type": "code",
      "source": [
        "print(f'Accuracy: {metrics.accuracy_score(y_test,y_pred)}')"
      ],
      "metadata": {
        "colab": {
          "base_uri": "https://localhost:8080/"
        },
        "id": "FJVXyN0M6waE",
        "outputId": "12dd5d6a-8f11-44a3-d7e2-3d02a54aa527"
      },
      "execution_count": null,
      "outputs": [
        {
          "output_type": "stream",
          "name": "stdout",
          "text": [
            "Accuracy: 0.6732444631048599\n"
          ]
        }
      ]
    },
    {
      "cell_type": "markdown",
      "source": [
        "##3. KNN\n"
      ],
      "metadata": {
        "id": "vucqEiAI0TfH"
      }
    },
    {
      "cell_type": "code",
      "source": [
        "from sklearn.neighbors import KNeighborsClassifier"
      ],
      "metadata": {
        "id": "rPKi1pjUzDcc"
      },
      "execution_count": null,
      "outputs": []
    },
    {
      "cell_type": "code",
      "source": [
        "neigh = KNeighborsClassifier(n_neighbors=20)\n",
        "neigh.fit(x_train, y_train)"
      ],
      "metadata": {
        "colab": {
          "base_uri": "https://localhost:8080/"
        },
        "id": "pMPyZKk1zDZN",
        "outputId": "f89d1e87-79da-488a-908f-7f6debe89ebb"
      },
      "execution_count": null,
      "outputs": [
        {
          "output_type": "execute_result",
          "data": {
            "text/plain": [
              "KNeighborsClassifier(n_neighbors=20)"
            ]
          },
          "metadata": {},
          "execution_count": 99
        }
      ]
    },
    {
      "cell_type": "code",
      "source": [
        "y_test=neigh.predict(X_test)\n",
        "y_test"
      ],
      "metadata": {
        "colab": {
          "base_uri": "https://localhost:8080/"
        },
        "id": "wKvLfbNgzDWw",
        "outputId": "c7a1c813-5f2d-46d1-8ad7-5dc0683bbd94"
      },
      "execution_count": null,
      "outputs": [
        {
          "output_type": "execute_result",
          "data": {
            "text/plain": [
              "array(['25-34 years', '75+ years', '55-74 years', ..., '75+ years',\n",
              "       '35-54 years', '5-14 years'], dtype=object)"
            ]
          },
          "metadata": {},
          "execution_count": 100
        }
      ]
    },
    {
      "cell_type": "code",
      "source": [
        "print(classification_report(y_pred=y_pred, y_true=y_test))"
      ],
      "metadata": {
        "colab": {
          "base_uri": "https://localhost:8080/"
        },
        "id": "O--i-wNdzDU4",
        "outputId": "fc435baa-a438-494f-8ed6-810a4175562d"
      },
      "execution_count": null,
      "outputs": [
        {
          "output_type": "stream",
          "name": "stdout",
          "text": [
            "              precision    recall  f1-score   support\n",
            "\n",
            " 15-24 years       0.74      0.62      0.67      1710\n",
            " 25-34 years       0.50      0.58      0.54      1260\n",
            " 35-54 years       0.67      0.67      0.67      1529\n",
            "  5-14 years       0.91      0.92      0.91      1871\n",
            " 55-74 years       0.57      0.60      0.58      1489\n",
            "   75+ years       0.72      0.72      0.72      1668\n",
            "\n",
            "    accuracy                           0.69      9527\n",
            "   macro avg       0.68      0.68      0.68      9527\n",
            "weighted avg       0.70      0.69      0.70      9527\n",
            "\n"
          ]
        }
      ]
    },
    {
      "cell_type": "code",
      "source": [
        "confusion_matrix(y_test, y_pred)"
      ],
      "metadata": {
        "colab": {
          "base_uri": "https://localhost:8080/"
        },
        "id": "YmW3gkQRzDTB",
        "outputId": "ad9227fc-7d6f-4d72-99c3-c7a8bfb6deca"
      },
      "execution_count": null,
      "outputs": [
        {
          "output_type": "execute_result",
          "data": {
            "text/plain": [
              "array([[1062,  416,   78,  154,    0,    0],\n",
              "       [ 253,  731,  224,   12,   40,    0],\n",
              "       [  16,  282, 1017,    0,  202,   12],\n",
              "       [ 113,   32,   11, 1715,    0,    0],\n",
              "       [   0,    2,  141,    0,  890,  456],\n",
              "       [   0,    0,   48,    0,  422, 1198]])"
            ]
          },
          "metadata": {},
          "execution_count": 102
        }
      ]
    },
    {
      "cell_type": "code",
      "source": [
        "print(f'Accuracy: {metrics.accuracy_score(y_test,y_pred)}')\n"
      ],
      "metadata": {
        "colab": {
          "base_uri": "https://localhost:8080/"
        },
        "id": "XDdg9CAezDN8",
        "outputId": "8d6ce206-ef29-4f28-c3be-cb90bf9d4e79"
      },
      "execution_count": null,
      "outputs": [
        {
          "output_type": "stream",
          "name": "stdout",
          "text": [
            "Accuracy: 0.694132465624016\n"
          ]
        }
      ]
    },
    {
      "cell_type": "markdown",
      "source": [
        "# Conclusiones"
      ],
      "metadata": {
        "id": "iYayq202GDNA"
      }
    },
    {
      "cell_type": "markdown",
      "source": [
        "En terminos generales el modelo KNN presenta mejores resultados en las evaluaciones realizadas a los 3 modelos, opteniendo así mejor accuracy e incluso mejor precisión y f1 score, respecto a los modelos de arbol de decisión y bosques aleatorios sus metricas presentan resultados equiparables en muchos aspectos. A pesar de, nos resultados en general no son muy buenos dado que en las matrices de confusión se evidencian muchos falsos positivos y falsos negativos y se esperaban mejores resultados para la diagonal principal en algunos de los tres modelos, además de esto, ningún accuracy presentó resultados por encima del 0.70 en la validación de un modelo normalizado, estandarizado, etc; la proxima validación podria ser con redes neurales para que procesen mejor las multiples variables correspondientes a la variable dependiente"
      ],
      "metadata": {
        "id": "G0k2zxNsD5xr"
      }
    },
    {
      "cell_type": "markdown",
      "source": [
        "El siguiente tablero que muestra 4 graficas de las cuales 2 de ellas están generadas con python y la libreria matplotlib, hacen parte del analisis exploratio; asímismo todo el procesamiento de datos se realizó con python"
      ],
      "metadata": {
        "id": "VIQJsyWJaWLn"
      }
    },
    {
      "cell_type": "markdown",
      "source": [
        "![image.png](data:image/png;base64,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)![image.png]()"
      ],
      "metadata": {
        "id": "qyBdXZ8IZ57j"
      }
    }
  ]
}